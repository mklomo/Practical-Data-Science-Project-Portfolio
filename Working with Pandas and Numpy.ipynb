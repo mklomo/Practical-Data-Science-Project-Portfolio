{
 "cells": [
  {
   "cell_type": "markdown",
   "id": "23776b6c",
   "metadata": {},
   "source": [
    "# Loading and Wrangling Data with Pandas and NumPy\n",
    "\n",
    "\n",
    "Data sources come in many formats: plain text files, CSVs, SQL databases, Excel files, and many more. Python that takes the cake when it comes to data preparation: pandas. The pandas library is a core tool for a data scientist, and we will learn how to use it effectively in this chapter. "
   ]
  },
  {
   "cell_type": "code",
   "execution_count": 1,
   "id": "ef4f441c",
   "metadata": {},
   "outputs": [
    {
     "data": {
      "text/html": [
       "<div>\n",
       "<style scoped>\n",
       "    .dataframe tbody tr th:only-of-type {\n",
       "        vertical-align: middle;\n",
       "    }\n",
       "\n",
       "    .dataframe tbody tr th {\n",
       "        vertical-align: top;\n",
       "    }\n",
       "\n",
       "    .dataframe thead th {\n",
       "        text-align: right;\n",
       "    }\n",
       "</style>\n",
       "<table border=\"1\" class=\"dataframe\">\n",
       "  <thead>\n",
       "    <tr style=\"text-align: right;\">\n",
       "      <th></th>\n",
       "      <th>TrackId</th>\n",
       "      <th>Name</th>\n",
       "      <th>AlbumId</th>\n",
       "      <th>MediaTypeId</th>\n",
       "      <th>GenreId</th>\n",
       "      <th>Composer</th>\n",
       "      <th>Milliseconds</th>\n",
       "      <th>Bytes</th>\n",
       "      <th>UnitPrice</th>\n",
       "    </tr>\n",
       "  </thead>\n",
       "  <tbody>\n",
       "    <tr>\n",
       "      <th>0</th>\n",
       "      <td>1</td>\n",
       "      <td>For Those About To Rock (We Salute You)</td>\n",
       "      <td>1</td>\n",
       "      <td>1</td>\n",
       "      <td>1</td>\n",
       "      <td>Angus Young, Malcolm Young, Brian Johnson</td>\n",
       "      <td>343719</td>\n",
       "      <td>11170334</td>\n",
       "      <td>0.99</td>\n",
       "    </tr>\n",
       "    <tr>\n",
       "      <th>1</th>\n",
       "      <td>2</td>\n",
       "      <td>Balls to the Wall</td>\n",
       "      <td>2</td>\n",
       "      <td>2</td>\n",
       "      <td>1</td>\n",
       "      <td>NaN</td>\n",
       "      <td>342562</td>\n",
       "      <td>5510424</td>\n",
       "      <td>0.99</td>\n",
       "    </tr>\n",
       "    <tr>\n",
       "      <th>2</th>\n",
       "      <td>3</td>\n",
       "      <td>Fast As a Shark</td>\n",
       "      <td>3</td>\n",
       "      <td>2</td>\n",
       "      <td>1</td>\n",
       "      <td>F. Baltes, S. Kaufman, U. Dirkscneider &amp; W. Ho...</td>\n",
       "      <td>230619</td>\n",
       "      <td>3990994</td>\n",
       "      <td>0.99</td>\n",
       "    </tr>\n",
       "    <tr>\n",
       "      <th>3</th>\n",
       "      <td>4</td>\n",
       "      <td>Restless and Wild</td>\n",
       "      <td>3</td>\n",
       "      <td>2</td>\n",
       "      <td>1</td>\n",
       "      <td>F. Baltes, R.A. Smith-Diesel, S. Kaufman, U. D...</td>\n",
       "      <td>252051</td>\n",
       "      <td>4331779</td>\n",
       "      <td>0.99</td>\n",
       "    </tr>\n",
       "    <tr>\n",
       "      <th>4</th>\n",
       "      <td>5</td>\n",
       "      <td>Princess of the Dawn</td>\n",
       "      <td>3</td>\n",
       "      <td>2</td>\n",
       "      <td>1</td>\n",
       "      <td>Deaffy &amp; R.A. Smith-Diesel</td>\n",
       "      <td>375418</td>\n",
       "      <td>6290521</td>\n",
       "      <td>0.99</td>\n",
       "    </tr>\n",
       "  </tbody>\n",
       "</table>\n",
       "</div>"
      ],
      "text/plain": [
       "   TrackId                                     Name  AlbumId  MediaTypeId  \\\n",
       "0        1  For Those About To Rock (We Salute You)        1            1   \n",
       "1        2                        Balls to the Wall        2            2   \n",
       "2        3                          Fast As a Shark        3            2   \n",
       "3        4                        Restless and Wild        3            2   \n",
       "4        5                     Princess of the Dawn        3            2   \n",
       "\n",
       "   GenreId                                           Composer  Milliseconds  \\\n",
       "0        1          Angus Young, Malcolm Young, Brian Johnson        343719   \n",
       "1        1                                                NaN        342562   \n",
       "2        1  F. Baltes, S. Kaufman, U. Dirkscneider & W. Ho...        230619   \n",
       "3        1  F. Baltes, R.A. Smith-Diesel, S. Kaufman, U. D...        252051   \n",
       "4        1                         Deaffy & R.A. Smith-Diesel        375418   \n",
       "\n",
       "      Bytes  UnitPrice  \n",
       "0  11170334       0.99  \n",
       "1   5510424       0.99  \n",
       "2   3990994       0.99  \n",
       "3   4331779       0.99  \n",
       "4   6290521       0.99  "
      ]
     },
     "execution_count": 1,
     "metadata": {},
     "output_type": "execute_result"
    }
   ],
   "source": [
    "# Import the Pandas Library\n",
    "\n",
    "import pandas as pd\n",
    "\n",
    "track_df = pd.read_csv(r'data\\itunes_data.csv')\n",
    "\n",
    "# Preview the first 5 rows of the dataframe\n",
    "track_df.head()"
   ]
  },
  {
   "cell_type": "markdown",
   "id": "335c744b",
   "metadata": {},
   "source": [
    "> Note that big data can indeed be handled in pandas. One method is using the chunksize argument in read_csv to read a chunk of the data at a time. A few Python packages that can also help with reading big data in pandas are dask and modin, which can utilize clusters of computers (for example, on AWS or GCP cloud resources)."
   ]
  },
  {
   "cell_type": "markdown",
   "id": "ff06f785",
   "metadata": {},
   "source": [
    "## Reading Excel Files\n",
    "\n",
    "The function call to read_excel is similar to read_csv, except we are providing an engine (library) to read the **excel** data with."
   ]
  },
  {
   "cell_type": "code",
   "execution_count": 2,
   "id": "45b88cec",
   "metadata": {},
   "outputs": [
    {
     "data": {
      "text/html": [
       "<div>\n",
       "<style scoped>\n",
       "    .dataframe tbody tr th:only-of-type {\n",
       "        vertical-align: middle;\n",
       "    }\n",
       "\n",
       "    .dataframe tbody tr th {\n",
       "        vertical-align: top;\n",
       "    }\n",
       "\n",
       "    .dataframe thead th {\n",
       "        text-align: right;\n",
       "    }\n",
       "</style>\n",
       "<table border=\"1\" class=\"dataframe\">\n",
       "  <thead>\n",
       "    <tr style=\"text-align: right;\">\n",
       "      <th></th>\n",
       "      <th>TrackId</th>\n",
       "      <th>Name</th>\n",
       "      <th>AlbumId</th>\n",
       "      <th>MediaTypeId</th>\n",
       "      <th>GenreId</th>\n",
       "      <th>Composer</th>\n",
       "      <th>Milliseconds</th>\n",
       "      <th>Bytes</th>\n",
       "      <th>UnitPrice</th>\n",
       "    </tr>\n",
       "  </thead>\n",
       "  <tbody>\n",
       "    <tr>\n",
       "      <th>0</th>\n",
       "      <td>1</td>\n",
       "      <td>For Those About To Rock (We Salute You)</td>\n",
       "      <td>1</td>\n",
       "      <td>1</td>\n",
       "      <td>1</td>\n",
       "      <td>Angus Young, Malcolm Young, Brian Johnson</td>\n",
       "      <td>343719</td>\n",
       "      <td>11170334</td>\n",
       "      <td>0.99</td>\n",
       "    </tr>\n",
       "    <tr>\n",
       "      <th>1</th>\n",
       "      <td>2</td>\n",
       "      <td>Balls to the Wall</td>\n",
       "      <td>2</td>\n",
       "      <td>2</td>\n",
       "      <td>1</td>\n",
       "      <td>NaN</td>\n",
       "      <td>342562</td>\n",
       "      <td>5510424</td>\n",
       "      <td>0.99</td>\n",
       "    </tr>\n",
       "    <tr>\n",
       "      <th>2</th>\n",
       "      <td>3</td>\n",
       "      <td>Fast As a Shark</td>\n",
       "      <td>3</td>\n",
       "      <td>2</td>\n",
       "      <td>1</td>\n",
       "      <td>F. Baltes, S. Kaufman, U. Dirkscneider &amp; W. Ho...</td>\n",
       "      <td>230619</td>\n",
       "      <td>3990994</td>\n",
       "      <td>0.99</td>\n",
       "    </tr>\n",
       "    <tr>\n",
       "      <th>3</th>\n",
       "      <td>4</td>\n",
       "      <td>Restless and Wild</td>\n",
       "      <td>3</td>\n",
       "      <td>2</td>\n",
       "      <td>1</td>\n",
       "      <td>F. Baltes, R.A. Smith-Diesel, S. Kaufman, U. D...</td>\n",
       "      <td>252051</td>\n",
       "      <td>4331779</td>\n",
       "      <td>0.99</td>\n",
       "    </tr>\n",
       "    <tr>\n",
       "      <th>4</th>\n",
       "      <td>5</td>\n",
       "      <td>Princess of the Dawn</td>\n",
       "      <td>3</td>\n",
       "      <td>2</td>\n",
       "      <td>1</td>\n",
       "      <td>Deaffy &amp; R.A. Smith-Diesel</td>\n",
       "      <td>375418</td>\n",
       "      <td>6290521</td>\n",
       "      <td>0.99</td>\n",
       "    </tr>\n",
       "  </tbody>\n",
       "</table>\n",
       "</div>"
      ],
      "text/plain": [
       "   TrackId                                     Name  AlbumId  MediaTypeId  \\\n",
       "0        1  For Those About To Rock (We Salute You)        1            1   \n",
       "1        2                        Balls to the Wall        2            2   \n",
       "2        3                          Fast As a Shark        3            2   \n",
       "3        4                        Restless and Wild        3            2   \n",
       "4        5                     Princess of the Dawn        3            2   \n",
       "\n",
       "   GenreId                                           Composer  Milliseconds  \\\n",
       "0        1          Angus Young, Malcolm Young, Brian Johnson        343719   \n",
       "1        1                                                NaN        342562   \n",
       "2        1  F. Baltes, S. Kaufman, U. Dirkscneider & W. Ho...        230619   \n",
       "3        1  F. Baltes, R.A. Smith-Diesel, S. Kaufman, U. D...        252051   \n",
       "4        1                         Deaffy & R.A. Smith-Diesel        375418   \n",
       "\n",
       "      Bytes  UnitPrice  \n",
       "0  11170334       0.99  \n",
       "1   5510424       0.99  \n",
       "2   3990994       0.99  \n",
       "3   4331779       0.99  \n",
       "4   6290521       0.99  "
      ]
     },
     "execution_count": 2,
     "metadata": {},
     "output_type": "execute_result"
    }
   ],
   "source": [
    "import openpyxl\n",
    "\n",
    "excel_df = pd.read_excel(r'data\\itunes_data_xl.xlsx', engine = 'openpyxl')\n",
    "\n",
    "excel_df.head()"
   ]
  },
  {
   "cell_type": "markdown",
   "id": "e1539af1",
   "metadata": {},
   "source": [
    "## Reading Database Tables\n",
    "\n",
    "Let's get the full data from the chinook SQLite database. Pandas has a few methods for loading from SQL, but we'll use the pd.read_sql_query() function. First, we need to create our engine that will connect to our database with SQLAlchemy."
   ]
  },
  {
   "cell_type": "code",
   "execution_count": 3,
   "id": "885d9076",
   "metadata": {},
   "outputs": [
    {
     "data": {
      "text/html": [
       "<div>\n",
       "<style scoped>\n",
       "    .dataframe tbody tr th:only-of-type {\n",
       "        vertical-align: middle;\n",
       "    }\n",
       "\n",
       "    .dataframe tbody tr th {\n",
       "        vertical-align: top;\n",
       "    }\n",
       "\n",
       "    .dataframe thead th {\n",
       "        text-align: right;\n",
       "    }\n",
       "</style>\n",
       "<table border=\"1\" class=\"dataframe\">\n",
       "  <thead>\n",
       "    <tr style=\"text-align: right;\">\n",
       "      <th></th>\n",
       "      <th>Track</th>\n",
       "      <th>Composer</th>\n",
       "      <th>Bytes</th>\n",
       "      <th>UnitPrice</th>\n",
       "      <th>Genre</th>\n",
       "      <th>Album</th>\n",
       "      <th>Artist</th>\n",
       "    </tr>\n",
       "  </thead>\n",
       "  <tbody>\n",
       "    <tr>\n",
       "      <th>0</th>\n",
       "      <td>For Those About To Rock (We Salute You)</td>\n",
       "      <td>Angus Young, Malcolm Young, Brian Johnson</td>\n",
       "      <td>11170334</td>\n",
       "      <td>0.99</td>\n",
       "      <td>Rock</td>\n",
       "      <td>For Those About To Rock We Salute You</td>\n",
       "      <td>AC/DC</td>\n",
       "    </tr>\n",
       "    <tr>\n",
       "      <th>1</th>\n",
       "      <td>Put The Finger On You</td>\n",
       "      <td>Angus Young, Malcolm Young, Brian Johnson</td>\n",
       "      <td>6713451</td>\n",
       "      <td>0.99</td>\n",
       "      <td>Rock</td>\n",
       "      <td>For Those About To Rock We Salute You</td>\n",
       "      <td>AC/DC</td>\n",
       "    </tr>\n",
       "    <tr>\n",
       "      <th>2</th>\n",
       "      <td>Let's Get It Up</td>\n",
       "      <td>Angus Young, Malcolm Young, Brian Johnson</td>\n",
       "      <td>7636561</td>\n",
       "      <td>0.99</td>\n",
       "      <td>Rock</td>\n",
       "      <td>For Those About To Rock We Salute You</td>\n",
       "      <td>AC/DC</td>\n",
       "    </tr>\n",
       "    <tr>\n",
       "      <th>3</th>\n",
       "      <td>Inject The Venom</td>\n",
       "      <td>Angus Young, Malcolm Young, Brian Johnson</td>\n",
       "      <td>6852860</td>\n",
       "      <td>0.99</td>\n",
       "      <td>Rock</td>\n",
       "      <td>For Those About To Rock We Salute You</td>\n",
       "      <td>AC/DC</td>\n",
       "    </tr>\n",
       "    <tr>\n",
       "      <th>4</th>\n",
       "      <td>Snowballed</td>\n",
       "      <td>Angus Young, Malcolm Young, Brian Johnson</td>\n",
       "      <td>6599424</td>\n",
       "      <td>0.99</td>\n",
       "      <td>Rock</td>\n",
       "      <td>For Those About To Rock We Salute You</td>\n",
       "      <td>AC/DC</td>\n",
       "    </tr>\n",
       "  </tbody>\n",
       "</table>\n",
       "</div>"
      ],
      "text/plain": [
       "                                     Track  \\\n",
       "0  For Those About To Rock (We Salute You)   \n",
       "1                    Put The Finger On You   \n",
       "2                          Let's Get It Up   \n",
       "3                         Inject The Venom   \n",
       "4                               Snowballed   \n",
       "\n",
       "                                    Composer     Bytes  UnitPrice Genre  \\\n",
       "0  Angus Young, Malcolm Young, Brian Johnson  11170334       0.99  Rock   \n",
       "1  Angus Young, Malcolm Young, Brian Johnson   6713451       0.99  Rock   \n",
       "2  Angus Young, Malcolm Young, Brian Johnson   7636561       0.99  Rock   \n",
       "3  Angus Young, Malcolm Young, Brian Johnson   6852860       0.99  Rock   \n",
       "4  Angus Young, Malcolm Young, Brian Johnson   6599424       0.99  Rock   \n",
       "\n",
       "                                   Album Artist  \n",
       "0  For Those About To Rock We Salute You  AC/DC  \n",
       "1  For Those About To Rock We Salute You  AC/DC  \n",
       "2  For Those About To Rock We Salute You  AC/DC  \n",
       "3  For Those About To Rock We Salute You  AC/DC  \n",
       "4  For Those About To Rock We Salute You  AC/DC  "
      ]
     },
     "execution_count": 3,
     "metadata": {},
     "output_type": "execute_result"
    }
   ],
   "source": [
    "from sqlalchemy import create_engine\n",
    "\n",
    "# Create the engine\n",
    "engine = create_engine(r'sqlite:///C:\\Users\\INNO\\Documents\\Python Development\\Practical Data Science\\data\\chinook.db')\n",
    "\n",
    "\n",
    "# Create the query\n",
    "query = \"\"\" SELECT \n",
    "            tracks.name as Track,\n",
    "            tracks.composer,\n",
    "            tracks.bytes,\n",
    "            tracks.unitprice,\n",
    "            genres.name as Genre,\n",
    "            albums.title as Album,\n",
    "            artists.name as Artist\n",
    "            FROM tracks\n",
    "            JOIN genres ON tracks.genreid = genres.genreid\n",
    "            JOIN albums ON tracks.albumid = albums.albumid\n",
    "            JOIN artists ON albums.artistid = artists.artistid;\n",
    "        \"\"\"\n",
    "\n",
    "with engine.connect() as connection:\n",
    "    sql_df = pd.read_sql_query(query, connection)\n",
    "    \n",
    "sql_df.head()    "
   ]
  },
  {
   "cell_type": "markdown",
   "id": "c53aa794",
   "metadata": {},
   "source": [
    "Note that pandas has methods for loading data from several sources: CSV, JSON, Excel, and even URLs. You can find a list of all the available methods in the documentation here: https://pandas.pydata.org/pandas-docs/stable/reference/io.html\n",
    "\n"
   ]
  },
  {
   "cell_type": "code",
   "execution_count": 4,
   "id": "3c759344",
   "metadata": {},
   "outputs": [
    {
     "data": {
      "text/html": [
       "<div>\n",
       "<style scoped>\n",
       "    .dataframe tbody tr th:only-of-type {\n",
       "        vertical-align: middle;\n",
       "    }\n",
       "\n",
       "    .dataframe tbody tr th {\n",
       "        vertical-align: top;\n",
       "    }\n",
       "\n",
       "    .dataframe thead th {\n",
       "        text-align: right;\n",
       "    }\n",
       "</style>\n",
       "<table border=\"1\" class=\"dataframe\">\n",
       "  <thead>\n",
       "    <tr style=\"text-align: right;\">\n",
       "      <th></th>\n",
       "      <th>seconds</th>\n",
       "      <th>intensity</th>\n",
       "    </tr>\n",
       "  </thead>\n",
       "  <tbody>\n",
       "    <tr>\n",
       "      <th>0</th>\n",
       "      <td>1</td>\n",
       "      <td>121</td>\n",
       "    </tr>\n",
       "    <tr>\n",
       "      <th>1</th>\n",
       "      <td>2</td>\n",
       "      <td>45</td>\n",
       "    </tr>\n",
       "    <tr>\n",
       "      <th>2</th>\n",
       "      <td>3</td>\n",
       "      <td>98</td>\n",
       "    </tr>\n",
       "    <tr>\n",
       "      <th>3</th>\n",
       "      <td>4</td>\n",
       "      <td>12</td>\n",
       "    </tr>\n",
       "  </tbody>\n",
       "</table>\n",
       "</div>"
      ],
      "text/plain": [
       "   seconds  intensity\n",
       "0        1        121\n",
       "1        2         45\n",
       "2        3         98\n",
       "3        4         12"
      ]
     },
     "execution_count": 4,
     "metadata": {},
     "output_type": "execute_result"
    }
   ],
   "source": [
    "# If we have lists/dictionary\n",
    "\n",
    "df = pd.DataFrame(data = \n",
    "                 {'seconds': [1, 2, 3, 4],\n",
    "                  'intensity': [121, 45, 98, 12]}\n",
    "                  )\n",
    "\n",
    "df"
   ]
  },
  {
   "cell_type": "markdown",
   "id": "c7c0c575",
   "metadata": {},
   "source": [
    "## Working with DataFrames"
   ]
  },
  {
   "cell_type": "code",
   "execution_count": 5,
   "id": "1cee77ba",
   "metadata": {},
   "outputs": [
    {
     "data": {
      "text/html": [
       "<div>\n",
       "<style scoped>\n",
       "    .dataframe tbody tr th:only-of-type {\n",
       "        vertical-align: middle;\n",
       "    }\n",
       "\n",
       "    .dataframe tbody tr th {\n",
       "        vertical-align: top;\n",
       "    }\n",
       "\n",
       "    .dataframe thead th {\n",
       "        text-align: right;\n",
       "    }\n",
       "</style>\n",
       "<table border=\"1\" class=\"dataframe\">\n",
       "  <thead>\n",
       "    <tr style=\"text-align: right;\">\n",
       "      <th></th>\n",
       "      <th>Track</th>\n",
       "      <th>Composer</th>\n",
       "      <th>Bytes</th>\n",
       "      <th>UnitPrice</th>\n",
       "      <th>Genre</th>\n",
       "      <th>Album</th>\n",
       "      <th>Artist</th>\n",
       "      <th>TrackId</th>\n",
       "      <th>Name</th>\n",
       "      <th>AlbumId</th>\n",
       "      <th>MediaTypeId</th>\n",
       "      <th>GenreId</th>\n",
       "      <th>Milliseconds</th>\n",
       "    </tr>\n",
       "  </thead>\n",
       "  <tbody>\n",
       "    <tr>\n",
       "      <th>0</th>\n",
       "      <td>For Those About To Rock (We Salute You)</td>\n",
       "      <td>Angus Young, Malcolm Young, Brian Johnson</td>\n",
       "      <td>11170334</td>\n",
       "      <td>0.99</td>\n",
       "      <td>Rock</td>\n",
       "      <td>For Those About To Rock We Salute You</td>\n",
       "      <td>AC/DC</td>\n",
       "      <td>NaN</td>\n",
       "      <td>NaN</td>\n",
       "      <td>NaN</td>\n",
       "      <td>NaN</td>\n",
       "      <td>NaN</td>\n",
       "      <td>NaN</td>\n",
       "    </tr>\n",
       "    <tr>\n",
       "      <th>1</th>\n",
       "      <td>Put The Finger On You</td>\n",
       "      <td>Angus Young, Malcolm Young, Brian Johnson</td>\n",
       "      <td>6713451</td>\n",
       "      <td>0.99</td>\n",
       "      <td>Rock</td>\n",
       "      <td>For Those About To Rock We Salute You</td>\n",
       "      <td>AC/DC</td>\n",
       "      <td>NaN</td>\n",
       "      <td>NaN</td>\n",
       "      <td>NaN</td>\n",
       "      <td>NaN</td>\n",
       "      <td>NaN</td>\n",
       "      <td>NaN</td>\n",
       "    </tr>\n",
       "    <tr>\n",
       "      <th>2</th>\n",
       "      <td>Let's Get It Up</td>\n",
       "      <td>Angus Young, Malcolm Young, Brian Johnson</td>\n",
       "      <td>7636561</td>\n",
       "      <td>0.99</td>\n",
       "      <td>Rock</td>\n",
       "      <td>For Those About To Rock We Salute You</td>\n",
       "      <td>AC/DC</td>\n",
       "      <td>NaN</td>\n",
       "      <td>NaN</td>\n",
       "      <td>NaN</td>\n",
       "      <td>NaN</td>\n",
       "      <td>NaN</td>\n",
       "      <td>NaN</td>\n",
       "    </tr>\n",
       "    <tr>\n",
       "      <th>3</th>\n",
       "      <td>Inject The Venom</td>\n",
       "      <td>Angus Young, Malcolm Young, Brian Johnson</td>\n",
       "      <td>6852860</td>\n",
       "      <td>0.99</td>\n",
       "      <td>Rock</td>\n",
       "      <td>For Those About To Rock We Salute You</td>\n",
       "      <td>AC/DC</td>\n",
       "      <td>NaN</td>\n",
       "      <td>NaN</td>\n",
       "      <td>NaN</td>\n",
       "      <td>NaN</td>\n",
       "      <td>NaN</td>\n",
       "      <td>NaN</td>\n",
       "    </tr>\n",
       "    <tr>\n",
       "      <th>4</th>\n",
       "      <td>Snowballed</td>\n",
       "      <td>Angus Young, Malcolm Young, Brian Johnson</td>\n",
       "      <td>6599424</td>\n",
       "      <td>0.99</td>\n",
       "      <td>Rock</td>\n",
       "      <td>For Those About To Rock We Salute You</td>\n",
       "      <td>AC/DC</td>\n",
       "      <td>NaN</td>\n",
       "      <td>NaN</td>\n",
       "      <td>NaN</td>\n",
       "      <td>NaN</td>\n",
       "      <td>NaN</td>\n",
       "      <td>NaN</td>\n",
       "    </tr>\n",
       "  </tbody>\n",
       "</table>\n",
       "</div>"
      ],
      "text/plain": [
       "                                     Track  \\\n",
       "0  For Those About To Rock (We Salute You)   \n",
       "1                    Put The Finger On You   \n",
       "2                          Let's Get It Up   \n",
       "3                         Inject The Venom   \n",
       "4                               Snowballed   \n",
       "\n",
       "                                    Composer     Bytes  UnitPrice Genre  \\\n",
       "0  Angus Young, Malcolm Young, Brian Johnson  11170334       0.99  Rock   \n",
       "1  Angus Young, Malcolm Young, Brian Johnson   6713451       0.99  Rock   \n",
       "2  Angus Young, Malcolm Young, Brian Johnson   7636561       0.99  Rock   \n",
       "3  Angus Young, Malcolm Young, Brian Johnson   6852860       0.99  Rock   \n",
       "4  Angus Young, Malcolm Young, Brian Johnson   6599424       0.99  Rock   \n",
       "\n",
       "                                   Album Artist  TrackId Name  AlbumId  \\\n",
       "0  For Those About To Rock We Salute You  AC/DC      NaN  NaN      NaN   \n",
       "1  For Those About To Rock We Salute You  AC/DC      NaN  NaN      NaN   \n",
       "2  For Those About To Rock We Salute You  AC/DC      NaN  NaN      NaN   \n",
       "3  For Those About To Rock We Salute You  AC/DC      NaN  NaN      NaN   \n",
       "4  For Those About To Rock We Salute You  AC/DC      NaN  NaN      NaN   \n",
       "\n",
       "   MediaTypeId  GenreId  Milliseconds  \n",
       "0          NaN      NaN           NaN  \n",
       "1          NaN      NaN           NaN  \n",
       "2          NaN      NaN           NaN  \n",
       "3          NaN      NaN           NaN  \n",
       "4          NaN      NaN           NaN  "
      ]
     },
     "execution_count": 5,
     "metadata": {},
     "output_type": "execute_result"
    }
   ],
   "source": [
    "# Join multiple dataframes using the concat method\n",
    "itunes_df = pd.concat([sql_df, excel_df, track_df])\n",
    "\n",
    "itunes_df.head()"
   ]
  },
  {
   "cell_type": "markdown",
   "id": "1bbd6234",
   "metadata": {},
   "source": [
    "> The concat method by default stacks the rows on top of eachother  "
   ]
  },
  {
   "cell_type": "markdown",
   "id": "8175a84f",
   "metadata": {},
   "source": [
    "Here, we set axis=1 to tell the function to join along the columns, not rows. We also set the join parameter to inner so that only rows with a matching index are joined.\n",
    "\n",
    "pd.merge() is another function that can be used to merge data, such as a SQL join. With merge(), we can join on any column rather than just the index. The official online pandas documentation on merge details the available arguments and shows examples: https://pandas.pydata.org/pandas-docs/stable/reference/api/pandas.DataFrame.merge.html. Other merging methods are described in the documentation here: https://pandas.pydata.org/pandas-docs/stable/user_guide/merging.html"
   ]
  },
  {
   "cell_type": "markdown",
   "id": "f7ad379d",
   "metadata": {},
   "source": [
    "## Exploratory Data Analysis and Data Cleaning with Pandas\n",
    "\n"
   ]
  },
  {
   "cell_type": "code",
   "execution_count": 6,
   "id": "75bee172",
   "metadata": {},
   "outputs": [
    {
     "data": {
      "text/html": [
       "<div>\n",
       "<style scoped>\n",
       "    .dataframe tbody tr th:only-of-type {\n",
       "        vertical-align: middle;\n",
       "    }\n",
       "\n",
       "    .dataframe tbody tr th {\n",
       "        vertical-align: top;\n",
       "    }\n",
       "\n",
       "    .dataframe thead th {\n",
       "        text-align: right;\n",
       "    }\n",
       "</style>\n",
       "<table border=\"1\" class=\"dataframe\">\n",
       "  <thead>\n",
       "    <tr style=\"text-align: right;\">\n",
       "      <th></th>\n",
       "      <th>Track</th>\n",
       "      <th>Composer</th>\n",
       "      <th>Bytes</th>\n",
       "      <th>UnitPrice</th>\n",
       "      <th>Genre</th>\n",
       "      <th>Album</th>\n",
       "      <th>Artist</th>\n",
       "      <th>TrackId</th>\n",
       "      <th>Name</th>\n",
       "      <th>AlbumId</th>\n",
       "      <th>MediaTypeId</th>\n",
       "      <th>GenreId</th>\n",
       "      <th>Milliseconds</th>\n",
       "    </tr>\n",
       "  </thead>\n",
       "  <tbody>\n",
       "    <tr>\n",
       "      <th>3498</th>\n",
       "      <td>NaN</td>\n",
       "      <td>NaN</td>\n",
       "      <td>4718950</td>\n",
       "      <td>0.99</td>\n",
       "      <td>NaN</td>\n",
       "      <td>NaN</td>\n",
       "      <td>NaN</td>\n",
       "      <td>3499.0</td>\n",
       "      <td>Pini Di Roma (Pinien Von Rom) \\ I Pini Della V...</td>\n",
       "      <td>343.0</td>\n",
       "      <td>2.0</td>\n",
       "      <td>24.0</td>\n",
       "      <td>286741.0</td>\n",
       "    </tr>\n",
       "    <tr>\n",
       "      <th>3499</th>\n",
       "      <td>NaN</td>\n",
       "      <td>Franz Schubert</td>\n",
       "      <td>2283131</td>\n",
       "      <td>0.99</td>\n",
       "      <td>NaN</td>\n",
       "      <td>NaN</td>\n",
       "      <td>NaN</td>\n",
       "      <td>3500.0</td>\n",
       "      <td>String Quartet No. 12 in C Minor, D. 703 \"Quar...</td>\n",
       "      <td>344.0</td>\n",
       "      <td>2.0</td>\n",
       "      <td>24.0</td>\n",
       "      <td>139200.0</td>\n",
       "    </tr>\n",
       "    <tr>\n",
       "      <th>3500</th>\n",
       "      <td>NaN</td>\n",
       "      <td>Claudio Monteverdi</td>\n",
       "      <td>1189062</td>\n",
       "      <td>0.99</td>\n",
       "      <td>NaN</td>\n",
       "      <td>NaN</td>\n",
       "      <td>NaN</td>\n",
       "      <td>3501.0</td>\n",
       "      <td>L'orfeo, Act 3, Sinfonia (Orchestra)</td>\n",
       "      <td>345.0</td>\n",
       "      <td>2.0</td>\n",
       "      <td>24.0</td>\n",
       "      <td>66639.0</td>\n",
       "    </tr>\n",
       "    <tr>\n",
       "      <th>3501</th>\n",
       "      <td>NaN</td>\n",
       "      <td>Wolfgang Amadeus Mozart</td>\n",
       "      <td>3665114</td>\n",
       "      <td>0.99</td>\n",
       "      <td>NaN</td>\n",
       "      <td>NaN</td>\n",
       "      <td>NaN</td>\n",
       "      <td>3502.0</td>\n",
       "      <td>Quintet for Horn, Violin, 2 Violas, and Cello ...</td>\n",
       "      <td>346.0</td>\n",
       "      <td>2.0</td>\n",
       "      <td>24.0</td>\n",
       "      <td>221331.0</td>\n",
       "    </tr>\n",
       "    <tr>\n",
       "      <th>3502</th>\n",
       "      <td>NaN</td>\n",
       "      <td>Philip Glass</td>\n",
       "      <td>3305164</td>\n",
       "      <td>0.99</td>\n",
       "      <td>NaN</td>\n",
       "      <td>NaN</td>\n",
       "      <td>NaN</td>\n",
       "      <td>3503.0</td>\n",
       "      <td>Koyaanisqatsi</td>\n",
       "      <td>347.0</td>\n",
       "      <td>2.0</td>\n",
       "      <td>10.0</td>\n",
       "      <td>206005.0</td>\n",
       "    </tr>\n",
       "  </tbody>\n",
       "</table>\n",
       "</div>"
      ],
      "text/plain": [
       "     Track                 Composer    Bytes  UnitPrice Genre Album Artist  \\\n",
       "3498   NaN                      NaN  4718950       0.99   NaN   NaN    NaN   \n",
       "3499   NaN           Franz Schubert  2283131       0.99   NaN   NaN    NaN   \n",
       "3500   NaN       Claudio Monteverdi  1189062       0.99   NaN   NaN    NaN   \n",
       "3501   NaN  Wolfgang Amadeus Mozart  3665114       0.99   NaN   NaN    NaN   \n",
       "3502   NaN             Philip Glass  3305164       0.99   NaN   NaN    NaN   \n",
       "\n",
       "      TrackId                                               Name  AlbumId  \\\n",
       "3498   3499.0  Pini Di Roma (Pinien Von Rom) \\ I Pini Della V...    343.0   \n",
       "3499   3500.0  String Quartet No. 12 in C Minor, D. 703 \"Quar...    344.0   \n",
       "3500   3501.0               L'orfeo, Act 3, Sinfonia (Orchestra)    345.0   \n",
       "3501   3502.0  Quintet for Horn, Violin, 2 Violas, and Cello ...    346.0   \n",
       "3502   3503.0                                      Koyaanisqatsi    347.0   \n",
       "\n",
       "      MediaTypeId  GenreId  Milliseconds  \n",
       "3498          2.0     24.0      286741.0  \n",
       "3499          2.0     24.0      139200.0  \n",
       "3500          2.0     24.0       66639.0  \n",
       "3501          2.0     24.0      221331.0  \n",
       "3502          2.0     10.0      206005.0  "
      ]
     },
     "execution_count": 6,
     "metadata": {},
     "output_type": "execute_result"
    }
   ],
   "source": [
    "# Look at the tail of the data\n",
    "itunes_df.tail()"
   ]
  },
  {
   "cell_type": "code",
   "execution_count": 7,
   "id": "2f44aec5",
   "metadata": {},
   "outputs": [
    {
     "data": {
      "text/html": [
       "<div>\n",
       "<style scoped>\n",
       "    .dataframe tbody tr th:only-of-type {\n",
       "        vertical-align: middle;\n",
       "    }\n",
       "\n",
       "    .dataframe tbody tr th {\n",
       "        vertical-align: top;\n",
       "    }\n",
       "\n",
       "    .dataframe thead th {\n",
       "        text-align: right;\n",
       "    }\n",
       "</style>\n",
       "<table border=\"1\" class=\"dataframe\">\n",
       "  <thead>\n",
       "    <tr style=\"text-align: right;\">\n",
       "      <th></th>\n",
       "      <th>Track</th>\n",
       "      <th>Composer</th>\n",
       "      <th>Bytes</th>\n",
       "      <th>UnitPrice</th>\n",
       "      <th>Genre</th>\n",
       "      <th>Album</th>\n",
       "      <th>Artist</th>\n",
       "      <th>TrackId</th>\n",
       "      <th>Name</th>\n",
       "      <th>AlbumId</th>\n",
       "      <th>MediaTypeId</th>\n",
       "      <th>GenreId</th>\n",
       "      <th>Milliseconds</th>\n",
       "    </tr>\n",
       "  </thead>\n",
       "  <tbody>\n",
       "    <tr>\n",
       "      <th>3502</th>\n",
       "      <td>Koyaanisqatsi</td>\n",
       "      <td>Philip Glass</td>\n",
       "      <td>3305164</td>\n",
       "      <td>0.99</td>\n",
       "      <td>Soundtrack</td>\n",
       "      <td>Koyaanisqatsi (Soundtrack from the Motion Pict...</td>\n",
       "      <td>Philip Glass Ensemble</td>\n",
       "      <td>NaN</td>\n",
       "      <td>NaN</td>\n",
       "      <td>NaN</td>\n",
       "      <td>NaN</td>\n",
       "      <td>NaN</td>\n",
       "      <td>NaN</td>\n",
       "    </tr>\n",
       "    <tr>\n",
       "      <th>3502</th>\n",
       "      <td>NaN</td>\n",
       "      <td>Philip Glass</td>\n",
       "      <td>3305164</td>\n",
       "      <td>0.99</td>\n",
       "      <td>NaN</td>\n",
       "      <td>NaN</td>\n",
       "      <td>NaN</td>\n",
       "      <td>3503.0</td>\n",
       "      <td>Koyaanisqatsi</td>\n",
       "      <td>347.0</td>\n",
       "      <td>2.0</td>\n",
       "      <td>10.0</td>\n",
       "      <td>206005.0</td>\n",
       "    </tr>\n",
       "    <tr>\n",
       "      <th>3502</th>\n",
       "      <td>NaN</td>\n",
       "      <td>Philip Glass</td>\n",
       "      <td>3305164</td>\n",
       "      <td>0.99</td>\n",
       "      <td>NaN</td>\n",
       "      <td>NaN</td>\n",
       "      <td>NaN</td>\n",
       "      <td>3503.0</td>\n",
       "      <td>Koyaanisqatsi</td>\n",
       "      <td>347.0</td>\n",
       "      <td>2.0</td>\n",
       "      <td>10.0</td>\n",
       "      <td>206005.0</td>\n",
       "    </tr>\n",
       "  </tbody>\n",
       "</table>\n",
       "</div>"
      ],
      "text/plain": [
       "              Track      Composer    Bytes  UnitPrice       Genre  \\\n",
       "3502  Koyaanisqatsi  Philip Glass  3305164       0.99  Soundtrack   \n",
       "3502            NaN  Philip Glass  3305164       0.99         NaN   \n",
       "3502            NaN  Philip Glass  3305164       0.99         NaN   \n",
       "\n",
       "                                                  Album  \\\n",
       "3502  Koyaanisqatsi (Soundtrack from the Motion Pict...   \n",
       "3502                                                NaN   \n",
       "3502                                                NaN   \n",
       "\n",
       "                     Artist  TrackId           Name  AlbumId  MediaTypeId  \\\n",
       "3502  Philip Glass Ensemble      NaN            NaN      NaN          NaN   \n",
       "3502                    NaN   3503.0  Koyaanisqatsi    347.0          2.0   \n",
       "3502                    NaN   3503.0  Koyaanisqatsi    347.0          2.0   \n",
       "\n",
       "      GenreId  Milliseconds  \n",
       "3502      NaN           NaN  \n",
       "3502     10.0      206005.0  \n",
       "3502     10.0      206005.0  "
      ]
     },
     "execution_count": 7,
     "metadata": {},
     "output_type": "execute_result"
    }
   ],
   "source": [
    "# Indexing with loc\n",
    "itunes_df.loc[3502]"
   ]
  },
  {
   "cell_type": "code",
   "execution_count": 8,
   "id": "6a11f71a",
   "metadata": {},
   "outputs": [
    {
     "data": {
      "text/plain": [
       "(10509, 13)"
      ]
     },
     "execution_count": 8,
     "metadata": {},
     "output_type": "execute_result"
    }
   ],
   "source": [
    "# Copy a dataframe\n",
    "\n",
    "test_df = itunes_df.copy()\n",
    "\n",
    "\n",
    "# Determine the shape of the df\n",
    "test_df.shape"
   ]
  },
  {
   "cell_type": "code",
   "execution_count": 9,
   "id": "34434d2e",
   "metadata": {},
   "outputs": [
    {
     "name": "stdout",
     "output_type": "stream",
     "text": [
      "<class 'pandas.core.frame.DataFrame'>\n",
      "Int64Index: 10509 entries, 0 to 3502\n",
      "Data columns (total 13 columns):\n",
      " #   Column        Non-Null Count  Dtype  \n",
      "---  ------        --------------  -----  \n",
      " 0   Track         3503 non-null   object \n",
      " 1   Composer      7575 non-null   object \n",
      " 2   Bytes         10509 non-null  int64  \n",
      " 3   UnitPrice     10509 non-null  float64\n",
      " 4   Genre         3503 non-null   object \n",
      " 5   Album         3503 non-null   object \n",
      " 6   Artist        3503 non-null   object \n",
      " 7   TrackId       7006 non-null   float64\n",
      " 8   Name          7006 non-null   object \n",
      " 9   AlbumId       7006 non-null   float64\n",
      " 10  MediaTypeId   7006 non-null   float64\n",
      " 11  GenreId       7006 non-null   float64\n",
      " 12  Milliseconds  7006 non-null   float64\n",
      "dtypes: float64(6), int64(1), object(6)\n",
      "memory usage: 1.4+ MB\n"
     ]
    }
   ],
   "source": [
    "# Looking for null values and data types\n",
    "test_df.info()"
   ]
  },
  {
   "cell_type": "markdown",
   "id": "d7744bda",
   "metadata": {},
   "source": [
    "The info method also shows us the non-null values. As long as this matches the number of rows, it means there are no missing values. However, it's easier to look at the number of missing values with this:"
   ]
  },
  {
   "cell_type": "code",
   "execution_count": 10,
   "id": "ff19c1bb",
   "metadata": {},
   "outputs": [
    {
     "data": {
      "text/plain": [
       "Track           7006\n",
       "Composer        2934\n",
       "Bytes              0\n",
       "UnitPrice          0\n",
       "Genre           7006\n",
       "Album           7006\n",
       "Artist          7006\n",
       "TrackId         3503\n",
       "Name            3503\n",
       "AlbumId         3503\n",
       "MediaTypeId     3503\n",
       "GenreId         3503\n",
       "Milliseconds    3503\n",
       "dtype: int64"
      ]
     },
     "execution_count": 10,
     "metadata": {},
     "output_type": "execute_result"
    }
   ],
   "source": [
    "# Count the null values\n",
    "itunes_df.isna().sum()"
   ]
  },
  {
   "cell_type": "markdown",
   "id": "99c55437",
   "metadata": {},
   "source": [
    "### INVESTIGATING STATISTICAL PROPERTIES OF THE DATA"
   ]
  },
  {
   "cell_type": "code",
   "execution_count": 11,
   "id": "01ee8a56",
   "metadata": {},
   "outputs": [
    {
     "data": {
      "text/html": [
       "<div>\n",
       "<style scoped>\n",
       "    .dataframe tbody tr th:only-of-type {\n",
       "        vertical-align: middle;\n",
       "    }\n",
       "\n",
       "    .dataframe tbody tr th {\n",
       "        vertical-align: top;\n",
       "    }\n",
       "\n",
       "    .dataframe thead th {\n",
       "        text-align: right;\n",
       "    }\n",
       "</style>\n",
       "<table border=\"1\" class=\"dataframe\">\n",
       "  <thead>\n",
       "    <tr style=\"text-align: right;\">\n",
       "      <th></th>\n",
       "      <th>Bytes</th>\n",
       "      <th>UnitPrice</th>\n",
       "      <th>TrackId</th>\n",
       "      <th>AlbumId</th>\n",
       "      <th>MediaTypeId</th>\n",
       "      <th>GenreId</th>\n",
       "      <th>Milliseconds</th>\n",
       "    </tr>\n",
       "  </thead>\n",
       "  <tbody>\n",
       "    <tr>\n",
       "      <th>count</th>\n",
       "      <td>1.050900e+04</td>\n",
       "      <td>10509.000000</td>\n",
       "      <td>7006.000000</td>\n",
       "      <td>7006.000000</td>\n",
       "      <td>7006.000000</td>\n",
       "      <td>7006.000000</td>\n",
       "      <td>7.006000e+03</td>\n",
       "    </tr>\n",
       "    <tr>\n",
       "      <th>mean</th>\n",
       "      <td>3.351021e+07</td>\n",
       "      <td>1.050805</td>\n",
       "      <td>1752.000000</td>\n",
       "      <td>140.929489</td>\n",
       "      <td>1.208393</td>\n",
       "      <td>5.725378</td>\n",
       "      <td>3.935992e+05</td>\n",
       "    </tr>\n",
       "    <tr>\n",
       "      <th>std</th>\n",
       "      <td>1.053825e+08</td>\n",
       "      <td>0.238984</td>\n",
       "      <td>1011.301132</td>\n",
       "      <td>81.769558</td>\n",
       "      <td>0.580402</td>\n",
       "      <td>6.189762</td>\n",
       "      <td>5.349672e+05</td>\n",
       "    </tr>\n",
       "    <tr>\n",
       "      <th>min</th>\n",
       "      <td>3.874700e+04</td>\n",
       "      <td>0.990000</td>\n",
       "      <td>1.000000</td>\n",
       "      <td>1.000000</td>\n",
       "      <td>1.000000</td>\n",
       "      <td>1.000000</td>\n",
       "      <td>1.071000e+03</td>\n",
       "    </tr>\n",
       "    <tr>\n",
       "      <th>25%</th>\n",
       "      <td>6.342021e+06</td>\n",
       "      <td>0.990000</td>\n",
       "      <td>876.250000</td>\n",
       "      <td>70.250000</td>\n",
       "      <td>1.000000</td>\n",
       "      <td>1.000000</td>\n",
       "      <td>2.072550e+05</td>\n",
       "    </tr>\n",
       "    <tr>\n",
       "      <th>50%</th>\n",
       "      <td>8.107896e+06</td>\n",
       "      <td>0.990000</td>\n",
       "      <td>1752.000000</td>\n",
       "      <td>141.000000</td>\n",
       "      <td>1.000000</td>\n",
       "      <td>3.000000</td>\n",
       "      <td>2.556340e+05</td>\n",
       "    </tr>\n",
       "    <tr>\n",
       "      <th>75%</th>\n",
       "      <td>1.026757e+07</td>\n",
       "      <td>0.990000</td>\n",
       "      <td>2627.750000</td>\n",
       "      <td>212.000000</td>\n",
       "      <td>1.000000</td>\n",
       "      <td>7.000000</td>\n",
       "      <td>3.216580e+05</td>\n",
       "    </tr>\n",
       "    <tr>\n",
       "      <th>max</th>\n",
       "      <td>1.059546e+09</td>\n",
       "      <td>1.990000</td>\n",
       "      <td>3503.000000</td>\n",
       "      <td>347.000000</td>\n",
       "      <td>5.000000</td>\n",
       "      <td>25.000000</td>\n",
       "      <td>5.286953e+06</td>\n",
       "    </tr>\n",
       "  </tbody>\n",
       "</table>\n",
       "</div>"
      ],
      "text/plain": [
       "              Bytes     UnitPrice      TrackId      AlbumId  MediaTypeId  \\\n",
       "count  1.050900e+04  10509.000000  7006.000000  7006.000000  7006.000000   \n",
       "mean   3.351021e+07      1.050805  1752.000000   140.929489     1.208393   \n",
       "std    1.053825e+08      0.238984  1011.301132    81.769558     0.580402   \n",
       "min    3.874700e+04      0.990000     1.000000     1.000000     1.000000   \n",
       "25%    6.342021e+06      0.990000   876.250000    70.250000     1.000000   \n",
       "50%    8.107896e+06      0.990000  1752.000000   141.000000     1.000000   \n",
       "75%    1.026757e+07      0.990000  2627.750000   212.000000     1.000000   \n",
       "max    1.059546e+09      1.990000  3503.000000   347.000000     5.000000   \n",
       "\n",
       "           GenreId  Milliseconds  \n",
       "count  7006.000000  7.006000e+03  \n",
       "mean      5.725378  3.935992e+05  \n",
       "std       6.189762  5.349672e+05  \n",
       "min       1.000000  1.071000e+03  \n",
       "25%       1.000000  2.072550e+05  \n",
       "50%       3.000000  2.556340e+05  \n",
       "75%       7.000000  3.216580e+05  \n",
       "max      25.000000  5.286953e+06  "
      ]
     },
     "execution_count": 11,
     "metadata": {},
     "output_type": "execute_result"
    }
   ],
   "source": [
    "itunes_df.describe()"
   ]
  },
  {
   "cell_type": "markdown",
   "id": "337d97a5",
   "metadata": {},
   "source": [
    "This shows a summary of a few statistics, including the number of non-missing (non-NA) values (count), the average (mean), the standard deviation (std), the minimum and maximum, and a few percentiles"
   ]
  },
  {
   "cell_type": "code",
   "execution_count": 12,
   "id": "64796e75",
   "metadata": {},
   "outputs": [
    {
     "data": {
      "text/plain": [
       "1.0     2594\n",
       "7.0     1158\n",
       "3.0      748\n",
       "4.0      664\n",
       "2.0      260\n",
       "19.0     186\n",
       "6.0      162\n",
       "24.0     148\n",
       "21.0     128\n",
       "14.0     122\n",
       "8.0      116\n",
       "9.0       96\n",
       "10.0      86\n",
       "23.0      80\n",
       "17.0      70\n",
       "15.0      60\n",
       "13.0      56\n",
       "16.0      56\n",
       "20.0      52\n",
       "12.0      48\n",
       "22.0      34\n",
       "11.0      30\n",
       "18.0      26\n",
       "5.0       24\n",
       "25.0       2\n",
       "Name: GenreId, dtype: int64"
      ]
     },
     "execution_count": 12,
     "metadata": {},
     "output_type": "execute_result"
    }
   ],
   "source": [
    "# Value counts for GenreID\n",
    "\n",
    "itunes_df['GenreId'].value_counts()"
   ]
  },
  {
   "cell_type": "code",
   "execution_count": 13,
   "id": "8ce83702",
   "metadata": {},
   "outputs": [
    {
     "data": {
      "text/plain": [
       "(26,)"
      ]
     },
     "execution_count": 13,
     "metadata": {},
     "output_type": "execute_result"
    }
   ],
   "source": [
    "# How many unique Gender Items\n",
    "itunes_df['GenreId'].unique().shape"
   ]
  },
  {
   "cell_type": "markdown",
   "id": "5a6c34d8",
   "metadata": {},
   "source": [
    "The unique() function will return an array of all unique values. We then use the shape attribute to see how many values there are. In this case, we find there are 204 unique artists in the data."
   ]
  },
  {
   "cell_type": "code",
   "execution_count": 14,
   "id": "178c8dce",
   "metadata": {},
   "outputs": [
    {
     "data": {
      "text/html": [
       "<div>\n",
       "<style scoped>\n",
       "    .dataframe tbody tr th:only-of-type {\n",
       "        vertical-align: middle;\n",
       "    }\n",
       "\n",
       "    .dataframe tbody tr th {\n",
       "        vertical-align: top;\n",
       "    }\n",
       "\n",
       "    .dataframe thead th {\n",
       "        text-align: right;\n",
       "    }\n",
       "</style>\n",
       "<table border=\"1\" class=\"dataframe\">\n",
       "  <thead>\n",
       "    <tr style=\"text-align: right;\">\n",
       "      <th></th>\n",
       "      <th>Bytes</th>\n",
       "      <th>UnitPrice</th>\n",
       "      <th>TrackId</th>\n",
       "      <th>AlbumId</th>\n",
       "      <th>MediaTypeId</th>\n",
       "      <th>GenreId</th>\n",
       "      <th>Milliseconds</th>\n",
       "    </tr>\n",
       "  </thead>\n",
       "  <tbody>\n",
       "    <tr>\n",
       "      <th>Bytes</th>\n",
       "      <td>1.000000</td>\n",
       "      <td>0.938482</td>\n",
       "      <td>0.301285</td>\n",
       "      <td>0.281840</td>\n",
       "      <td>0.732825</td>\n",
       "      <td>0.544109</td>\n",
       "      <td>0.960181</td>\n",
       "    </tr>\n",
       "    <tr>\n",
       "      <th>UnitPrice</th>\n",
       "      <td>0.938482</td>\n",
       "      <td>1.000000</td>\n",
       "      <td>0.327255</td>\n",
       "      <td>0.307469</td>\n",
       "      <td>0.785483</td>\n",
       "      <td>0.582779</td>\n",
       "      <td>0.931796</td>\n",
       "    </tr>\n",
       "    <tr>\n",
       "      <th>TrackId</th>\n",
       "      <td>0.301285</td>\n",
       "      <td>0.327255</td>\n",
       "      <td>1.000000</td>\n",
       "      <td>0.990699</td>\n",
       "      <td>0.449970</td>\n",
       "      <td>0.366996</td>\n",
       "      <td>0.293320</td>\n",
       "    </tr>\n",
       "    <tr>\n",
       "      <th>AlbumId</th>\n",
       "      <td>0.281840</td>\n",
       "      <td>0.307469</td>\n",
       "      <td>0.990699</td>\n",
       "      <td>1.000000</td>\n",
       "      <td>0.451335</td>\n",
       "      <td>0.382107</td>\n",
       "      <td>0.274891</td>\n",
       "    </tr>\n",
       "    <tr>\n",
       "      <th>MediaTypeId</th>\n",
       "      <td>0.732825</td>\n",
       "      <td>0.785483</td>\n",
       "      <td>0.449970</td>\n",
       "      <td>0.451335</td>\n",
       "      <td>1.000000</td>\n",
       "      <td>0.661570</td>\n",
       "      <td>0.735500</td>\n",
       "    </tr>\n",
       "    <tr>\n",
       "      <th>GenreId</th>\n",
       "      <td>0.544109</td>\n",
       "      <td>0.582779</td>\n",
       "      <td>0.366996</td>\n",
       "      <td>0.382107</td>\n",
       "      <td>0.661570</td>\n",
       "      <td>1.000000</td>\n",
       "      <td>0.524484</td>\n",
       "    </tr>\n",
       "    <tr>\n",
       "      <th>Milliseconds</th>\n",
       "      <td>0.960181</td>\n",
       "      <td>0.931796</td>\n",
       "      <td>0.293320</td>\n",
       "      <td>0.274891</td>\n",
       "      <td>0.735500</td>\n",
       "      <td>0.524484</td>\n",
       "      <td>1.000000</td>\n",
       "    </tr>\n",
       "  </tbody>\n",
       "</table>\n",
       "</div>"
      ],
      "text/plain": [
       "                 Bytes  UnitPrice   TrackId   AlbumId  MediaTypeId   GenreId  \\\n",
       "Bytes         1.000000   0.938482  0.301285  0.281840     0.732825  0.544109   \n",
       "UnitPrice     0.938482   1.000000  0.327255  0.307469     0.785483  0.582779   \n",
       "TrackId       0.301285   0.327255  1.000000  0.990699     0.449970  0.366996   \n",
       "AlbumId       0.281840   0.307469  0.990699  1.000000     0.451335  0.382107   \n",
       "MediaTypeId   0.732825   0.785483  0.449970  0.451335     1.000000  0.661570   \n",
       "GenreId       0.544109   0.582779  0.366996  0.382107     0.661570  1.000000   \n",
       "Milliseconds  0.960181   0.931796  0.293320  0.274891     0.735500  0.524484   \n",
       "\n",
       "              Milliseconds  \n",
       "Bytes             0.960181  \n",
       "UnitPrice         0.931796  \n",
       "TrackId           0.293320  \n",
       "AlbumId           0.274891  \n",
       "MediaTypeId       0.735500  \n",
       "GenreId           0.524484  \n",
       "Milliseconds      1.000000  "
      ]
     },
     "execution_count": 14,
     "metadata": {},
     "output_type": "execute_result"
    }
   ],
   "source": [
    "# Correlations\n",
    "itunes_df.corr()"
   ]
  },
  {
   "cell_type": "markdown",
   "id": "43bfe0cc",
   "metadata": {},
   "source": [
    "This calculation is Pearson correlation, which measures how linearly correlated two datasets are. It ranges from -1 (inverse correlation; variable 1 increases proportionally when variable 2 decreases) to 0 (no correlation) to 1 (perfectly linear correlation; variable 1 increases proportionally when variable 2 increases). So, the correlation between a single numeric data column and itself is 1 by definition – if we plotted a dataset against itself, it would be a straight, diagonal line. We can see from our data that all of our numeric data is strongly linearly correlated, which makes sense. Longer songs are larger in data storage size (bytes) and cost more. Roughly speaking, we can break up correlation strengths into sections of 0.2. So, 0-0.2 is very weakly correlated, 0.2-0.4 is weak, 0.4-0.6 signifies medium correlation, 0.6-0.8 is strong, and 0.8-1 is very strongly correlated. This is only for data with linear relationships. In other words, a scatter plot of two variables should resemble a straight line. If your data has non-linear relationships, then Pearson correlations are not the best method to use. We will learn other correlation methods for non-linear relationships later, such as Phik correlation."
   ]
  },
  {
   "cell_type": "markdown",
   "id": "94376067",
   "metadata": {},
   "source": [
    "## Plotting with DataFrames"
   ]
  },
  {
   "cell_type": "code",
   "execution_count": 15,
   "id": "4341cb25",
   "metadata": {},
   "outputs": [
    {
     "data": {
      "image/png": "[encoded data removed]",
      "text/plain": [
       "<Figure size 432x288 with 1 Axes>"
      ]
     },
     "metadata": {
      "needs_background": "light"
     },
     "output_type": "display_data"
    }
   ],
   "source": [
    "import matplotlib.pyplot as plt\n",
    "\n",
    "# Plotting a histogram\n",
    "itunes_df['Milliseconds'].hist(bins=30)\n",
    "\n",
    "# Show the plot\n",
    "plt.show()"
   ]
  },
  {
   "cell_type": "markdown",
   "id": "55a213d5",
   "metadata": {},
   "source": [
    "The first line selects the Milliseconds column, and uses the hist() method of pandas Series objects. We set the option bins=30 to increase it from the default of 10 – this specifies how many bars the histogram is broken up into. Then we use the plt.show() command to display the plot. In Jupyter Notebook, this is not necessary, but in an IPython shell or Python .py file, we need to call plt.show() to display the plot on the screen."
   ]
  },
  {
   "cell_type": "markdown",
   "id": "b2037801",
   "metadata": {},
   "source": [
    "We see that most of our songs have a shorter song length, but there are some outliers with very long lengths. The x-axis scale has 1e6, meaning the numbers are multiplied by 1*106, or 1 million. From our describe() function earlier, we found our 50th percentile of song length (the median) is around 200,000 ms, or 200 s. This seems right, as most songs are around 3 minutes long."
   ]
  },
  {
   "cell_type": "code",
   "execution_count": 16,
   "id": "e602ab8b",
   "metadata": {},
   "outputs": [
    {
     "data": {
      "image/png": "[encoded data removed]",
      "text/plain": [
       "<Figure size 432x288 with 1 Axes>"
      ]
     },
     "metadata": {
      "needs_background": "light"
     },
     "output_type": "display_data"
    }
   ],
   "source": [
    "# Scatter plots\n",
    "\n",
    "itunes_df.plot.scatter(x='Milliseconds', y='Bytes')\n",
    "\n",
    "# Show Plot\n",
    "plt.show()"
   ]
  },
  {
   "cell_type": "markdown",
   "id": "86005372",
   "metadata": {},
   "source": [
    "Notice we are using plot.scatter here instead of just scatter. The hist function can also be called with plot.hist as we did, but sometimes we are required to put plot before the plotting function in pandas as with scatter.\n",
    "\n",
    "Notice we have 1e9 on the upper-left side, meaning the Bytes values should be multiplied by 1,000,000,000, and we have 1e6 on the lower-right side, signifying the Milliseconds values should be multiplied by 1,000,000. We can see from the plot there are some groups of data – two groups follow roughly straight lines at different slopes. Within the steeper line, we see at least three groups of data. Then there is another group of data around 2.5*106 ms and 0.2e9 bytes. Finally, one group resides with a long song length and large file size (in the upper-right part of the plot). We will revisit some of these groups soon and examine these groups in more detail."
   ]
  },
  {
   "cell_type": "code",
   "execution_count": 17,
   "id": "2060c892",
   "metadata": {},
   "outputs": [
    {
     "data": {
      "text/plain": [
       "<AxesSubplot:>"
      ]
     },
     "execution_count": 17,
     "metadata": {},
     "output_type": "execute_result"
    },
    {
     "data": {
      "image/png": "[encoded data removed]",
      "text/plain": [
       "<Figure size 432x288 with 1 Axes>"
      ]
     },
     "metadata": {
      "needs_background": "light"
     },
     "output_type": "display_data"
    }
   ],
   "source": [
    "# Bar plots\n",
    "itunes_df['GenreId'].value_counts().plot.bar()"
   ]
  },
  {
   "cell_type": "markdown",
   "id": "dd5c138c",
   "metadata": {},
   "source": [
    "## Cleaning Data\n",
    "\n",
    "After we've completed some EDA, we can then move on to some other cleaning steps. Some surveys have found data scientists spend anywhere between 25% and 75% of their time cleaning data. Quite often, we can carry out most or all of our data cleaning with pandas. Some common data cleaning steps include:\n",
    "- Removing Irrelevant Data\n",
    "- Dealing with missing values\n",
    "- Dealing with outliers\n",
    "- Dealing with Duplicate values\n",
    "- Ensuring Data Types are correct\n",
    "- Standardizing data formats"
   ]
  },
  {
   "cell_type": "markdown",
   "id": "15aeed5c",
   "metadata": {},
   "source": [
    "### Removing Irrelevant Data\n",
    "\n",
    "This involves dropping columns or rows we don't want. For example, with our iTunes data, we may not really need the Composer column. We could drop this column like so:"
   ]
  },
  {
   "cell_type": "code",
   "execution_count": 18,
   "id": "b2eeb7ce",
   "metadata": {},
   "outputs": [
    {
     "data": {
      "text/plain": [
       "Index(['Track', 'Bytes', 'UnitPrice', 'Genre', 'Album', 'Artist', 'TrackId',\n",
       "       'Name', 'AlbumId', 'MediaTypeId', 'GenreId', 'Milliseconds'],\n",
       "      dtype='object')"
      ]
     },
     "execution_count": 18,
     "metadata": {},
     "output_type": "execute_result"
    }
   ],
   "source": [
    "# Drop the Composer Column\n",
    "itunes_df.drop('Composer', axis=1, inplace=True)\n",
    "\n",
    "itunes_df.columns"
   ]
  },
  {
   "cell_type": "markdown",
   "id": "95234a04",
   "metadata": {},
   "source": [
    "We use the drop function of DataFrames, giving the column name as the first argument. We can drop multiple columns at once by supplying a list. The axis=1 argument specifies to drop a column, not a row, and inplace=True changes the DataFrame itself instead of returning a new, modified DataFrame. Then we examine the remaining columns with the columns attribute of our DataFrame."
   ]
  },
  {
   "cell_type": "code",
   "execution_count": 19,
   "id": "0a7e15ba",
   "metadata": {},
   "outputs": [
    {
     "data": {
      "text/plain": [
       "array([nan,  1.,  2.,  3.,  4.,  6.,  7.,  8.,  9., 10., 14., 19., 21.,\n",
       "       23., 24.])"
      ]
     },
     "execution_count": 19,
     "metadata": {},
     "output_type": "execute_result"
    }
   ],
   "source": [
    "# Create a new df with records NOT including GenreID [17.0, 15.0, 13.0, 16.0, 20.0, 12.0, 22.0, 11.0, 18.0, 5.0, 25.0]\n",
    "specific_genreid = itunes_df.loc[(~itunes_df['GenreId'].isin([17.0, 15.0, 13.0, 16.0, 20.0, 12.0, 22.0, 11.0, 18.0, 5.0, 25.0]))]\n",
    "\n",
    "# Check the GenreIds in the new dataframe\n",
    "specific_genreid['GenreId'].unique()"
   ]
  },
  {
   "cell_type": "markdown",
   "id": "eaca71ea",
   "metadata": {},
   "source": [
    "This uses filtering with the isin method. The isin method checks if each value is in the list or set provided to the function. In this case, we also negate this condition with the tilde (~) so that any of the non-music genres are excluded."
   ]
  },
  {
   "cell_type": "markdown",
   "id": "9e7c1422",
   "metadata": {},
   "source": [
    "### Dealing with Missing Values\n",
    "\n",
    "Missing values arise all the time in datasets. Often, they are represented as NA or NaN values. Other times, missing values may be represented by certain numbers or values, such as None or -999. It helps to examine the data with EDA and check any documentation on the data to see if missing values are represented in a special way. We can fill in missing values, which is also called imputation. In terms of dealing with missing values, we have some options:\n",
    "\n",
    "- Leave the missing values as-is\n",
    "- Drop the data\n",
    "- Fill with a specific value\n",
    "- Replace with the mean, median, or mode\n",
    "- Use machine learning to replace missing values\n",
    "\n",
    "The best option for you depends on the situation and the data itself. For example, we saw that our Name column has several missing values. We can use filtering to see what some of these rows look like:"
   ]
  },
  {
   "cell_type": "code",
   "execution_count": 20,
   "id": "571be496",
   "metadata": {},
   "outputs": [
    {
     "data": {
      "text/html": [
       "<div>\n",
       "<style scoped>\n",
       "    .dataframe tbody tr th:only-of-type {\n",
       "        vertical-align: middle;\n",
       "    }\n",
       "\n",
       "    .dataframe tbody tr th {\n",
       "        vertical-align: top;\n",
       "    }\n",
       "\n",
       "    .dataframe thead th {\n",
       "        text-align: right;\n",
       "    }\n",
       "</style>\n",
       "<table border=\"1\" class=\"dataframe\">\n",
       "  <thead>\n",
       "    <tr style=\"text-align: right;\">\n",
       "      <th></th>\n",
       "      <th>Track</th>\n",
       "      <th>Bytes</th>\n",
       "      <th>UnitPrice</th>\n",
       "      <th>Genre</th>\n",
       "      <th>Album</th>\n",
       "      <th>Artist</th>\n",
       "      <th>TrackId</th>\n",
       "      <th>Name</th>\n",
       "      <th>AlbumId</th>\n",
       "      <th>MediaTypeId</th>\n",
       "      <th>GenreId</th>\n",
       "      <th>Milliseconds</th>\n",
       "    </tr>\n",
       "  </thead>\n",
       "  <tbody>\n",
       "    <tr>\n",
       "      <th>3150</th>\n",
       "      <td>Mulher Carioca</td>\n",
       "      <td>6395048</td>\n",
       "      <td>0.99</td>\n",
       "      <td>Latin</td>\n",
       "      <td>Vinicius De Moraes</td>\n",
       "      <td>Vinícius De Moraes</td>\n",
       "      <td>NaN</td>\n",
       "      <td>NaN</td>\n",
       "      <td>NaN</td>\n",
       "      <td>NaN</td>\n",
       "      <td>NaN</td>\n",
       "      <td>NaN</td>\n",
       "    </tr>\n",
       "    <tr>\n",
       "      <th>315</th>\n",
       "      <td>A Estrada</td>\n",
       "      <td>9344477</td>\n",
       "      <td>0.99</td>\n",
       "      <td>Reggae</td>\n",
       "      <td>Cidade Negra - Hits</td>\n",
       "      <td>Cidade Negra</td>\n",
       "      <td>NaN</td>\n",
       "      <td>NaN</td>\n",
       "      <td>NaN</td>\n",
       "      <td>NaN</td>\n",
       "      <td>NaN</td>\n",
       "      <td>NaN</td>\n",
       "    </tr>\n",
       "    <tr>\n",
       "      <th>2178</th>\n",
       "      <td>Theme From The Swan</td>\n",
       "      <td>6638076</td>\n",
       "      <td>0.99</td>\n",
       "      <td>Soundtrack</td>\n",
       "      <td>Original Soundtracks 1</td>\n",
       "      <td>Passengers</td>\n",
       "      <td>NaN</td>\n",
       "      <td>NaN</td>\n",
       "      <td>NaN</td>\n",
       "      <td>NaN</td>\n",
       "      <td>NaN</td>\n",
       "      <td>NaN</td>\n",
       "    </tr>\n",
       "    <tr>\n",
       "      <th>2772</th>\n",
       "      <td>Música No Ar</td>\n",
       "      <td>5184891</td>\n",
       "      <td>0.99</td>\n",
       "      <td>Latin</td>\n",
       "      <td>Serie Sem Limite (Disc 1)</td>\n",
       "      <td>Tim Maia</td>\n",
       "      <td>NaN</td>\n",
       "      <td>NaN</td>\n",
       "      <td>NaN</td>\n",
       "      <td>NaN</td>\n",
       "      <td>NaN</td>\n",
       "      <td>NaN</td>\n",
       "    </tr>\n",
       "    <tr>\n",
       "      <th>430</th>\n",
       "      <td>Tuesday's Gone</td>\n",
       "      <td>17900787</td>\n",
       "      <td>0.99</td>\n",
       "      <td>Metal</td>\n",
       "      <td>Garage Inc. (Disc 1)</td>\n",
       "      <td>Metallica</td>\n",
       "      <td>NaN</td>\n",
       "      <td>NaN</td>\n",
       "      <td>NaN</td>\n",
       "      <td>NaN</td>\n",
       "      <td>NaN</td>\n",
       "      <td>NaN</td>\n",
       "    </tr>\n",
       "  </tbody>\n",
       "</table>\n",
       "</div>"
      ],
      "text/plain": [
       "                    Track     Bytes  UnitPrice       Genre  \\\n",
       "3150       Mulher Carioca   6395048       0.99       Latin   \n",
       "315             A Estrada   9344477       0.99      Reggae   \n",
       "2178  Theme From The Swan   6638076       0.99  Soundtrack   \n",
       "2772         Música No Ar   5184891       0.99       Latin   \n",
       "430        Tuesday's Gone  17900787       0.99       Metal   \n",
       "\n",
       "                          Album              Artist  TrackId Name  AlbumId  \\\n",
       "3150         Vinicius De Moraes  Vinícius De Moraes      NaN  NaN      NaN   \n",
       "315         Cidade Negra - Hits        Cidade Negra      NaN  NaN      NaN   \n",
       "2178     Original Soundtracks 1          Passengers      NaN  NaN      NaN   \n",
       "2772  Serie Sem Limite (Disc 1)            Tim Maia      NaN  NaN      NaN   \n",
       "430        Garage Inc. (Disc 1)           Metallica      NaN  NaN      NaN   \n",
       "\n",
       "      MediaTypeId  GenreId  Milliseconds  \n",
       "3150          NaN      NaN           NaN  \n",
       "315           NaN      NaN           NaN  \n",
       "2178          NaN      NaN           NaN  \n",
       "2772          NaN      NaN           NaN  \n",
       "430           NaN      NaN           NaN  "
      ]
     },
     "execution_count": 20,
     "metadata": {},
     "output_type": "execute_result"
    }
   ],
   "source": [
    "itunes_df.loc[(itunes_df['Name'].isna())].sample(5, random_state = 42).head()"
   ]
  },
  {
   "cell_type": "markdown",
   "id": "d0ceddbd",
   "metadata": {},
   "source": [
    "Here, we take a random sample of 5 datapoints with sample(), giving it a random_state so the results are the same every time we run it. Then we look at a few rows with head(). In this case, we get results from all sorts of genres – TV shows, latin, and so on. "
   ]
  },
  {
   "cell_type": "code",
   "execution_count": 21,
   "id": "21af5101",
   "metadata": {},
   "outputs": [],
   "source": [
    "# We can drop all missing values with the following\n",
    "#itunes_df.dropna(inplace=True)"
   ]
  },
  {
   "cell_type": "markdown",
   "id": "7017663a",
   "metadata": {},
   "source": [
    "The dropna function has several other parameters (options), but we are simply specifying that it should modify the existing DataFrame with inplace=True. By default, this drops any rows with at least one missing value.\n",
    "\n",
    "If we were trying to do another type of machine learning, like clustering, we might want to fill the missing values with a specific value"
   ]
  },
  {
   "cell_type": "code",
   "execution_count": 22,
   "id": "74e8c623",
   "metadata": {},
   "outputs": [
    {
     "data": {
      "text/plain": [
       "0    Marvin\n",
       "1    Marvin\n",
       "2    Marvin\n",
       "3    Marvin\n",
       "4    Marvin\n",
       "Name: Name, dtype: object"
      ]
     },
     "execution_count": 22,
     "metadata": {},
     "output_type": "execute_result"
    }
   ],
   "source": [
    "# Fill the unknown names with the famous name \"Marvin\"\n",
    "itunes_df.loc[(itunes_df['Name'].isna()), ['Name']] = 'Marvin'\n",
    "\n",
    "itunes_df['Name'].head()"
   ]
  },
  {
   "cell_type": "code",
   "execution_count": 23,
   "id": "414279f6",
   "metadata": {},
   "outputs": [],
   "source": [
    "# The above can also be done as\n",
    "itunes_df['Name'].fillna('Marvin', inplace=True)"
   ]
  },
  {
   "cell_type": "markdown",
   "id": "cef2fd2e",
   "metadata": {},
   "source": [
    "Let's say instead we wanted to fill missing values with the mode, which is the most common value for a series of data. This could make sense if we have a dataset where most of the values are a particular value, such as with the UnitPrice column. In our case, 94% of the values are 0.99 for UnitPrice, so filling with the mode would make sense there. Filling with the mode can be done similarly as we did above, except using the mode function:"
   ]
  },
  {
   "cell_type": "code",
   "execution_count": 24,
   "id": "895ec56e",
   "metadata": {},
   "outputs": [],
   "source": [
    "# Fill the Unit Price null values with the mode\n",
    "itunes_df['UnitPrice'].fillna(itunes_df['UnitPrice'].mode(), inplace=True)\n",
    "\n"
   ]
  },
  {
   "cell_type": "markdown",
   "id": "0aedd296",
   "metadata": {},
   "source": [
    "In other cases, we may want to fill with the mean (average). This makes sense if we have a distribution of values that is somewhat Gaussian or a normal distribution, meaning it follows a bell curve shape. Instead of using mode, we can use mean. In other cases, it makes more sense to use the median (the 50th percentile), which means using something like df['Column'].median(). The median is best when we have a skewed distribution."
   ]
  },
  {
   "cell_type": "markdown",
   "id": "f87df82d",
   "metadata": {},
   "source": [
    "The most advanced method of replacing missing values is using machine learning. We can use the machine learning techniques that we will learn later in the book to predict missing values for each row and fill them in. Another option is using a pre-built imputer function, like the sklearn.impute.KNNImputer function, which accomplishes the same thing. Usually, replacing with the mean, median, or mode (or even a constant value such as 0) is good enough to start, but KNN (k-nearest neighbors) imputation works well (but requires more effort).\n",
    "\n",
    "An example where KNN imputation can work is demographic data. KNN works by taking a certain number, n, of the closest datapoints, and averages them to get new values. It gets the nearest points by Euclidean distance, which is a straight line between two points in space."
   ]
  },
  {
   "cell_type": "code",
   "execution_count": 25,
   "id": "1e3fe28e",
   "metadata": {},
   "outputs": [
    {
     "data": {
      "text/html": [
       "<div>\n",
       "<style scoped>\n",
       "    .dataframe tbody tr th:only-of-type {\n",
       "        vertical-align: middle;\n",
       "    }\n",
       "\n",
       "    .dataframe tbody tr th {\n",
       "        vertical-align: top;\n",
       "    }\n",
       "\n",
       "    .dataframe thead th {\n",
       "        text-align: right;\n",
       "    }\n",
       "</style>\n",
       "<table border=\"1\" class=\"dataframe\">\n",
       "  <thead>\n",
       "    <tr style=\"text-align: right;\">\n",
       "      <th></th>\n",
       "      <th>Track</th>\n",
       "      <th>Bytes</th>\n",
       "      <th>UnitPrice</th>\n",
       "      <th>Genre</th>\n",
       "      <th>Album</th>\n",
       "      <th>Artist</th>\n",
       "      <th>TrackId</th>\n",
       "      <th>Name</th>\n",
       "      <th>AlbumId</th>\n",
       "      <th>MediaTypeId</th>\n",
       "      <th>GenreId</th>\n",
       "      <th>Milliseconds</th>\n",
       "    </tr>\n",
       "  </thead>\n",
       "  <tbody>\n",
       "    <tr>\n",
       "      <th>0</th>\n",
       "      <td>For Those About To Rock (We Salute You)</td>\n",
       "      <td>11170334</td>\n",
       "      <td>0.99</td>\n",
       "      <td>Rock</td>\n",
       "      <td>For Those About To Rock We Salute You</td>\n",
       "      <td>AC/DC</td>\n",
       "      <td>NaN</td>\n",
       "      <td>Marvin</td>\n",
       "      <td>NaN</td>\n",
       "      <td>NaN</td>\n",
       "      <td>NaN</td>\n",
       "      <td>NaN</td>\n",
       "    </tr>\n",
       "    <tr>\n",
       "      <th>1</th>\n",
       "      <td>Put The Finger On You</td>\n",
       "      <td>6713451</td>\n",
       "      <td>0.99</td>\n",
       "      <td>Rock</td>\n",
       "      <td>For Those About To Rock We Salute You</td>\n",
       "      <td>AC/DC</td>\n",
       "      <td>NaN</td>\n",
       "      <td>Marvin</td>\n",
       "      <td>NaN</td>\n",
       "      <td>NaN</td>\n",
       "      <td>NaN</td>\n",
       "      <td>NaN</td>\n",
       "    </tr>\n",
       "    <tr>\n",
       "      <th>2</th>\n",
       "      <td>Let's Get It Up</td>\n",
       "      <td>7636561</td>\n",
       "      <td>0.99</td>\n",
       "      <td>Rock</td>\n",
       "      <td>For Those About To Rock We Salute You</td>\n",
       "      <td>AC/DC</td>\n",
       "      <td>NaN</td>\n",
       "      <td>Marvin</td>\n",
       "      <td>NaN</td>\n",
       "      <td>NaN</td>\n",
       "      <td>NaN</td>\n",
       "      <td>NaN</td>\n",
       "    </tr>\n",
       "    <tr>\n",
       "      <th>3</th>\n",
       "      <td>Inject The Venom</td>\n",
       "      <td>6852860</td>\n",
       "      <td>0.99</td>\n",
       "      <td>Rock</td>\n",
       "      <td>For Those About To Rock We Salute You</td>\n",
       "      <td>AC/DC</td>\n",
       "      <td>NaN</td>\n",
       "      <td>Marvin</td>\n",
       "      <td>NaN</td>\n",
       "      <td>NaN</td>\n",
       "      <td>NaN</td>\n",
       "      <td>NaN</td>\n",
       "    </tr>\n",
       "    <tr>\n",
       "      <th>4</th>\n",
       "      <td>Snowballed</td>\n",
       "      <td>6599424</td>\n",
       "      <td>0.99</td>\n",
       "      <td>Rock</td>\n",
       "      <td>For Those About To Rock We Salute You</td>\n",
       "      <td>AC/DC</td>\n",
       "      <td>NaN</td>\n",
       "      <td>Marvin</td>\n",
       "      <td>NaN</td>\n",
       "      <td>NaN</td>\n",
       "      <td>NaN</td>\n",
       "      <td>NaN</td>\n",
       "    </tr>\n",
       "  </tbody>\n",
       "</table>\n",
       "</div>"
      ],
      "text/plain": [
       "                                     Track     Bytes  UnitPrice Genre  \\\n",
       "0  For Those About To Rock (We Salute You)  11170334       0.99  Rock   \n",
       "1                    Put The Finger On You   6713451       0.99  Rock   \n",
       "2                          Let's Get It Up   7636561       0.99  Rock   \n",
       "3                         Inject The Venom   6852860       0.99  Rock   \n",
       "4                               Snowballed   6599424       0.99  Rock   \n",
       "\n",
       "                                   Album Artist  TrackId    Name  AlbumId  \\\n",
       "0  For Those About To Rock We Salute You  AC/DC      NaN  Marvin      NaN   \n",
       "1  For Those About To Rock We Salute You  AC/DC      NaN  Marvin      NaN   \n",
       "2  For Those About To Rock We Salute You  AC/DC      NaN  Marvin      NaN   \n",
       "3  For Those About To Rock We Salute You  AC/DC      NaN  Marvin      NaN   \n",
       "4  For Those About To Rock We Salute You  AC/DC      NaN  Marvin      NaN   \n",
       "\n",
       "   MediaTypeId  GenreId  Milliseconds  \n",
       "0          NaN      NaN           NaN  \n",
       "1          NaN      NaN           NaN  \n",
       "2          NaN      NaN           NaN  \n",
       "3          NaN      NaN           NaN  \n",
       "4          NaN      NaN           NaN  "
      ]
     },
     "execution_count": 25,
     "metadata": {},
     "output_type": "execute_result"
    }
   ],
   "source": [
    "itunes_df.head()"
   ]
  },
  {
   "cell_type": "code",
   "execution_count": 26,
   "id": "de1d2871",
   "metadata": {},
   "outputs": [
    {
     "data": {
      "text/html": [
       "<div>\n",
       "<style scoped>\n",
       "    .dataframe tbody tr th:only-of-type {\n",
       "        vertical-align: middle;\n",
       "    }\n",
       "\n",
       "    .dataframe tbody tr th {\n",
       "        vertical-align: top;\n",
       "    }\n",
       "\n",
       "    .dataframe thead th {\n",
       "        text-align: right;\n",
       "    }\n",
       "</style>\n",
       "<table border=\"1\" class=\"dataframe\">\n",
       "  <thead>\n",
       "    <tr style=\"text-align: right;\">\n",
       "      <th></th>\n",
       "      <th>Track</th>\n",
       "      <th>Bytes</th>\n",
       "      <th>UnitPrice</th>\n",
       "      <th>Genre</th>\n",
       "      <th>Album</th>\n",
       "      <th>Artist</th>\n",
       "      <th>TrackId</th>\n",
       "      <th>Name</th>\n",
       "      <th>AlbumId</th>\n",
       "      <th>MediaTypeId</th>\n",
       "      <th>GenreId</th>\n",
       "      <th>Milliseconds</th>\n",
       "    </tr>\n",
       "  </thead>\n",
       "  <tbody>\n",
       "    <tr>\n",
       "      <th>0</th>\n",
       "      <td>For Those About To Rock (We Salute You)</td>\n",
       "      <td>4552443.4</td>\n",
       "      <td>0.99</td>\n",
       "      <td>Rock</td>\n",
       "      <td>For Those About To Rock We Salute You</td>\n",
       "      <td>AC/DC</td>\n",
       "      <td>NaN</td>\n",
       "      <td>Marvin</td>\n",
       "      <td>NaN</td>\n",
       "      <td>NaN</td>\n",
       "      <td>NaN</td>\n",
       "      <td>NaN</td>\n",
       "    </tr>\n",
       "    <tr>\n",
       "      <th>1</th>\n",
       "      <td>Put The Finger On You</td>\n",
       "      <td>6713451.0</td>\n",
       "      <td>0.99</td>\n",
       "      <td>Rock</td>\n",
       "      <td>For Those About To Rock We Salute You</td>\n",
       "      <td>AC/DC</td>\n",
       "      <td>NaN</td>\n",
       "      <td>Marvin</td>\n",
       "      <td>NaN</td>\n",
       "      <td>NaN</td>\n",
       "      <td>NaN</td>\n",
       "      <td>NaN</td>\n",
       "    </tr>\n",
       "    <tr>\n",
       "      <th>2</th>\n",
       "      <td>Let's Get It Up</td>\n",
       "      <td>7636561.0</td>\n",
       "      <td>0.99</td>\n",
       "      <td>Rock</td>\n",
       "      <td>For Those About To Rock We Salute You</td>\n",
       "      <td>AC/DC</td>\n",
       "      <td>NaN</td>\n",
       "      <td>Marvin</td>\n",
       "      <td>NaN</td>\n",
       "      <td>NaN</td>\n",
       "      <td>NaN</td>\n",
       "      <td>NaN</td>\n",
       "    </tr>\n",
       "    <tr>\n",
       "      <th>3</th>\n",
       "      <td>Inject The Venom</td>\n",
       "      <td>6852860.0</td>\n",
       "      <td>0.99</td>\n",
       "      <td>Rock</td>\n",
       "      <td>For Those About To Rock We Salute You</td>\n",
       "      <td>AC/DC</td>\n",
       "      <td>NaN</td>\n",
       "      <td>Marvin</td>\n",
       "      <td>NaN</td>\n",
       "      <td>NaN</td>\n",
       "      <td>NaN</td>\n",
       "      <td>NaN</td>\n",
       "    </tr>\n",
       "    <tr>\n",
       "      <th>4</th>\n",
       "      <td>Snowballed</td>\n",
       "      <td>6599424.0</td>\n",
       "      <td>0.99</td>\n",
       "      <td>Rock</td>\n",
       "      <td>For Those About To Rock We Salute You</td>\n",
       "      <td>AC/DC</td>\n",
       "      <td>NaN</td>\n",
       "      <td>Marvin</td>\n",
       "      <td>NaN</td>\n",
       "      <td>NaN</td>\n",
       "      <td>NaN</td>\n",
       "      <td>NaN</td>\n",
       "    </tr>\n",
       "  </tbody>\n",
       "</table>\n",
       "</div>"
      ],
      "text/plain": [
       "                                     Track      Bytes  UnitPrice Genre  \\\n",
       "0  For Those About To Rock (We Salute You)  4552443.4       0.99  Rock   \n",
       "1                    Put The Finger On You  6713451.0       0.99  Rock   \n",
       "2                          Let's Get It Up  7636561.0       0.99  Rock   \n",
       "3                         Inject The Venom  6852860.0       0.99  Rock   \n",
       "4                               Snowballed  6599424.0       0.99  Rock   \n",
       "\n",
       "                                   Album Artist  TrackId    Name  AlbumId  \\\n",
       "0  For Those About To Rock We Salute You  AC/DC      NaN  Marvin      NaN   \n",
       "1  For Those About To Rock We Salute You  AC/DC      NaN  Marvin      NaN   \n",
       "2  For Those About To Rock We Salute You  AC/DC      NaN  Marvin      NaN   \n",
       "3  For Those About To Rock We Salute You  AC/DC      NaN  Marvin      NaN   \n",
       "4  For Those About To Rock We Salute You  AC/DC      NaN  Marvin      NaN   \n",
       "\n",
       "   MediaTypeId  GenreId  Milliseconds  \n",
       "0          NaN      NaN           NaN  \n",
       "1          NaN      NaN           NaN  \n",
       "2          NaN      NaN           NaN  \n",
       "3          NaN      NaN           NaN  \n",
       "4          NaN      NaN           NaN  "
      ]
     },
     "execution_count": 26,
     "metadata": {},
     "output_type": "execute_result"
    }
   ],
   "source": [
    "import numpy as np\n",
    "\n",
    "from sklearn.impute import KNNImputer\n",
    "\n",
    "# Set the first row in the Bytes cilumn to null\n",
    "itunes_df.loc[0, 'Bytes'] = np.nan\n",
    "\n",
    "# Set the KNN imputer\n",
    "imputer = KNNImputer()\n",
    "\n",
    "# Leave the imputation with the standard k = 5 on the columns below\n",
    "imputed = imputer.fit_transform(itunes_df[['Milliseconds', 'Bytes', 'UnitPrice']])\n",
    "\n",
    "\n",
    "# Replace the missing values in the Bytes column\n",
    "itunes_df['Bytes'] = imputed[:, 1]\n",
    "\n",
    "\n",
    "# Display the imputed variable\n",
    "itunes_df.head()"
   ]
  },
  {
   "cell_type": "markdown",
   "id": "0fba554a",
   "metadata": {},
   "source": [
    "This takes in data with missing values, fits a KNN model, and then fills in the missing values with predictions from the model. Unfortunately, sklearn can only handle numeric data without missing values, so we can't pass it any strings. Then, to replace our missing values, we overwrite the Bytes column with our new data:\n",
    "\n",
    "> imputed = imputer.fit_transform(itunes_df[['Milliseconds','Bytes', 'UnitPrice']])\n",
    "\n",
    "The imputed variable is a NumPy array, which is like a pandas Series. We are indexing it with [:, 1], which means retrieving all rows and the second column. If we examine the prediction for the missing value compared with the original value, it's close but not perfect. Our predicted value from KNNImputer for the first row with an Index value of 0 (there are a few rows with an Index value of 0) is 4.5e6, but the actual original value was 11.17e6 before we set it to np.nan. However, the KNNImputer prediction is much closer than the mean value for Bytes of 33.51021e6, which is an order of magnitude larger than the actual value. So, the KNNImputer method does a much better job of filling in missing values compared with using the mean for data that has a very wide distribution or is not close to a Gaussian distribution."
   ]
  },
  {
   "cell_type": "markdown",
   "id": "0b86e7db",
   "metadata": {},
   "source": [
    "### Dealing with Outliers\n",
    "\n",
    "Outliers are data that are not in the usual range of values. For categorical data, such as the genres, these may be some of the minority classes, like TV shows. We could remove these rows with filtering, or we could also group all minority classes into a class we label as Other. Dealing with categorical outliers can help a little with analysis, but often has a minimal impact.\n",
    "\n",
    "For numeric data, it's easy to quantify an outlier. Typically, we use interquartile range (IQR) or z-score methods. We will cover the IQR method here, since it relates to boxplots, which we will cover in the next chapter.\n",
    "\n",
    "Recall that we get quartiles (25th, 50th, 75th percentiles) from the describe() function in our EDA. These are sometimes called the first, second, and third quartiles, respectively (Q1, Q2, and Q3).\n",
    "\n",
    "> IQR = 75th_Percentile - 25th_Percentile\n",
    "\n",
    "**Upper_Boundary  = 75th_Percentile + 1.5 * IQR**\n",
    "\n",
    "  \n",
    " **Lower_Boundary  = 75th_Percentile - 1.5 * IQR**"
   ]
  },
  {
   "cell_type": "code",
   "execution_count": 27,
   "id": "ff1e6b74",
   "metadata": {},
   "outputs": [],
   "source": [
    "# Removing Outliers\n",
    "\n",
    "def remove_outliers(df, column):\n",
    "    q1 = df[column].quantile(0.25)\n",
    "    q3 = df[column].quantile(0.75)\n",
    "    iqr = q3 - q1\n",
    "    upper_boundary = q3 + 1.5 * iqr\n",
    "    lower_boundary = q1 - 1.5 * iqr\n",
    "    new_df = df.loc[(df[column] > lower_boundary) & (df[column] < upper_boundary)]\n",
    "    return new_df\n"
   ]
  },
  {
   "cell_type": "markdown",
   "id": "52a8a46c",
   "metadata": {},
   "source": [
    "Here, we have created a function that takes a DataFrame and column name as an argument. The first two lines calculate the 25th and 75th percentile levels with the quantile() method, and store them in the q1 and q3 variables. Then we calculate IQR from the difference between Q1 and Q3. Next, we get the upper and lower boundaries for outliers using the IQR outlier formulas. Then we use DataFrame filtering to only keep the points between the upper and lower boundaries (keeping only the non-outlier points). The result is stored in a new DataFrame, new_df. Finally, we return our DataFrame. We could use this with a numeric column like this:"
   ]
  },
  {
   "cell_type": "code",
   "execution_count": 28,
   "id": "4c1e5730",
   "metadata": {},
   "outputs": [
    {
     "data": {
      "text/plain": [
       "(6292, 12)"
      ]
     },
     "execution_count": 28,
     "metadata": {},
     "output_type": "execute_result"
    }
   ],
   "source": [
    "itunes_df_clean = remove_outliers(df = itunes_df, column = 'Milliseconds')\n",
    "\n",
    "itunes_df_clean.shape"
   ]
  },
  {
   "cell_type": "markdown",
   "id": "915ff79f",
   "metadata": {},
   "source": [
    "> We can then use the shape attribute, itunes_df_clean.shape, to check that some rows were actually dropped. In this case, we excluded about 400 rows of data by removing the Milliseconds outliers."
   ]
  },
  {
   "cell_type": "markdown",
   "id": "b826c249",
   "metadata": {},
   "source": [
    "Removing outliers can make it easier to visualize data and can improve the performance of machine learning models. Another easy way to remove outliers is to exclude any datapoints that lie outside of extreme percentiles in the data. For example, we could remove any points outside of the 1st and 99th percentiles, meaning we only keep the middle 98% of the data."
   ]
  },
  {
   "cell_type": "markdown",
   "id": "7b7b9719",
   "metadata": {},
   "source": [
    "### Dealing with Duplicated Values\n",
    "\n",
    "It's always a good idea to check for duplicate values, since they can creep into data in numerous ways. An easy way to check for duplicates is the duplicated() function:\n",
    "\n",
    "> itunes_df.duplicated().sum()"
   ]
  },
  {
   "cell_type": "code",
   "execution_count": 29,
   "id": "2763c564",
   "metadata": {},
   "outputs": [
    {
     "data": {
      "text/plain": [
       "3226"
      ]
     },
     "execution_count": 29,
     "metadata": {},
     "output_type": "execute_result"
    }
   ],
   "source": [
    "# Check for duplicated values\n",
    "itunes_df.duplicated().sum()"
   ]
  },
  {
   "cell_type": "code",
   "execution_count": 30,
   "id": "587ee272",
   "metadata": {},
   "outputs": [
    {
     "data": {
      "text/plain": [
       "(7283, 12)"
      ]
     },
     "execution_count": 30,
     "metadata": {},
     "output_type": "execute_result"
    }
   ],
   "source": [
    "# Now, lets frop the duplicates\n",
    "itunes_df.drop_duplicates(inplace = True)\n",
    "\n",
    "# View the shape of the dataframe\n",
    "itunes_df.shape"
   ]
  },
  {
   "cell_type": "markdown",
   "id": "f3ebe875",
   "metadata": {},
   "source": [
    "## Ensuring Datatypes are Correct\n",
    "\n",
    "Sometimes data will be loaded as an object datatype (string) instead of numeric if there are some non-numbers in that column. We want to use the df.info() function as we did before to check that our columns are the correct datatype, and then convert any columns that need it. For example, we could convert Milliseconds to an integer datatype like so:\n",
    "\n"
   ]
  },
  {
   "cell_type": "code",
   "execution_count": 31,
   "id": "673056f0",
   "metadata": {},
   "outputs": [],
   "source": [
    "\n",
    "\n",
    "itunes_df['Bytes'] = itunes_df['Bytes'].astype('int')\n"
   ]
  },
  {
   "cell_type": "markdown",
   "id": "fa8a653b",
   "metadata": {},
   "source": [
    "> Within the astype function, we can use strings such as 'float', 'int', or 'object', Python datatypes like int or float, or NumPy datatypes like np.int. For most work, we only need the datatypes object (for strings), int, and float."
   ]
  },
  {
   "cell_type": "markdown",
   "id": "48b6f008",
   "metadata": {},
   "source": [
    "### Standardizing Data Types\n",
    "\n",
    "Sometimes we will have string data in several formats. This tends to happen when data is entered by hand. For example, some people may capitalize gender like \"Male,\" \"Female,\" or \"Nonbinary,\" while others may leave it lowercased. Some people may only use a one-letter abbreviation, like \"M.\" Cleaning this sort of data often means using DataFrame filtering, loc indexing, and string methods to replace values. We will cover this in the next section."
   ]
  },
  {
   "cell_type": "code",
   "execution_count": 32,
   "id": "894e8b2e",
   "metadata": {},
   "outputs": [
    {
     "data": {
      "text/html": [
       "<div>\n",
       "<style scoped>\n",
       "    .dataframe tbody tr th:only-of-type {\n",
       "        vertical-align: middle;\n",
       "    }\n",
       "\n",
       "    .dataframe tbody tr th {\n",
       "        vertical-align: top;\n",
       "    }\n",
       "\n",
       "    .dataframe thead th {\n",
       "        text-align: right;\n",
       "    }\n",
       "</style>\n",
       "<table border=\"1\" class=\"dataframe\">\n",
       "  <thead>\n",
       "    <tr style=\"text-align: right;\">\n",
       "      <th></th>\n",
       "      <th>Track</th>\n",
       "      <th>Bytes</th>\n",
       "      <th>UnitPrice</th>\n",
       "      <th>Genre</th>\n",
       "      <th>Album</th>\n",
       "      <th>Artist</th>\n",
       "      <th>TrackId</th>\n",
       "      <th>Name</th>\n",
       "      <th>AlbumId</th>\n",
       "      <th>MediaTypeId</th>\n",
       "      <th>GenreId</th>\n",
       "      <th>Milliseconds</th>\n",
       "      <th>len_byte_ratio</th>\n",
       "    </tr>\n",
       "  </thead>\n",
       "  <tbody>\n",
       "    <tr>\n",
       "      <th>0</th>\n",
       "      <td>For Those About To Rock (We Salute You)</td>\n",
       "      <td>4552443</td>\n",
       "      <td>0.99</td>\n",
       "      <td>Rock</td>\n",
       "      <td>For Those About To Rock We Salute You</td>\n",
       "      <td>AC/DC</td>\n",
       "      <td>NaN</td>\n",
       "      <td>Marvin</td>\n",
       "      <td>NaN</td>\n",
       "      <td>NaN</td>\n",
       "      <td>NaN</td>\n",
       "      <td>NaN</td>\n",
       "      <td>NaN</td>\n",
       "    </tr>\n",
       "    <tr>\n",
       "      <th>1</th>\n",
       "      <td>Put The Finger On You</td>\n",
       "      <td>6713451</td>\n",
       "      <td>0.99</td>\n",
       "      <td>Rock</td>\n",
       "      <td>For Those About To Rock We Salute You</td>\n",
       "      <td>AC/DC</td>\n",
       "      <td>NaN</td>\n",
       "      <td>Marvin</td>\n",
       "      <td>NaN</td>\n",
       "      <td>NaN</td>\n",
       "      <td>NaN</td>\n",
       "      <td>NaN</td>\n",
       "      <td>NaN</td>\n",
       "    </tr>\n",
       "    <tr>\n",
       "      <th>2</th>\n",
       "      <td>Let's Get It Up</td>\n",
       "      <td>7636561</td>\n",
       "      <td>0.99</td>\n",
       "      <td>Rock</td>\n",
       "      <td>For Those About To Rock We Salute You</td>\n",
       "      <td>AC/DC</td>\n",
       "      <td>NaN</td>\n",
       "      <td>Marvin</td>\n",
       "      <td>NaN</td>\n",
       "      <td>NaN</td>\n",
       "      <td>NaN</td>\n",
       "      <td>NaN</td>\n",
       "      <td>NaN</td>\n",
       "    </tr>\n",
       "    <tr>\n",
       "      <th>3</th>\n",
       "      <td>Inject The Venom</td>\n",
       "      <td>6852860</td>\n",
       "      <td>0.99</td>\n",
       "      <td>Rock</td>\n",
       "      <td>For Those About To Rock We Salute You</td>\n",
       "      <td>AC/DC</td>\n",
       "      <td>NaN</td>\n",
       "      <td>Marvin</td>\n",
       "      <td>NaN</td>\n",
       "      <td>NaN</td>\n",
       "      <td>NaN</td>\n",
       "      <td>NaN</td>\n",
       "      <td>NaN</td>\n",
       "    </tr>\n",
       "    <tr>\n",
       "      <th>4</th>\n",
       "      <td>Snowballed</td>\n",
       "      <td>6599424</td>\n",
       "      <td>0.99</td>\n",
       "      <td>Rock</td>\n",
       "      <td>For Those About To Rock We Salute You</td>\n",
       "      <td>AC/DC</td>\n",
       "      <td>NaN</td>\n",
       "      <td>Marvin</td>\n",
       "      <td>NaN</td>\n",
       "      <td>NaN</td>\n",
       "      <td>NaN</td>\n",
       "      <td>NaN</td>\n",
       "      <td>NaN</td>\n",
       "    </tr>\n",
       "  </tbody>\n",
       "</table>\n",
       "</div>"
      ],
      "text/plain": [
       "                                     Track    Bytes  UnitPrice Genre  \\\n",
       "0  For Those About To Rock (We Salute You)  4552443       0.99  Rock   \n",
       "1                    Put The Finger On You  6713451       0.99  Rock   \n",
       "2                          Let's Get It Up  7636561       0.99  Rock   \n",
       "3                         Inject The Venom  6852860       0.99  Rock   \n",
       "4                               Snowballed  6599424       0.99  Rock   \n",
       "\n",
       "                                   Album Artist  TrackId    Name  AlbumId  \\\n",
       "0  For Those About To Rock We Salute You  AC/DC      NaN  Marvin      NaN   \n",
       "1  For Those About To Rock We Salute You  AC/DC      NaN  Marvin      NaN   \n",
       "2  For Those About To Rock We Salute You  AC/DC      NaN  Marvin      NaN   \n",
       "3  For Those About To Rock We Salute You  AC/DC      NaN  Marvin      NaN   \n",
       "4  For Those About To Rock We Salute You  AC/DC      NaN  Marvin      NaN   \n",
       "\n",
       "   MediaTypeId  GenreId  Milliseconds  len_byte_ratio  \n",
       "0          NaN      NaN           NaN             NaN  \n",
       "1          NaN      NaN           NaN             NaN  \n",
       "2          NaN      NaN           NaN             NaN  \n",
       "3          NaN      NaN           NaN             NaN  \n",
       "4          NaN      NaN           NaN             NaN  "
      ]
     },
     "execution_count": 32,
     "metadata": {},
     "output_type": "execute_result"
    }
   ],
   "source": [
    "# Create a new column called lin_byte_ratio\n",
    "itunes_df['len_byte_ratio'] = itunes_df['Milliseconds'] / itunes_df['Bytes']\n",
    "\n",
    "# Preview new df\n",
    "itunes_df.head()"
   ]
  },
  {
   "cell_type": "markdown",
   "id": "03a0f6dc",
   "metadata": {},
   "source": [
    "### Using replace, map and apply to clean and transform data\n",
    "\n",
    "A handy way to replace several values at once is with the map and replace functions. For example, we can replace variations of genres in our iTunes data like so:\n",
    "\n"
   ]
  },
  {
   "cell_type": "code",
   "execution_count": 33,
   "id": "7d8d2b2d",
   "metadata": {},
   "outputs": [
    {
     "data": {
      "text/html": [
       "<div>\n",
       "<style scoped>\n",
       "    .dataframe tbody tr th:only-of-type {\n",
       "        vertical-align: middle;\n",
       "    }\n",
       "\n",
       "    .dataframe tbody tr th {\n",
       "        vertical-align: top;\n",
       "    }\n",
       "\n",
       "    .dataframe thead th {\n",
       "        text-align: right;\n",
       "    }\n",
       "</style>\n",
       "<table border=\"1\" class=\"dataframe\">\n",
       "  <thead>\n",
       "    <tr style=\"text-align: right;\">\n",
       "      <th></th>\n",
       "      <th>GenreId</th>\n",
       "      <th>Name</th>\n",
       "    </tr>\n",
       "  </thead>\n",
       "  <tbody>\n",
       "    <tr>\n",
       "      <th>0</th>\n",
       "      <td>1</td>\n",
       "      <td>Rock</td>\n",
       "    </tr>\n",
       "    <tr>\n",
       "      <th>1</th>\n",
       "      <td>2</td>\n",
       "      <td>Jazz</td>\n",
       "    </tr>\n",
       "    <tr>\n",
       "      <th>2</th>\n",
       "      <td>3</td>\n",
       "      <td>Metal</td>\n",
       "    </tr>\n",
       "    <tr>\n",
       "      <th>3</th>\n",
       "      <td>4</td>\n",
       "      <td>Alternative &amp; Punk</td>\n",
       "    </tr>\n",
       "    <tr>\n",
       "      <th>4</th>\n",
       "      <td>5</td>\n",
       "      <td>Rock And Roll</td>\n",
       "    </tr>\n",
       "  </tbody>\n",
       "</table>\n",
       "</div>"
      ],
      "text/plain": [
       "   GenreId                Name\n",
       "0        1                Rock\n",
       "1        2                Jazz\n",
       "2        3               Metal\n",
       "3        4  Alternative & Punk\n",
       "4        5       Rock And Roll"
      ]
     },
     "execution_count": 33,
     "metadata": {},
     "output_type": "execute_result"
    }
   ],
   "source": [
    "# Load the genre_id csv\n",
    "\n",
    "genre_df = pd.read_csv(r'data\\genreid_to_name.csv')\n",
    "\n",
    "genre_df.head()"
   ]
  },
  {
   "cell_type": "code",
   "execution_count": 34,
   "id": "6d23fe1a",
   "metadata": {},
   "outputs": [
    {
     "data": {
      "text/plain": [
       "{1: 'Rock',\n",
       " 2: 'Jazz',\n",
       " 3: 'Metal',\n",
       " 4: 'Alternative & Punk',\n",
       " 5: 'Rock And Roll',\n",
       " 6: 'Blues',\n",
       " 7: 'Latin',\n",
       " 8: 'Reggae',\n",
       " 9: 'Pop',\n",
       " 10: 'Soundtrack',\n",
       " 11: 'Bossa Nova',\n",
       " 12: 'Easy Listening',\n",
       " 13: 'Heavy Metal',\n",
       " 14: 'R&B/Soul',\n",
       " 15: 'Electronica/Dance',\n",
       " 16: 'World',\n",
       " 17: 'Hip Hop/Rap',\n",
       " 18: 'Science Fiction',\n",
       " 19: 'TV Shows',\n",
       " 20: 'Sci Fi & Fantasy',\n",
       " 21: 'Drama',\n",
       " 22: 'Comedy',\n",
       " 23: 'Alternative',\n",
       " 24: 'Classical',\n",
       " 25: 'Opera'}"
      ]
     },
     "execution_count": 34,
     "metadata": {},
     "output_type": "execute_result"
    }
   ],
   "source": [
    "# Convert the genre_df to a dictionary\n",
    "genre_dict = dict(zip(genre_df['GenreId'], genre_df['Name']))\n",
    "\n",
    "# View the dictionary\n",
    "genre_dict"
   ]
  },
  {
   "cell_type": "code",
   "execution_count": 36,
   "id": "a4b2b356",
   "metadata": {},
   "outputs": [
    {
     "data": {
      "text/plain": [
       "Rock                  1322\n",
       "Latin                  764\n",
       "Metal                  374\n",
       "Alternative & Punk     352\n",
       "Jazz                   134\n",
       "TV Shows                93\n",
       "Classical               81\n",
       "Blues                   81\n",
       "Drama                   66\n",
       "Reggae                  66\n",
       "R&B/Soul                61\n",
       "Pop                     50\n",
       "Soundtrack              47\n",
       "Alternative             40\n",
       "World                   37\n",
       "Hip Hop/Rap             37\n",
       "Electronica/Dance       30\n",
       "Heavy Metal             28\n",
       "Sci Fi & Fantasy        26\n",
       "Easy Listening          24\n",
       "Bossa Nova              23\n",
       "Comedy                  17\n",
       "Science Fiction         13\n",
       "Rock And Roll           12\n",
       "Opera                    2\n",
       "Name: GenreId, dtype: int64"
      ]
     },
     "execution_count": 36,
     "metadata": {},
     "output_type": "execute_result"
    }
   ],
   "source": [
    "# Replace GenreID with the Genre Name\n",
    "itunes_df['GenreId'] = itunes_df['GenreId'].replace(genre_dict)\n",
    "\n",
    "itunes_df['GenreId'].value_counts()\n",
    "\n"
   ]
  },
  {
   "cell_type": "markdown",
   "id": "56bd9f93",
   "metadata": {},
   "source": [
    "First, we create a dictionary, where the keys are the existing values in the DataFrame, and the values are what should replace the existing values. In this case, we replace variations of the GenreId with Genre Name. In the second line, we select the Genre column, then use replace with our dictionary of replacement values. This returns a new pandas Series.\n",
    "\n",
    "The replace function replaces any matching values it finds in the supplied dictionary, and one use case is replacing some (or all) of the values in a Series. Any values that are not in the dictionary passed to replace will be left alone. If we want any non-matching values in our provided conversion dictionary to be replaced with NaN instead, then we can use map. This makes it easy to check if any values were not converted to something new by checking for NaN values in the Series (for example, this can be useful in unit tests). The performance of map and replace are similar."
   ]
  },
  {
   "cell_type": "markdown",
   "id": "a9bb777a",
   "metadata": {},
   "source": [
    "### Using GroupBy\n",
    "\n",
    "One last useful tool we'll cover is groupby. This is just like in SQL – group by unique values in a column. For example, we can look at the average length of songs by genre, and sort them from least to greatest:"
   ]
  },
  {
   "cell_type": "code",
   "execution_count": 39,
   "id": "0616b061",
   "metadata": {},
   "outputs": [
    {
     "data": {
      "text/plain": [
       "GenreId\n",
       "Rock And Roll     134643.500000\n",
       "Opera             174813.000000\n",
       "Hip Hop/Rap       178669.324324\n",
       "Easy Listening    189164.208333\n",
       "R&B/Soul          220066.852459\n",
       "Name: Milliseconds, dtype: float64"
      ]
     },
     "execution_count": 39,
     "metadata": {},
     "output_type": "execute_result"
    }
   ],
   "source": [
    "# Grouping By 'GenreId'\n",
    "itunes_df.groupby('GenreId').mean()['Milliseconds'].sort_values().head()"
   ]
  },
  {
   "cell_type": "markdown",
   "id": "f0727e27",
   "metadata": {},
   "source": [
    "First, we take our DataFrame, then use the groupby method. We supply the column name we want to group by, and then take the average, or mean.\n",
    "\n",
    "This returns a pandas Series. We can then use the sort_values() method to sort from least to greatest. Finally, we use head() to get only the first five"
   ]
  },
  {
   "cell_type": "markdown",
   "id": "7139db05",
   "metadata": {},
   "source": [
    "## Writing DataFrames to disk\n",
    "\n",
    "We first give the filename as an argument for to_csv, and then tell it to not write the index to the file with index=False. This filename would save the data as saved_itunes_data.csv in the directory named \"data\" within the same folder/directory where the code is being run.\n",
    "\n",
    "There are many other ways to save data. Some others I like to use are HDF and feather. HDF and Parquet files offer compression, and HDF allows us to append to files and retrieve only parts of the data at a time (via the index). Feather files are nice because they are very fast, compressed, and were designed for passing data between R and Python. However, feather is not considered a good idea for longer-term storage because the format could change. One last option to consider is writing to an Excel file (df.to_excel(filename)) if the data needs to be shared with less technical colleagues.\n",
    "\n",
    "There is a lot more on the advanced side of the pandas package – aggregations, working with temporal data, and reshaping data. To learn more about advanced pandas usage, consider Packt's Pandas 1.x Cookbook, by Matt Harrison and Theodore Petrou, which is highly rated."
   ]
  },
  {
   "cell_type": "code",
   "execution_count": 40,
   "id": "219b90ab",
   "metadata": {},
   "outputs": [],
   "source": [
    "itunes_df_clean.to_csv(r'data/saved_itunes_data.csv', index=False)"
   ]
  },
  {
   "cell_type": "markdown",
   "id": "66700e25",
   "metadata": {},
   "source": [
    "## EDA\n",
    "\n",
    "You've started a new data science position at a solar cell installation company. They\n",
    "have some solar cell and solar irradiation data in Excel files they want you to load,\n",
    "clean, and analyze, and then deliver your results to the executive team and president.\n",
    "\n",
    "\n"
   ]
  },
  {
   "cell_type": "code",
   "execution_count": 17,
   "id": "d415d6d3",
   "metadata": {},
   "outputs": [
    {
     "name": "stdout",
     "output_type": "stream",
     "text": [
      "Begin the Data Upload Process for data\\solar_data_1.xlsx\n",
      "Done with the Data Upload process for data\\solar_data_1.xlsx\n",
      "Begin the Data Upload Process for data\\solar_data_2.xlsx\n",
      "Done with the Data Upload process for data\\solar_data_2.xlsx\n"
     ]
    }
   ],
   "source": [
    "from glob import glob\n",
    "import pandas as pd\n",
    "\n",
    "# Load all solar data provided\n",
    "combined_df_list = []\n",
    "\n",
    "for excel_file in glob(r\"data\\solar*\"):\n",
    "    print(f\"Begin the Data Upload Process for {excel_file}\")\n",
    "    solar_df = pd.read_excel(excel_file)\n",
    "    combined_df_list.append(solar_df)\n",
    "    print(f\"Done with the Data Upload process for {excel_file}\")\n",
    "    \n"
   ]
  },
  {
   "cell_type": "code",
   "execution_count": 18,
   "id": "ba858e90",
   "metadata": {},
   "outputs": [
    {
     "data": {
      "text/html": [
       "<div>\n",
       "<style scoped>\n",
       "    .dataframe tbody tr th:only-of-type {\n",
       "        vertical-align: middle;\n",
       "    }\n",
       "\n",
       "    .dataframe tbody tr th {\n",
       "        vertical-align: top;\n",
       "    }\n",
       "\n",
       "    .dataframe thead th {\n",
       "        text-align: right;\n",
       "    }\n",
       "</style>\n",
       "<table border=\"1\" class=\"dataframe\">\n",
       "  <thead>\n",
       "    <tr style=\"text-align: right;\">\n",
       "      <th></th>\n",
       "      <th>state_name</th>\n",
       "      <th>number_of_panels_total</th>\n",
       "      <th>kw_total</th>\n",
       "      <th>kw_median</th>\n",
       "      <th>yearly_sunlight_kwh_median</th>\n",
       "      <th>yearly_sunlight_kwh_total</th>\n",
       "      <th>existing_installs_count</th>\n",
       "    </tr>\n",
       "  </thead>\n",
       "  <tbody>\n",
       "    <tr>\n",
       "      <th>0</th>\n",
       "      <td>NaN</td>\n",
       "      <td>31</td>\n",
       "      <td>7.75</td>\n",
       "      <td>3.25</td>\n",
       "      <td>5209.464685</td>\n",
       "      <td>1.243764e+04</td>\n",
       "      <td>0.0</td>\n",
       "    </tr>\n",
       "    <tr>\n",
       "      <th>1</th>\n",
       "      <td>Alabama</td>\n",
       "      <td>58997532</td>\n",
       "      <td>14749383.00</td>\n",
       "      <td>9.75</td>\n",
       "      <td>12069.322656</td>\n",
       "      <td>1.896138e+10</td>\n",
       "      <td>549.0</td>\n",
       "    </tr>\n",
       "    <tr>\n",
       "      <th>2</th>\n",
       "      <td>Alaska</td>\n",
       "      <td>2179124</td>\n",
       "      <td>544781.00</td>\n",
       "      <td>7.25</td>\n",
       "      <td>6540.612622</td>\n",
       "      <td>4.664927e+08</td>\n",
       "      <td>83.0</td>\n",
       "    </tr>\n",
       "    <tr>\n",
       "      <th>3</th>\n",
       "      <td>Arizona</td>\n",
       "      <td>114697808</td>\n",
       "      <td>28674452.00</td>\n",
       "      <td>11.75</td>\n",
       "      <td>18974.796637</td>\n",
       "      <td>4.639329e+10</td>\n",
       "      <td>39553.0</td>\n",
       "    </tr>\n",
       "    <tr>\n",
       "      <th>4</th>\n",
       "      <td>Arkansas</td>\n",
       "      <td>28130196</td>\n",
       "      <td>7032549.00</td>\n",
       "      <td>9.75</td>\n",
       "      <td>12099.947974</td>\n",
       "      <td>8.941609e+09</td>\n",
       "      <td>238.0</td>\n",
       "    </tr>\n",
       "  </tbody>\n",
       "</table>\n",
       "</div>"
      ],
      "text/plain": [
       "  state_name  number_of_panels_total     kw_total  kw_median  \\\n",
       "0        NaN                      31         7.75       3.25   \n",
       "1    Alabama                58997532  14749383.00       9.75   \n",
       "2     Alaska                 2179124    544781.00       7.25   \n",
       "3    Arizona               114697808  28674452.00      11.75   \n",
       "4   Arkansas                28130196   7032549.00       9.75   \n",
       "\n",
       "   yearly_sunlight_kwh_median  yearly_sunlight_kwh_total  \\\n",
       "0                 5209.464685               1.243764e+04   \n",
       "1                12069.322656               1.896138e+10   \n",
       "2                 6540.612622               4.664927e+08   \n",
       "3                18974.796637               4.639329e+10   \n",
       "4                12099.947974               8.941609e+09   \n",
       "\n",
       "   existing_installs_count  \n",
       "0                      0.0  \n",
       "1                    549.0  \n",
       "2                     83.0  \n",
       "3                  39553.0  \n",
       "4                    238.0  "
      ]
     },
     "execution_count": 18,
     "metadata": {},
     "output_type": "execute_result"
    }
   ],
   "source": [
    "\n",
    "# Now lets concatenate the 2 dataframes\n",
    "solar_df = pd.concat(combined_df_list)\n",
    "\n",
    "# Preview the DF\n",
    "solar_df.head()"
   ]
  },
  {
   "cell_type": "code",
   "execution_count": 19,
   "id": "8a34733e",
   "metadata": {},
   "outputs": [
    {
     "data": {
      "text/plain": [
       "(55, 7)"
      ]
     },
     "execution_count": 19,
     "metadata": {},
     "output_type": "execute_result"
    }
   ],
   "source": [
    "# Lets see the shape of the data\n",
    "solar_df.shape"
   ]
  },
  {
   "cell_type": "code",
   "execution_count": 20,
   "id": "a4b9ff56",
   "metadata": {},
   "outputs": [
    {
     "data": {
      "text/html": [
       "<div>\n",
       "<style scoped>\n",
       "    .dataframe tbody tr th:only-of-type {\n",
       "        vertical-align: middle;\n",
       "    }\n",
       "\n",
       "    .dataframe tbody tr th {\n",
       "        vertical-align: top;\n",
       "    }\n",
       "\n",
       "    .dataframe thead th {\n",
       "        text-align: right;\n",
       "    }\n",
       "</style>\n",
       "<table border=\"1\" class=\"dataframe\">\n",
       "  <thead>\n",
       "    <tr style=\"text-align: right;\">\n",
       "      <th></th>\n",
       "      <th>number_of_panels_total</th>\n",
       "      <th>kw_total</th>\n",
       "      <th>kw_median</th>\n",
       "      <th>yearly_sunlight_kwh_median</th>\n",
       "      <th>yearly_sunlight_kwh_total</th>\n",
       "      <th>existing_installs_count</th>\n",
       "    </tr>\n",
       "  </thead>\n",
       "  <tbody>\n",
       "    <tr>\n",
       "      <th>count</th>\n",
       "      <td>5.500000e+01</td>\n",
       "      <td>5.500000e+01</td>\n",
       "      <td>54.000000</td>\n",
       "      <td>54.000000</td>\n",
       "      <td>5.500000e+01</td>\n",
       "      <td>54.000000</td>\n",
       "    </tr>\n",
       "    <tr>\n",
       "      <th>mean</th>\n",
       "      <td>6.418217e+07</td>\n",
       "      <td>1.604554e+07</td>\n",
       "      <td>7.907407</td>\n",
       "      <td>9952.438422</td>\n",
       "      <td>2.078188e+10</td>\n",
       "      <td>12785.666667</td>\n",
       "    </tr>\n",
       "    <tr>\n",
       "      <th>std</th>\n",
       "      <td>9.028737e+07</td>\n",
       "      <td>2.257184e+07</td>\n",
       "      <td>1.963882</td>\n",
       "      <td>3390.644848</td>\n",
       "      <td>3.233178e+10</td>\n",
       "      <td>46522.857045</td>\n",
       "    </tr>\n",
       "    <tr>\n",
       "      <th>min</th>\n",
       "      <td>3.100000e+01</td>\n",
       "      <td>7.750000e+00</td>\n",
       "      <td>3.250000</td>\n",
       "      <td>5156.452783</td>\n",
       "      <td>1.243764e+04</td>\n",
       "      <td>0.000000</td>\n",
       "    </tr>\n",
       "    <tr>\n",
       "      <th>25%</th>\n",
       "      <td>1.704436e+07</td>\n",
       "      <td>4.261089e+06</td>\n",
       "      <td>6.750000</td>\n",
       "      <td>7350.628174</td>\n",
       "      <td>5.982309e+09</td>\n",
       "      <td>357.000000</td>\n",
       "    </tr>\n",
       "    <tr>\n",
       "      <th>50%</th>\n",
       "      <td>4.847139e+07</td>\n",
       "      <td>1.211785e+07</td>\n",
       "      <td>7.750000</td>\n",
       "      <td>9409.792603</td>\n",
       "      <td>1.481478e+10</td>\n",
       "      <td>1727.000000</td>\n",
       "    </tr>\n",
       "    <tr>\n",
       "      <th>75%</th>\n",
       "      <td>7.325589e+07</td>\n",
       "      <td>1.831397e+07</td>\n",
       "      <td>9.000000</td>\n",
       "      <td>11375.480533</td>\n",
       "      <td>2.074348e+10</td>\n",
       "      <td>5994.500000</td>\n",
       "    </tr>\n",
       "    <tr>\n",
       "      <th>max</th>\n",
       "      <td>5.310227e+08</td>\n",
       "      <td>1.327557e+08</td>\n",
       "      <td>13.000000</td>\n",
       "      <td>19004.649878</td>\n",
       "      <td>1.980163e+11</td>\n",
       "      <td>328899.000000</td>\n",
       "    </tr>\n",
       "  </tbody>\n",
       "</table>\n",
       "</div>"
      ],
      "text/plain": [
       "       number_of_panels_total      kw_total  kw_median  \\\n",
       "count            5.500000e+01  5.500000e+01  54.000000   \n",
       "mean             6.418217e+07  1.604554e+07   7.907407   \n",
       "std              9.028737e+07  2.257184e+07   1.963882   \n",
       "min              3.100000e+01  7.750000e+00   3.250000   \n",
       "25%              1.704436e+07  4.261089e+06   6.750000   \n",
       "50%              4.847139e+07  1.211785e+07   7.750000   \n",
       "75%              7.325589e+07  1.831397e+07   9.000000   \n",
       "max              5.310227e+08  1.327557e+08  13.000000   \n",
       "\n",
       "       yearly_sunlight_kwh_median  yearly_sunlight_kwh_total  \\\n",
       "count                   54.000000               5.500000e+01   \n",
       "mean                  9952.438422               2.078188e+10   \n",
       "std                   3390.644848               3.233178e+10   \n",
       "min                   5156.452783               1.243764e+04   \n",
       "25%                   7350.628174               5.982309e+09   \n",
       "50%                   9409.792603               1.481478e+10   \n",
       "75%                  11375.480533               2.074348e+10   \n",
       "max                  19004.649878               1.980163e+11   \n",
       "\n",
       "       existing_installs_count  \n",
       "count                54.000000  \n",
       "mean              12785.666667  \n",
       "std               46522.857045  \n",
       "min                   0.000000  \n",
       "25%                 357.000000  \n",
       "50%                1727.000000  \n",
       "75%                5994.500000  \n",
       "max              328899.000000  "
      ]
     },
     "execution_count": 20,
     "metadata": {},
     "output_type": "execute_result"
    }
   ],
   "source": [
    "# Lets see measures of central tendency and measures of dispersion\n",
    "solar_df.describe()"
   ]
  },
  {
   "cell_type": "markdown",
   "id": "477404fb",
   "metadata": {},
   "source": [
    "### Dealing with Missing Values"
   ]
  },
  {
   "cell_type": "code",
   "execution_count": 21,
   "id": "3155fbc7",
   "metadata": {},
   "outputs": [
    {
     "name": "stdout",
     "output_type": "stream",
     "text": [
      "<class 'pandas.core.frame.DataFrame'>\n",
      "Int64Index: 55 entries, 0 to 33\n",
      "Data columns (total 7 columns):\n",
      " #   Column                      Non-Null Count  Dtype  \n",
      "---  ------                      --------------  -----  \n",
      " 0   state_name                  54 non-null     object \n",
      " 1   number_of_panels_total      55 non-null     int64  \n",
      " 2   kw_total                    55 non-null     float64\n",
      " 3   kw_median                   54 non-null     float64\n",
      " 4   yearly_sunlight_kwh_median  54 non-null     float64\n",
      " 5   yearly_sunlight_kwh_total   55 non-null     float64\n",
      " 6   existing_installs_count     54 non-null     float64\n",
      "dtypes: float64(5), int64(1), object(1)\n",
      "memory usage: 3.4+ KB\n"
     ]
    }
   ],
   "source": [
    "# Check for missing Values\n",
    "solar_df.info()"
   ]
  },
  {
   "cell_type": "markdown",
   "id": "e067b72d",
   "metadata": {},
   "source": [
    "From the above, state name, kw_median, yearly_sunlight_kwh_median and existing_installs_count all have missing values. Lets deal with them"
   ]
  },
  {
   "cell_type": "code",
   "execution_count": 22,
   "id": "486356c3",
   "metadata": {},
   "outputs": [
    {
     "name": "stdout",
     "output_type": "stream",
     "text": [
      "<class 'pandas.core.frame.DataFrame'>\n",
      "Int64Index: 55 entries, 0 to 33\n",
      "Data columns (total 7 columns):\n",
      " #   Column                      Non-Null Count  Dtype  \n",
      "---  ------                      --------------  -----  \n",
      " 0   state_name                  54 non-null     object \n",
      " 1   number_of_panels_total      55 non-null     int64  \n",
      " 2   kw_total                    55 non-null     float64\n",
      " 3   kw_median                   55 non-null     float64\n",
      " 4   yearly_sunlight_kwh_median  55 non-null     float64\n",
      " 5   yearly_sunlight_kwh_total   55 non-null     float64\n",
      " 6   existing_installs_count     55 non-null     float64\n",
      "dtypes: float64(5), int64(1), object(1)\n",
      "memory usage: 3.4+ KB\n"
     ]
    }
   ],
   "source": [
    "# Lets fill the missing values using different techniques\n",
    "from sklearn.impute import KNNImputer\n",
    "\n",
    "# For the kw_median, lets fill the missing value using the mean\n",
    "solar_df.loc[(solar_df[\"kw_median\"].isna()), [\"kw_median\"]] = solar_df[\"kw_median\"].mean()\n",
    "\n",
    "\n",
    "# For the yearly_sunlight_kwh_median, lets fill the missing value using the median\n",
    "solar_df.loc[(solar_df[\"yearly_sunlight_kwh_median\"].isna()), ['yearly_sunlight_kwh_median']] = solar_df[\"yearly_sunlight_kwh_median\"].median()\n",
    "\n",
    "\n",
    "# For the existing_installs_count, lets fill the missing value using the KNN\n",
    "imputer = KNNImputer()\n",
    "\n",
    "# Perform the imputation\n",
    "imputed = imputer.fit_transform(solar_df[[\"existing_installs_count\", \"yearly_sunlight_kwh_median\", \"kw_median\", \"kw_total\"]])\n",
    "\n",
    "# Replace the missing value in the Bytes column\n",
    "solar_df[\"existing_installs_count\"] = imputed[:, 0]\n",
    "\n",
    "# Confirm that the missing values have been replaced\n",
    "solar_df.info()"
   ]
  },
  {
   "cell_type": "code",
   "execution_count": 23,
   "id": "85e6fe88",
   "metadata": {},
   "outputs": [
    {
     "data": {
      "text/plain": [
       "array([nan, 'Alabama', 'Alaska', 'Arizona', 'Arkansas', 'California',\n",
       "       'Colorado', 'Connecticut', 'Delaware', 'District of Columbia',\n",
       "       'Florida', 'Georgia', 'Hawaii', 'Idaho', 'Illinois', 'Indiana',\n",
       "       'Iowa', 'Kansas', 'Kentucky', 'Louisiana', 'Maine', 'Maryland',\n",
       "       'Massachusetts', 'Michigan', 'Minnesota', 'Mississippi',\n",
       "       'Missouri', 'Montana', 'Nebraska', 'Nevada', 'New Hampshire',\n",
       "       'New Jersey', 'New Mexico', 'New York', 'North Carolina',\n",
       "       'North Dakota', 'Ohio', 'Oklahoma', 'Oregon', 'Pennsylvania',\n",
       "       'Rhode Island', 'South Carolina', 'South Dakota', 'Tennessee',\n",
       "       'Texas', 'Utah', 'Vermont', 'Virginia', 'Washington',\n",
       "       'West Virginia', 'Wisconsin', 'Wyoming'], dtype=object)"
      ]
     },
     "execution_count": 23,
     "metadata": {},
     "output_type": "execute_result"
    }
   ],
   "source": [
    "# What are the Unique states involved\n",
    "\n",
    "solar_df[\"state_name\"].unique()"
   ]
  },
  {
   "cell_type": "markdown",
   "id": "1c510e1d",
   "metadata": {},
   "source": [
    "### Checking for Outliers"
   ]
  },
  {
   "cell_type": "code",
   "execution_count": 28,
   "id": "3341f06a",
   "metadata": {},
   "outputs": [
    {
     "data": {
      "text/plain": [
       "array([[<AxesSubplot:title={'center':'number_of_panels_total'}>,\n",
       "        <AxesSubplot:title={'center':'kw_total'}>],\n",
       "       [<AxesSubplot:title={'center':'kw_median'}>,\n",
       "        <AxesSubplot:title={'center':'yearly_sunlight_kwh_median'}>],\n",
       "       [<AxesSubplot:title={'center':'yearly_sunlight_kwh_total'}>,\n",
       "        <AxesSubplot:title={'center':'existing_installs_count'}>]],\n",
       "      dtype=object)"
      ]
     },
     "execution_count": 28,
     "metadata": {},
     "output_type": "execute_result"
    },
    {
     "data": {
      "image/png": "[encoded data removed]",
      "text/plain": [
       "<Figure size 432x288 with 6 Axes>"
      ]
     },
     "metadata": {
      "needs_background": "light"
     },
     "output_type": "display_data"
    }
   ],
   "source": [
    "solar_df.hist()"
   ]
  },
  {
   "cell_type": "markdown",
   "id": "26384d3a",
   "metadata": {},
   "source": [
    "### Checking for duplicated Values"
   ]
  },
  {
   "cell_type": "code",
   "execution_count": 26,
   "id": "7fe1bf2f",
   "metadata": {},
   "outputs": [
    {
     "data": {
      "text/plain": [
       "3"
      ]
     },
     "execution_count": 26,
     "metadata": {},
     "output_type": "execute_result"
    }
   ],
   "source": [
    "# Checking for duplicated rows\n",
    "solar_df.duplicated().sum()"
   ]
  },
  {
   "cell_type": "code",
   "execution_count": null,
   "id": "75c30c23",
   "metadata": {},
   "outputs": [],
   "source": [
    "# Show the duplicated rows\n",
    "solar_df[solar_df.duplicated(keep=False])"
   ]
  },
  {
   "cell_type": "code",
   "execution_count": null,
   "id": "eec9a0ff",
   "metadata": {
    "collapsed": true
   },
   "outputs": [],
   "source": []
  },
  {
   "cell_type": "code",
   "execution_count": 27,
   "id": "5b1c3358",
   "metadata": {},
   "outputs": [
    {
     "data": {
      "text/plain": [
       "(52, 7)"
      ]
     },
     "execution_count": 27,
     "metadata": {},
     "output_type": "execute_result"
    }
   ],
   "source": [
    "# Lets drop the duplicated values\n",
    "solar_df.drop_duplicates(inplace=True)\n",
    "\n",
    "\n",
    "# Check the shape\n",
    "solar_df.shape"
   ]
  },
  {
   "cell_type": "code",
   "execution_count": null,
   "id": "90f6f13f",
   "metadata": {},
   "outputs": [],
   "source": []
  }
 ],
 "metadata": {
  "kernelspec": {
   "display_name": "Python 3 (ipykernel)",
   "language": "python",
   "name": "python3"
  },
  "language_info": {
   "codemirror_mode": {
    "name": "ipython",
    "version": 3
   },
   "file_extension": ".py",
   "mimetype": "text/x-python",
   "name": "python",
   "nbconvert_exporter": "python",
   "pygments_lexer": "ipython3",
   "version": "3.9.7"
  }
 },
 "nbformat": 4,
 "nbformat_minor": 5
}
