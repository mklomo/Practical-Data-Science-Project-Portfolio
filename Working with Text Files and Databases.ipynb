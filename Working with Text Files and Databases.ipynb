{
 "cells": [
  {
   "cell_type": "markdown",
   "id": "9bd81b88",
   "metadata": {},
   "source": [
    "# Working with Text Files and Databases"
   ]
  },
  {
   "cell_type": "code",
   "execution_count": 2,
   "id": "e3926476",
   "metadata": {},
   "outputs": [
    {
     "name": "stdout",
     "output_type": "stream",
     "text": [
      "Hello World\n"
     ]
    }
   ],
   "source": [
    "print(\"Hello World\")"
   ]
  },
  {
   "cell_type": "markdown",
   "id": "e827a5c2",
   "metadata": {},
   "source": [
    "## Reading a text file"
   ]
  },
  {
   "cell_type": "code",
   "execution_count": 2,
   "id": "b15cfe43",
   "metadata": {},
   "outputs": [
    {
     "name": "stdout",
     "output_type": "stream",
     "text": [
      "['This is a test file\\n', 'Reading this file in Anaconda\\n', 'Thanks']\n"
     ]
    }
   ],
   "source": [
    "with open(file=\"data\\script.txt\", mode = 'r') as file:\n",
    "    # Read the file each line at a time\n",
    "    text = file.readlines()\n",
    "    print(text)"
   ]
  },
  {
   "cell_type": "code",
   "execution_count": 3,
   "id": "3256000f",
   "metadata": {},
   "outputs": [
    {
     "name": "stdout",
     "output_type": "stream",
     "text": [
      "This is a test file\n",
      "Reading this file in Anaconda\n",
      "Thanks\n"
     ]
    }
   ],
   "source": [
    "with open(file=\"data\\script.txt\", mode = 'r') as file:\n",
    "    # Read the entire file \n",
    "    text = file.read()\n",
    "    print(text)"
   ]
  },
  {
   "cell_type": "markdown",
   "id": "a4d945f5",
   "metadata": {},
   "source": [
    "## Using the JSON module\n",
    "\n",
    "JSON looks very much like a dictionary in Python. JavaScript Object Notation (JSON) is a text-based format for representing and storing data and is mostly used for web applications. We can use JSON to save data to a text file or to transfer data to and from an Application Programming Interface (API)."
   ]
  },
  {
   "cell_type": "code",
   "execution_count": 9,
   "id": "c5cb0456",
   "metadata": {},
   "outputs": [
    {
     "name": "stdout",
     "output_type": "stream",
     "text": [
      "{\"books\": 12, \"articles\": 100, \"subjects\": [\"math\", \"programming\", \"data science\"]}\n"
     ]
    }
   ],
   "source": [
    "import json\n",
    "\n",
    "data_dictionary = { \"books\": 12, \"articles\": 100, \"subjects\": [\"math\", \"programming\", \"data science\"]}\n",
    "\n",
    "# Convert the data dictionary above to a JSON\n",
    "json_string = json.dumps(data_dictionary)\n",
    "print(json_string)"
   ]
  },
  {
   "cell_type": "code",
   "execution_count": 10,
   "id": "518afd1c",
   "metadata": {},
   "outputs": [
    {
     "name": "stdout",
     "output_type": "stream",
     "text": [
      "{'books': 12, 'articles': 100, 'subjects': ['math', 'programming', 'data science']}\n"
     ]
    }
   ],
   "source": [
    "# Convert the above json to a dictionary\n",
    "new_data_dictionary = json.loads(json_string)\n",
    "\n",
    "print(new_data_dictionary)"
   ]
  },
  {
   "cell_type": "code",
   "execution_count": 12,
   "id": "8ef4e8f8",
   "metadata": {},
   "outputs": [],
   "source": [
    "# Saving JSON\n",
    "\n",
    "with open(file=\"data\\json_text_file.json\", mode = \"w\") as file:\n",
    "    # Remember to first convert the json to a dictionary then save the dictionary as a json\n",
    "    json.dump(data_dictionary, file)"
   ]
  },
  {
   "cell_type": "markdown",
   "id": "4f3c2bd4",
   "metadata": {},
   "source": [
    "## Working with SQLITE"
   ]
  },
  {
   "cell_type": "code",
   "execution_count": 2,
   "id": "344ab8a8",
   "metadata": {},
   "outputs": [],
   "source": [
    "import sqlite3\n",
    "\n",
    "connection = sqlite3.connect(r\"data\\chinook.db\")\n",
    "\n",
    "cursor = connection.cursor()"
   ]
  },
  {
   "cell_type": "code",
   "execution_count": 15,
   "id": "81271b40",
   "metadata": {},
   "outputs": [
    {
     "data": {
      "text/plain": [
       "[(1, 'AC/DC'),\n",
       " (2, 'Accept'),\n",
       " (3, 'Aerosmith'),\n",
       " (4, 'Alanis Morissette'),\n",
       " (5, 'Alice In Chains'),\n",
       " (6, 'Antônio Carlos Jobim'),\n",
       " (7, 'Apocalyptica'),\n",
       " (8, 'Audioslave'),\n",
       " (9, 'BackBeat'),\n",
       " (10, 'Billy Cobham')]"
      ]
     },
     "execution_count": 15,
     "metadata": {},
     "output_type": "execute_result"
    }
   ],
   "source": [
    "# Perofrm SQL commands\n",
    "\n",
    "cursor.execute(\"SELECT * FROM ARTISTS LIMIT 10;\")\n",
    "\n",
    "# Retrieve the results of the querry\n",
    "cursor.fetchall()"
   ]
  },
  {
   "cell_type": "code",
   "execution_count": 16,
   "id": "b935c37f",
   "metadata": {},
   "outputs": [
    {
     "data": {
      "text/plain": [
       "[(8.91, 'Canada'),\n",
       " (8.91, 'Canada'),\n",
       " (0.99, 'Canada'),\n",
       " (1.98, 'Canada'),\n",
       " (13.86, 'Canada')]"
      ]
     },
     "execution_count": 16,
     "metadata": {},
     "output_type": "execute_result"
    }
   ],
   "source": [
    "# Specify the Querry\n",
    "querry = \"\"\"\n",
    "SELECT Total,\n",
    "       BillingCountry\n",
    "FROM Invoices\n",
    "WHERE BillingCountry == \"Canada\"\n",
    "LIMIT 5;\n",
    "\"\"\"\n",
    "\n",
    "# Execute the Querry\n",
    "cursor.execute(querry)\n",
    "\n",
    "\n",
    "# Fetch the results of the Querry\n",
    "cursor.fetchall()"
   ]
  },
  {
   "cell_type": "code",
   "execution_count": 17,
   "id": "bd995bda",
   "metadata": {},
   "outputs": [
    {
     "data": {
      "text/plain": [
       "[(8.91, 'Canada'),\n",
       " (8.91, 'Canada'),\n",
       " (0.99, 'Canada'),\n",
       " (1.98, 'Canada'),\n",
       " (13.86, 'Canada')]"
      ]
     },
     "execution_count": 17,
     "metadata": {},
     "output_type": "execute_result"
    }
   ],
   "source": [
    "# Specify the Querry\n",
    "querry = \"\"\"\n",
    "SELECT Total,\n",
    "       BillingCountry\n",
    "FROM Invoices\n",
    "WHERE BillingCountry LIKE \"%can%\"\n",
    "LIMIT 5;\n",
    "\"\"\"\n",
    "\n",
    "# Execute the Querry\n",
    "cursor.execute(querry)\n",
    "\n",
    "\n",
    "# Fetch the results of the Querry\n",
    "cursor.fetchall()"
   ]
  },
  {
   "cell_type": "code",
   "execution_count": 18,
   "id": "460a87ae",
   "metadata": {},
   "outputs": [
    {
     "data": {
      "text/plain": [
       "[(523.0600000000003, 'USA'),\n",
       " (303.9599999999999, 'Canada'),\n",
       " (195.09999999999994, 'France'),\n",
       " (190.09999999999997, 'Brazil'),\n",
       " (156.48, 'Germany')]"
      ]
     },
     "execution_count": 18,
     "metadata": {},
     "output_type": "execute_result"
    }
   ],
   "source": [
    "# Specify the Querry\n",
    "querry = \"\"\"\n",
    "SELECT SUM(Total),\n",
    "       BillingCountry\n",
    "FROM Invoices\n",
    "GROUP BY BillingCountry\n",
    "ORDER BY SUM(Total) DESC\n",
    "LIMIT 5;\n",
    "\"\"\"\n",
    "\n",
    "# Execute the Querry\n",
    "cursor.execute(querry)\n",
    "\n",
    "\n",
    "# Fetch the results of the Querry\n",
    "cursor.fetchall()"
   ]
  },
  {
   "cell_type": "code",
   "execution_count": 19,
   "id": "e824b06c",
   "metadata": {},
   "outputs": [
    {
     "data": {
      "text/plain": [
       "[('Germany', 2), ('Germany', 4), ('Norway', 6), ('Norway', 8), ('Norway', 10)]"
      ]
     },
     "execution_count": 19,
     "metadata": {},
     "output_type": "execute_result"
    }
   ],
   "source": [
    "# Specify the Querry\n",
    "querry = \"\"\"\n",
    "SELECT Invoices.BillingCountry,\n",
    "       Invoice_items.TrackId\n",
    "FROM Invoices\n",
    "JOIN Invoice_items\n",
    "ON Invoices.InvoiceId = Invoice_items.InvoiceId\n",
    "LIMIT 5;\n",
    "\"\"\"\n",
    "\n",
    "# Execute the Querry\n",
    "cursor.execute(querry)\n",
    "\n",
    "\n",
    "# Fetch the results of the Querry\n",
    "cursor.fetchall()"
   ]
  },
  {
   "cell_type": "code",
   "execution_count": 21,
   "id": "02440d11",
   "metadata": {},
   "outputs": [
    {
     "data": {
      "text/plain": [
       "[(0, 'InvoiceId', 'INTEGER', 1, None, 1),\n",
       " (1, 'CustomerId', 'INTEGER', 1, None, 0),\n",
       " (2, 'InvoiceDate', 'DATETIME', 1, None, 0),\n",
       " (3, 'BillingAddress', 'NVARCHAR(70)', 0, None, 0),\n",
       " (4, 'BillingCity', 'NVARCHAR(40)', 0, None, 0),\n",
       " (5, 'BillingState', 'NVARCHAR(40)', 0, None, 0),\n",
       " (6, 'BillingCountry', 'NVARCHAR(40)', 0, None, 0),\n",
       " (7, 'BillingPostalCode', 'NVARCHAR(10)', 0, None, 0),\n",
       " (8, 'Total', 'NUMERIC(10,2)', 1, None, 0)]"
      ]
     },
     "execution_count": 21,
     "metadata": {},
     "output_type": "execute_result"
    }
   ],
   "source": [
    "# For information on the table, use the command below\n",
    "\n",
    "querry = \"\"\"\n",
    "PRAGMA table_info(Invoices)\n",
    "\"\"\"\n",
    "\n",
    "# Execute the Querry\n",
    "cursor.execute(querry)\n",
    "\n",
    "\n",
    "# Fetch the results of the Querry\n",
    "cursor.fetchall()"
   ]
  },
  {
   "cell_type": "markdown",
   "id": "ba4319e6",
   "metadata": {},
   "source": [
    "The last column of the results is the pk field, meaning \"primary key.\" If the value is a 1, it is a primary key. We can see from the results that InvoiceId is the primary key column in the invoices table."
   ]
  },
  {
   "cell_type": "code",
   "execution_count": 24,
   "id": "30090118",
   "metadata": {},
   "outputs": [
    {
     "data": {
      "text/plain": [
       "[(99, 494, 'USA'),\n",
       " (42, 304, 'Canada'),\n",
       " (234, 190, 'France'),\n",
       " (738, 190, 'Brazil'),\n",
       " (2, 152, 'Germany')]"
      ]
     },
     "execution_count": 24,
     "metadata": {},
     "output_type": "execute_result"
    }
   ],
   "source": [
    "querry = \"\"\"\n",
    "SELECT \n",
    "    invoice_items.TrackId,\n",
    "    COUNT(invoice_items.TrackId),\n",
    "    invoices.BillingCountry\n",
    "FROM invoices\n",
    "JOIN invoice_items\n",
    "ON invoices.InvoiceId = invoice_items.InvoiceId\n",
    "GROUP BY invoices.BillingCountry\n",
    "ORDER BY COUNT(invoice_items.TrackId) DESC\n",
    "LIMIT 5;\n",
    "\"\"\"\n",
    "# Execute the Querry\n",
    "cursor.execute(querry)\n",
    "\n",
    "\n",
    "# Fetch the results of the Querry\n",
    "cursor.fetchall()"
   ]
  },
  {
   "cell_type": "markdown",
   "id": "68f3d245",
   "metadata": {},
   "source": [
    "Close the Database Connection"
   ]
  },
  {
   "cell_type": "code",
   "execution_count": 25,
   "id": "cbe5b784",
   "metadata": {},
   "outputs": [],
   "source": [
    "connection.close()"
   ]
  },
  {
   "cell_type": "markdown",
   "id": "a794e661",
   "metadata": {},
   "source": [
    "## Creating a SQLite Databases and Storing Data\n",
    "\n",
    "We can see the data is stored in a list since the outer brackets are square brackets. Each element in the list is a tuple since it is surrounded by parentheses. We have the data in the order of date, book title, price, and quantity. We use a tuple for each data row because that is implicitly recommended by Python's sqlite documentation (https://docs.python.org/3/library/sqlite3.html) , although we can also use a list. Tuples are a good idea to use when inserting data into a SQL database because they are immutable, meaning they can't be changed.\n",
    "\n",
    "This means our data can't be inadvertently changed by a mistake in our code before we enter it into the database or purposefully changed by a hacker (once it's a tuple - it could be changed earlier if it was a list). We can convert a list to a tuple with tuple(), in the form of tuple([1, 2, 3])"
   ]
  },
  {
   "cell_type": "code",
   "execution_count": 1,
   "id": "3929bce6",
   "metadata": {},
   "outputs": [],
   "source": [
    "# Data to be inserted into DB\n",
    "book_data = [\n",
    "    ('12-1-2020', 'Practical Data Science With Python', 19.99, 1),\n",
    "    ('12-15-2020', 'Python Machine Learning', 27.99, 1),\n",
    "    ('12-17-2020', 'Machine Learning For Algorithmic Trading', 34.99, 1)\n",
    "]"
   ]
  },
  {
   "cell_type": "code",
   "execution_count": 3,
   "id": "cf3d420a",
   "metadata": {},
   "outputs": [],
   "source": [
    "import sqlite3\n",
    "\n",
    "# Create a connection to a DB - DB will be created if it does not exist\n",
    "connection = sqlite3.connect(r'data\\book_sales.db') \n",
    "\n",
    "cursor = connection.cursor()\n",
    "\n"
   ]
  },
  {
   "cell_type": "markdown",
   "id": "071d2ce7",
   "metadata": {},
   "source": [
    "## Table Creation\n",
    "\n",
    "The query below uses a multi-line string with triple single quotes surrounding it. We title our table book_sales and provide the column names and datatypes for each column next to them, separated by commas. For example, the first column is date with a text datatype. We also surround the set of column names and datatypes with parentheses. Once we have created the table, we cannot create it again in the same database, or it throws an error. However, adding the IF NOT EXISTS statement enables us to run the CREATE TABLE command, and it will not return an error if the table already exists. If we needed to delete the table to start over, we could use the DROP TABLE book_sales; command.\n",
    "\n",
    "Once the table is created, we can insert data with the INSERT INTO command:"
   ]
  },
  {
   "cell_type": "code",
   "execution_count": 4,
   "id": "d9b6b67b",
   "metadata": {},
   "outputs": [
    {
     "data": {
      "text/plain": [
       "<sqlite3.Cursor at 0x15d008e36c0>"
      ]
     },
     "execution_count": 4,
     "metadata": {},
     "output_type": "execute_result"
    }
   ],
   "source": [
    "# Create a Table in the DB\n",
    "cursor.execute(\"\"\"CREATE TABLE IF NOT EXISTS book_sales (\n",
    "            DATE TEXT,\n",
    "            BOOK_TITLE TEXT,\n",
    "            PRICE REAL,\n",
    "            QUANTITY REAL\n",
    ")\n",
    "\"\"\")\n"
   ]
  },
  {
   "cell_type": "markdown",
   "id": "329d646f",
   "metadata": {},
   "source": [
    "## Inserting Records\n",
    "\n",
    "We specify the table name after the INSERT INTO command, then use the VALUES keyword, followed by our data to insert into each of the columns. Here, we are using question mark placeholders, which derive their values from the second argument we give to cursor.execute(). We should have one value or placeholder for each column. Next, we supply book_data as the second argument to cursor.execute(), but we only supply the first element of the list with book_data[0]. The question mark placeholders are then replaced by each value in the tuple from book_data[0] when the query is executed. We can also use string formatting to place our values into the query, but this is not recommended. String formatting of SQL queries is a little less safe because we can suffer from a SQL injection attack. For example, if a hacker was able to put an arbitrary string into our SQL query, they could insert something like ; DROP TABLE book_sales;, which would delete the data in the book_sales table.\n",
    "\n",
    "After inserting the data, we need to call connection.commit() to save the changes. Otherwise, the data will not persist in the database. We now have the first row of our data in the database. We can check that it's there with a simple SELECT statement:\n"
   ]
  },
  {
   "cell_type": "code",
   "execution_count": 5,
   "id": "28f0d2af",
   "metadata": {},
   "outputs": [],
   "source": [
    "# Insert a single record into the TABLE\n",
    "cursor.execute(\"INSERT INTO book_sales VALUES (?, ?, ?, ?)\", book_data[0])\n",
    "\n",
    "# Persist the Data\n",
    "connection.commit()"
   ]
  },
  {
   "cell_type": "markdown",
   "id": "c52d2d80",
   "metadata": {},
   "source": [
    "## Query the DB Table\n",
    "\n",
    "We can check that it's there with a simple SELECT statement:"
   ]
  },
  {
   "cell_type": "code",
   "execution_count": 6,
   "id": "e3988200",
   "metadata": {},
   "outputs": [
    {
     "data": {
      "text/plain": [
       "[('12-1-2020', 'Practical Data Science With Python', 19.99, 1.0)]"
      ]
     },
     "execution_count": 6,
     "metadata": {},
     "output_type": "execute_result"
    }
   ],
   "source": [
    "# Perform the SELECT Query\n",
    "cursor.execute(\"SELECT * FROM book_sales;\")\n",
    "\n",
    "# Fetch the Results\n",
    "cursor.fetchall()"
   ]
  },
  {
   "cell_type": "markdown",
   "id": "2e667303",
   "metadata": {},
   "source": [
    "## Inserting MANY Records\n",
    "\n",
    "We can also use the executemany() method to insert several data records at once, like so:"
   ]
  },
  {
   "cell_type": "code",
   "execution_count": 7,
   "id": "76da2809",
   "metadata": {},
   "outputs": [],
   "source": [
    "# Inserting several records\n",
    "cursor.executemany('INSERT INTO book_sales VALUES (?,?,?,?)', book_data[1:])\n",
    "\n",
    "# Persist the Data \n",
    "connection.commit()\n",
    "\n",
    "# Close the connection \n",
    "connection.close()"
   ]
  },
  {
   "cell_type": "markdown",
   "id": "8dd69067",
   "metadata": {},
   "source": [
    "## Using the SQLAlchemy Package\n",
    "\n",
    "In the example below, we first import the create_engine function from the SQLAlchemy package, then connect to our database file with that function. We are using the relative path to the database file here, but absolute paths are allowed as well. The database type, a colon character, then three forward slashes (///) is the typical pattern for the beginning of a SQLAlchemy connection string. We then initiate a connection to the database with engine.connect()."
   ]
  },
  {
   "cell_type": "code",
   "execution_count": 8,
   "id": "fc8c964e",
   "metadata": {},
   "outputs": [],
   "source": [
    "from sqlalchemy import create_engine\n",
    "# Refer to the absolute path of the sqlite DB\n",
    "engine = create_engine(r'sqlite:///C:\\Users\\INNO\\Documents\\Python Development\\Practical Data Science\\data\\book_sales.db')\n",
    "connection = engine.connect()"
   ]
  },
  {
   "cell_type": "code",
   "execution_count": 19,
   "id": "25f4ca74",
   "metadata": {},
   "outputs": [
    {
     "data": {
      "text/plain": [
       "sqlalchemy.engine.cursor.LegacyCursorResult"
      ]
     },
     "execution_count": 19,
     "metadata": {},
     "output_type": "execute_result"
    }
   ],
   "source": [
    "# Retrieve Data from the DB\n",
    "result = connection.execute(\"select * from book_sales\")\n",
    "\n",
    "# The command above returns a sqlalchemy class\n",
    "type(result)"
   ]
  },
  {
   "cell_type": "code",
   "execution_count": 18,
   "id": "8079c48b",
   "metadata": {},
   "outputs": [
    {
     "data": {
      "text/plain": [
       "[]"
      ]
     },
     "execution_count": 18,
     "metadata": {},
     "output_type": "execute_result"
    }
   ],
   "source": [
    "# We can retrieve the result using \n",
    "list(result)"
   ]
  },
  {
   "cell_type": "code",
   "execution_count": 20,
   "id": "1dfc2abc",
   "metadata": {},
   "outputs": [
    {
     "name": "stdout",
     "output_type": "stream",
     "text": [
      "('12-1-2020', 'Practical Data Science With Python', 19.99, 1.0)\n",
      "('12-15-2020', 'Python Machine Learning', 27.99, 1.0)\n",
      "('12-17-2020', 'Machine Learning For Algorithmic Trading', 34.99, 1.0)\n"
     ]
    }
   ],
   "source": [
    "for row in result:\n",
    "    print(row)"
   ]
  },
  {
   "cell_type": "code",
   "execution_count": 21,
   "id": "61ef95d7",
   "metadata": {},
   "outputs": [],
   "source": [
    "# Close the Connection\n",
    "connection.close()"
   ]
  },
  {
   "cell_type": "code",
   "execution_count": 22,
   "id": "4b5cbd3e",
   "metadata": {},
   "outputs": [
    {
     "name": "stdout",
     "output_type": "stream",
     "text": [
      "('12-1-2020', 'Practical Data Science With Python', 19.99, 1.0)\n",
      "('12-15-2020', 'Python Machine Learning', 27.99, 1.0)\n",
      "('12-17-2020', 'Machine Learning For Algorithmic Trading', 34.99, 1.0)\n"
     ]
    }
   ],
   "source": [
    "with engine.connect() as connection:\n",
    "    result = connection.execute(\"select * from book_sales\")\n",
    "    for row in result:\n",
    "        print(row)\n",
    "#  Remember that we have a colon character at the end of the \n",
    "# with statement. After we stop indenting lines, the connection is automatically closed."
   ]
  },
  {
   "cell_type": "markdown",
   "id": "7a5490a2",
   "metadata": {},
   "source": [
    "## Inserting Records with SQL Alchemy\n",
    "\n",
    "It's also possible to insert data into SQL tables with SQLAlchemy. We can use the same method we used with sqlite3, which is demonstrated in the documentation at https://docs.sqlalchemy.org/en/13/core/connections.html#sqlalchemy.engine.Connection.execute.\n",
    "\n",
    "Another more advanced paradigm for inserting data is possible in SQLAlchemy as well, which is demonstrated in the tutorial in the documentation at https://docs.sqlalchemy.org/en/14/core/tutorial.html.\n",
    "\n",
    "This more advanced paradigm allows us to insert a row of data without specifying data for all the columns, and looks like this:"
   ]
  },
  {
   "cell_type": "code",
   "execution_count": 23,
   "id": "47ed9e5f",
   "metadata": {},
   "outputs": [
    {
     "data": {
      "text/plain": [
       "<sqlalchemy.engine.cursor.LegacyCursorResult at 0x15d7edbc640>"
      ]
     },
     "execution_count": 23,
     "metadata": {},
     "output_type": "execute_result"
    }
   ],
   "source": [
    "from sqlalchemy import MetaData, Table\n",
    "from sqlalchemy.sql import select\n",
    "metadata = MetaData(engine)\n",
    "book_sales = Table('book_sales',\n",
    "                  metadata,\n",
    "                  autoload=True)\n",
    "conn = engine.connect()\n",
    "ins = book_sales.insert().values(\n",
    "        BOOK_TITLE='machine learning',\n",
    "        PRICE='10.99')\n",
    "conn.execute(ins)"
   ]
  },
  {
   "cell_type": "code",
   "execution_count": null,
   "id": "10d3a95b",
   "metadata": {},
   "outputs": [],
   "source": []
  }
 ],
 "metadata": {
  "kernelspec": {
   "display_name": "Python 3 (ipykernel)",
   "language": "python",
   "name": "python3"
  },
  "language_info": {
   "codemirror_mode": {
    "name": "ipython",
    "version": 3
   },
   "file_extension": ".py",
   "mimetype": "text/x-python",
   "name": "python",
   "nbconvert_exporter": "python",
   "pygments_lexer": "ipython3",
   "version": "3.9.7"
  }
 },
 "nbformat": 4,
 "nbformat_minor": 5
}
