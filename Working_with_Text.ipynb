{
 "cells": [
  {
   "cell_type": "markdown",
   "metadata": {
    "id": "AZPlZoxx4C3n"
   },
   "source": [
    "# Working with Text\n",
    "\n",
    "Text is a huge source of data; it's in books, reports, social media, and transcriptions\n",
    "of speech. We can use data science in several different ways with text data to\n",
    "extract useful information and hidden patterns `Natural Language Processing`.\n",
    "\n",
    "\n",
    "Of course, we need to turn our text into numbers to be able to process it\n",
    "with most machine learning and analytics tools, adding another step to the process.\n",
    "\n",
    "The following is covered here:\n",
    "- Basic text preprocessing and cleaning, including TFIDF and word vectors\n",
    "- Text analytics such as word counts and word collocations\n",
    "- Unsupervised learning for text analysis, including topic modeling\n",
    "- Supervised learning (classification) with text\n",
    "- Sentiment analysis\n",
    "\n"
   ]
  },
  {
   "cell_type": "markdown",
   "metadata": {
    "id": "40lMw3H64C3v"
   },
   "source": [
    "## Text Preprocessing\n",
    "\n",
    "Before we undertake text analysis, it's often helpful to undertake some common\n",
    "cleaning and preprocessing steps. This includes:\n",
    "\n",
    "- Lowercasing\n",
    "- Removing Punctuation, whitespaces, and numbers\n",
    "- Removing other specific patterns (emails)\n",
    "- Removing Stop Words\n",
    "- Stemming and Lemmatization\n",
    "\n",
    "\n",
    "Cleaning and preparing text can improve the performance of ML algorithms as well\n",
    "as make it easier to understand the results of analysis."
   ]
  },
  {
   "cell_type": "code",
   "execution_count": 1,
   "metadata": {
    "colab": {
     "base_uri": "https://localhost:8080/",
     "height": 122
    },
    "id": "pJFWVVq14C3v",
    "outputId": "cdfcb27f-3317-41e7-d95d-87e584cbe7cf"
   },
   "outputs": [
    {
     "data": {
      "text/plain": [
       "'\\r\\n\\r\\n\\r\\n\\r\\nwar and peace\\r\\n\\r\\n\\r\\nby leo tolstoy/tolstoi\\r\\n\\r\\n\\r\\n    contents\\r\\n\\r\\n    book one: 1805\\r\\n\\r\\n    cha'"
      ]
     },
     "execution_count": 1,
     "metadata": {},
     "output_type": "execute_result"
    }
   ],
   "source": [
    "# Basic Text Cleaning\n",
    "\n",
    "from urllib.request import urlopen\n",
    "\n",
    "from gutenberg_cleaner import simple_cleaner\n",
    "\n",
    "\n",
    "# Get the text from the Web Page\n",
    "web_page = 'https://www.gutenberg.org/files/2600/2600-0.txt'\n",
    "\n",
    "wnp = urlopen(web_page).read().decode('utf-8')\n",
    "\n",
    "# Clean the text and lowercase the text\n",
    "wnp = simple_cleaner(wnp).lower()\n",
    "\n",
    "# Show the first 100 characters\n",
    "wnp[:100]"
   ]
  },
  {
   "cell_type": "markdown",
   "metadata": {
    "id": "cCbXSdm54C3x"
   },
   "source": [
    "Lowercasing helps standardize our words for analysis such as word counts and\n",
    "other processing steps. One disadvantage of lowercasing is proper nouns may not be\n",
    "recognized correctly and are not distinguished from regular nouns. Handling entities\n",
    "and proper nouns requires more sophisticated techniques, such as using the `spaCy`"
   ]
  },
  {
   "cell_type": "code",
   "execution_count": 2,
   "metadata": {
    "id": "FvukWQTp4C3x"
   },
   "outputs": [],
   "source": [
    "# Dealing with excess whitespace\n",
    "\n",
    "import re\n",
    "\n",
    "wnp = re.sub(r'\\s+', ' ', wnp).strip()\n"
   ]
  },
  {
   "cell_type": "markdown",
   "metadata": {
    "id": "D4emrn1e4C3y"
   },
   "source": [
    "The re.sub function takes a pattern, a string to replace the pattern with, and a\n",
    "string to substitute on. We use \\s+ to find one or more occurrences of spaces, then\n",
    "replace them with a single space in the wnp string. Lastly, we use strip() to remove\n",
    "whitespace at the beginning and end of the string. Our first hundred characters\n",
    "(wnp[:100]) now look like:"
   ]
  },
  {
   "cell_type": "code",
   "execution_count": 3,
   "metadata": {
    "colab": {
     "base_uri": "https://localhost:8080/",
     "height": 35
    },
    "id": "yVRTe3Jt4C3y",
    "outputId": "ab4a1b6d-a5db-4913-e417-137fdc19305e"
   },
   "outputs": [
    {
     "data": {
      "text/plain": [
       "'war and peace by leo tolstoy/tolstoi contents book one: 1805 chapter i chapter ii chapter iii chapte'"
      ]
     },
     "execution_count": 3,
     "metadata": {},
     "output_type": "execute_result"
    }
   ],
   "source": [
    "wnp[:100]"
   ]
  },
  {
   "cell_type": "code",
   "execution_count": 4,
   "metadata": {
    "id": "hu6wRafU4C3z"
   },
   "outputs": [],
   "source": [
    "# Removing Punctuation\n",
    "import string\n",
    "\n",
    "wnp = wnp.translate(str.maketrans('', '', string.punctuation))"
   ]
  },
  {
   "cell_type": "markdown",
   "metadata": {
    "id": "X7V-59PZ4C3z"
   },
   "source": [
    "We use the built-in string module to get a string of common punctuation. Then we\n",
    "use the string method translate along with str.maketrans to replace punctuation\n",
    "with nothing, removing it.\n",
    "\n",
    "This is similar to using regex or regular expressions (the re package), although we\n",
    "are using built-in Python functions here. The maketrans function can take up to three\n",
    "arguments and is described in its documentation in more detail. When we provide\n",
    "three arguments, each unique character in the last argument is mapped to None,\n",
    "removing these characters from the original string we used with translate.\n",
    "\n",
    "If we wanted to include more characters to remove, such as numbers, we could\n",
    "simply use string.punctuation + string.digits as the third argument to\n",
    "str.maketrans."
   ]
  },
  {
   "cell_type": "code",
   "execution_count": 5,
   "metadata": {
    "id": "pNu5cj6k4C30"
   },
   "outputs": [],
   "source": [
    "# Removing email patterns\n",
    "\n",
    "wnp = re.sub(r'\\w+\\w+\\.\\w+', '', wnp)"
   ]
  },
  {
   "cell_type": "markdown",
   "metadata": {
    "id": "xy4Q-bh34C30"
   },
   "source": [
    "The \\w pattern specifies any alphanumeric character (letters and numbers as well\n",
    "as the underscore character), and the + means match one or more of the proceeding\n",
    "pattern. The \\. means a literal period. Usually, a period is a wildcard character that\n",
    "matches anything, so we need to \"escape\" it with the backslash. Put together, this\n",
    "pattern looks for one or more alphanumeric characters, then the @ symbol, another\n",
    "set of alphanumeric characters, a period, and more alphanumeric characters. We\n",
    "then replace this with an empty string, removing any common email addresses."
   ]
  },
  {
   "cell_type": "code",
   "execution_count": 6,
   "metadata": {
    "colab": {
     "base_uri": "https://localhost:8080/",
     "height": 177
    },
    "id": "YTzCSaGo4C30",
    "outputId": "442e1e18-0462-49d4-8542-a3c9f6d5a1ff"
   },
   "outputs": [
    {
     "data": {
      "text/plain": [
       "'war peace leo tolstoytolstoi contents book 1805 chapter chapter ii chapter iii chapter iv chapter v '"
      ]
     },
     "execution_count": 6,
     "metadata": {},
     "output_type": "execute_result"
    }
   ],
   "source": [
    "# Removing Stopwords\n",
    "\n",
    "from sklearn.feature_extraction import _stop_words\n",
    "\n",
    "\n",
    "non_stopwords = []\n",
    "\n",
    "for word in wnp.split():\n",
    "    if word not in _stop_words.ENGLISH_STOP_WORDS:\n",
    "        non_stopwords.append(word)\n",
    "        \n",
    "\n",
    "cleaned_text = \" \".join(non_stopwords)\n",
    "\n",
    "cleaned_text[:100]"
   ]
  },
  {
   "cell_type": "markdown",
   "metadata": {
    "id": "R0x_wc9w4C31"
   },
   "source": [
    "We loop through each word (split on spaces with split()), then add it to the non_\n",
    "stopwords list if it's not one of the stop words. When we split the text into words, the\n",
    "individual words are usually called tokens, and the processing of splitting text into\n",
    "tokens is called tokenization. Finally, we join our list of words back together with\n",
    "spaces between the words to get a single string again."
   ]
  },
  {
   "cell_type": "markdown",
   "metadata": {
    "id": "eHDeTbDI4C31"
   },
   "source": [
    "The _stop_words.ENGLISH_STOP_WORDS variable is a set. Other stop word lists (like\n",
    "NLTKs) are lists, and it's best to convert them into a set before doing something\n",
    "like the above code example. That's because when we check if a string is in a list of\n",
    "strings, it checks for a match against each element in the list one at a time. If we use\n",
    "a set instead of a list, Python instantly checks if the string we're searching for is in\n",
    "the set, and this is more efficient due to hashing (converting input data into a unique\n",
    "number or alphanumeric combination). Examining the stop word set shows all the\n",
    "words are lowercased and have no punctuation. Depending on if the stop word list\n",
    "has punctuation, you should be careful to remove punctuation before or after you\n",
    "remove stop words."
   ]
  },
  {
   "cell_type": "markdown",
   "metadata": {
    "id": "1rAIlA-_4C32"
   },
   "source": [
    "## Stemming and Lemmatization\n",
    "\n",
    "Our last step is stemming or lemmatizing. Stemming is cutting off the end of a word\n",
    "(the suffix) to get the root. There are a few different algorithms available for this\n",
    "from the NLTK package, which we need to ensure is installed with conda or pip first.\n",
    "We will use the Snowball stemmer, although there are several options to use for\n",
    "a stemmer:\n",
    "\n",
    "- Porter stemmer: the original stemmer from 1980 and the least aggressive of the stemmers listed here (words are not shortened too much and the resulting stems are usually understandable)\n",
    "- Snowball (also called Porter2) stemmer: makes some improvements upon the Porter stemmer and is generally considered better than the Porter stemmer (other languages besides English are supported as well)\n",
    "- Lancaster stemmer: a more aggressive stemmer that may give strange results but can trim words to shorter lengths\n",
    "- Non-English stemmers, like ISRI (Arabic) and RSLP (Portuguese)\n",
    "\n",
    "`The NLTK documentation also has a good explanation of basic stemming, and we can see the different languages available for the Snowball stemmer: https://www.nltk.org/howto/stem.html.`"
   ]
  },
  {
   "cell_type": "code",
   "execution_count": 7,
   "metadata": {
    "id": "iYelqfm54C32"
   },
   "outputs": [],
   "source": [
    "from nltk.stem import SnowballStemmer\n",
    "\n",
    "stemmer = SnowballStemmer('english')\n",
    "\n",
    "stemmed_words = []\n",
    "\n",
    "for word in cleaned_text.split():\n",
    "    stemmed_words.append(stemmer.stem(word))\n",
    "    \n",
    "stemmed_text = ' '.join(stemmed_words)"
   ]
  },
  {
   "cell_type": "markdown",
   "metadata": {
    "id": "AgkMKR7j4C32"
   },
   "source": [
    "We first initialize our stemmer for English, then use a similar loop to our stop words loop above. In fact, we could check for stop words and stem words in the same loop to be more efficient. Let's take a section from the War and Peace book and see how our cleaning and pre-processing steps so far affect it. We'll use the passage:\n",
    "\n",
    "`“I knew you would be here,” replied Pierre. “I will come to supper with you. May I?” he added in a low voice so as not to disturb the vicomte who was continuing his story.`\n",
    "\n",
    "Note that curly quotes were included with our punctuation removal using cleaned_string = cleaned_string.translate(str.maketrans('', '', string.punctuation+ '“”')). Our result after cleaning and stemming is:\n",
    "\n",
    "`knew repli pierr come supper ad low voic disturb vicomt continu stori`\n",
    "\n",
    "We can see things like \"continuing\" have been shortened to \"continu\" and stop words have been removed from our cleaning and pre-processing steps. Clearly, we can see some of the stems of words are difficult to interpret, but this will help us group similar words for analysis such as word counts. The drawback of stemming is words can look a little strange and can be hard to interpret (such as repli instead of reply).\n",
    "\n",
    "Another option is to use lemmatization instead of stemming. This reduces words\n",
    "to their root in a different way and usually ends up with words being in a more\n",
    "recognizable form. However, lemmatization requires us to know the part of speech\n",
    "(POS) of a word, such as noun, verb, adjective, and so on. One way to carry out\n",
    "lemmatization is to use the WordNetLemmatizer from NLTK. However, this requires\n",
    "us to first do POS tagging, and the NLTK lemmatizer assumes all words are nouns\n",
    "by default (which is not correct and results in incorrect lemmatization). An easier\n",
    "way to perform lemmatization is to use the spaCy package, which we can use for\n",
    "the full suite of cleaning we just described as well."
   ]
  },
  {
   "cell_type": "markdown",
   "metadata": {
    "id": "F6SA7wRj4C33"
   },
   "source": [
    "## Preparing Text with Spacy\n",
    "\n",
    "spaCy is an NLP package in Python with a wide range of capabilities. It can clean text, perform lemmatization, extract entities (such as people or places), perform POS tagging, and convert text into vectors (such as word, sentence, or document vectors).\n",
    "\n",
    "We'll look at using spaCy in a simple Python function to clean our text\n",
    "and lemmatize it. First, we need to install spacy with conda or pip. We then need to\n",
    "install a language model, which contains information about the language, such as\n",
    "stopword lists, word vectors, and more. For a simple English model, we can run the\n",
    "following command from the command line: `python -m spacy download en_core_web_sm`. There are many more language models available and described in the spaCy\n",
    "documentation: https://spacy.io/usage/models.\n"
   ]
  },
  {
   "cell_type": "code",
   "execution_count": 8,
   "metadata": {
    "id": "x6g1IoiY4C33"
   },
   "outputs": [],
   "source": [
    "import spacy\n",
    "\n",
    "spacy_en_model = spacy.load('en_core_web_sm', disable=['parser', 'ner'])\n",
    "spacy_en_model.max_length = 4000000\n",
    "\n",
    "def clean_text_spacy(text):\n",
    "    processed_text = spacy_en_model(text)\n",
    "    lemmas = [w.lemma_ if w.lemma_ != '-PRON-' else w.lower_ for w in processed_text if w.is_alpha and not w.is_stop]\n",
    "    return ' '.join(lemmas).lower()\n",
    "    \n",
    "    \n",
    "wnp = urlopen(web_page).read().decode('utf-8')\n",
    "\n",
    "\n",
    "wnp = simple_cleaner(wnp)\n",
    "\n",
    "lemmatized_text = clean_text_spacy(wnp)"
   ]
  },
  {
   "cell_type": "markdown",
   "metadata": {
    "id": "HGe9eO7z4C33"
   },
   "source": [
    "First, we import spacy and load the small English model. We turn off the parser\n",
    "and named entity recognition (NER) with the disable argument in spacy.load().\n",
    "The parser and NER can take a lot of memory and processing power to run, so\n",
    "disabling these parts of the spaCy pipeline speeds up the process significantly. The\n",
    "vectorizer (tok2vec) allows us to get word vectors for each word, but also needs extra\n",
    "processing time and memory. For some reason, disabling the vectorizer causes the\n",
    "lemmatization to not work properly, so we leave it enabled.\n",
    "\n",
    "\n",
    "After we've disabled some parts of the pipeline for efficiency, we then increase\n",
    "the max length of our model from the default of 1,000,000 to 4,000,000. Our text is\n",
    "around 3.2 million characters, which exceeds the default max length. Long texts can\n",
    "take a lot of memory and time to run if we are using the parser and NER, but since\n",
    "we disabled them here, it doesn't matter as much.\n",
    "\n",
    "Next, we get into the function. We first process the text with our language model\n",
    "using spacy_en_model(text). Then we use a list comprehension to go through each\n",
    "token in our processed text. We get the text version of the lemma with w.lemma_ if it\n",
    "exists, or if the word is a pronoun (represented as '-PRON-' by spacy), then we use\n",
    "the lowercased version of the word. We also only keep alphanumeric words and\n",
    "words that are not stop words by using if w.is_alpha and not w.is_stop. Finally,\n",
    "we join our lemmatized and cleaned words back together into a single string and\n",
    "return it, storing it in the lemmas variable.\n",
    "\n",
    "\n",
    "We use the function by first re-downloading War and Peace and cleaning the header\n",
    "and footer, then using our clean_text_spacy function. Again, let's look at the effect\n",
    "on our sample chunk of text:\n",
    "\n",
    "`“I knew you would be here,” replied Pierre. “I will come to supper with you. May I?” he added in a low voice so as not to disturb the vicomte who was continuing his story.`\n",
    "\n",
    "After using spacy to clean and pre-process it, the lemmatized results are:\n",
    "\n",
    "`'know reply pierre come supper add low voice disturb vicomte continue story'`\n",
    "\n",
    "For an easy comparison, here are the results of our other cleaning and pre-processing pipeline, which used stemming:\n",
    "\n",
    "`knew repli pierr come supper ad low voic disturb vicomt continu stori`\n",
    "\n",
    "We can see the words are easier to read and understand in general with\n",
    "lemmatization (such as reply versus repli), and it handled the curly quotes. spaCy\n",
    "also keeps special characters such as letters with accents. In general, this might take\n",
    "slightly longer than stemming because it needs to tag the parts of speech before\n",
    "lemmatizing. However, it generally gives results that are easier to interpret. If we\n",
    "don't have a large amount of text to process or have good computing resources at\n",
    "our disposal, it's better to leave all the pipeline steps enabled instead of disabling\n",
    "NER and the parser as we did here.\n"
   ]
  },
  {
   "cell_type": "markdown",
   "metadata": {
    "id": "vE_lqXgE4C33"
   },
   "source": [
    "## Word Vectors\n",
    "\n",
    "As we saw in the spacy pipeline, we can get token or word vectors. Sometimes\n",
    "these are called word or text embeddings. These are mappings of words to series\n",
    "of numbers (a vector) that represent the semantic meaning of the word. Several\n",
    "different sets of word vectors have been generated, and many of them are generated\n",
    "with a neural network model that tries to predict nearby words in a huge volume of\n",
    "text like Wikipedia.\n",
    "\n",
    "A more advanced way to get word embeddings that can distinguish contextual\n",
    "meaning even better are neural network models like `BERT` or `ELMO`. However,\n",
    "with `BERT` and `ELMO`, we must pass our text through the model to generate the\n",
    "embeddings instead of simply using a lookup dictionary.\n",
    "\n",
    "We can get word vectors easily in a few ways in Python:\n",
    "- The Gensim package (https://radimrehurek.com/gensim/models/word2vec.html)\n",
    "- The spaCy package (https://spacy.io/usage/linguisticfeatures#vectors-similarity)\n",
    "- The fasttext package (https://github.com/facebookresearch/fastText)\n",
    "- Using GloVe, Word2Vec, or other vectors (http://vectors.nlpl.eu/repository/)\n",
    "- This can be made easier with Python packages such as the word-vectors package\n",
    "\n",
    "We'll look at using spacy since we already have it ready to go. To get word vectors\n",
    "from spaCy we should download a larger model such as the medium or large\n",
    "model (md or lg), which has the most complete set of word vectors: python -m spacy\n",
    "download en_core_web_md. spaCy uses its own word vectors from its own trained\n",
    "model.\n",
    "\n",
    "`The way some of the word vector sets are generated are by using skip-gram or continuous bag-of-words (CBOW) models. There\n",
    "are many resources for learning more about this, for example, here:\n",
    "https://towardsdatascience.com/nlp-101-word2vec-skipgram-and-cbow-93512ee24314`"
   ]
  },
  {
   "cell_type": "code",
   "execution_count": 9,
   "metadata": {
    "id": "KKfxk43T4C34"
   },
   "outputs": [],
   "source": [
    "import spacy\n",
    "\n",
    "import en_core_web_lg\n",
    "\n",
    "# spacy_en_model = spacy.load('en_core_web_lg', disable=['parser', 'ner'])\n",
    "\n",
    "# Remember to disable the parser and NEW to save memory\n",
    "spacy_en_model = en_core_web_lg.load(disable=['parser', 'ner'])\n",
    "\n",
    "spacy_en_model.max_length = 4000000\n",
    "\n",
    "processed_text = spacy_en_model(wnp)"
   ]
  },
  {
   "cell_type": "code",
   "execution_count": 10,
   "metadata": {
    "colab": {
     "base_uri": "https://localhost:8080/"
    },
    "id": "TYIQZRib4C34",
    "outputId": "2069922b-a42f-40dd-b9ef-a6c0629f2a08"
   },
   "outputs": [
    {
     "name": "stdout",
     "output_type": "stream",
     "text": [
      "Word Text --> \n",
      "\n",
      "\n",
      "\n",
      ", Word Vector --> [0. 0. 0. 0. 0. 0. 0. 0. 0. 0. 0. 0. 0. 0. 0. 0. 0. 0. 0. 0. 0. 0. 0. 0.\n",
      " 0. 0. 0. 0. 0. 0. 0. 0. 0. 0. 0. 0. 0. 0. 0. 0. 0. 0. 0. 0. 0. 0. 0. 0.\n",
      " 0. 0. 0. 0. 0. 0. 0. 0. 0. 0. 0. 0. 0. 0. 0. 0. 0. 0. 0. 0. 0. 0. 0. 0.\n",
      " 0. 0. 0. 0. 0. 0. 0. 0. 0. 0. 0. 0. 0. 0. 0. 0. 0. 0. 0. 0. 0. 0. 0. 0.\n",
      " 0. 0. 0. 0. 0. 0. 0. 0. 0. 0. 0. 0. 0. 0. 0. 0. 0. 0. 0. 0. 0. 0. 0. 0.\n",
      " 0. 0. 0. 0. 0. 0. 0. 0. 0. 0. 0. 0. 0. 0. 0. 0. 0. 0. 0. 0. 0. 0. 0. 0.\n",
      " 0. 0. 0. 0. 0. 0. 0. 0. 0. 0. 0. 0. 0. 0. 0. 0. 0. 0. 0. 0. 0. 0. 0. 0.\n",
      " 0. 0. 0. 0. 0. 0. 0. 0. 0. 0. 0. 0. 0. 0. 0. 0. 0. 0. 0. 0. 0. 0. 0. 0.\n",
      " 0. 0. 0. 0. 0. 0. 0. 0. 0. 0. 0. 0. 0. 0. 0. 0. 0. 0. 0. 0. 0. 0. 0. 0.\n",
      " 0. 0. 0. 0. 0. 0. 0. 0. 0. 0. 0. 0. 0. 0. 0. 0. 0. 0. 0. 0. 0. 0. 0. 0.\n",
      " 0. 0. 0. 0. 0. 0. 0. 0. 0. 0. 0. 0. 0. 0. 0. 0. 0. 0. 0. 0. 0. 0. 0. 0.\n",
      " 0. 0. 0. 0. 0. 0. 0. 0. 0. 0. 0. 0. 0. 0. 0. 0. 0. 0. 0. 0. 0. 0. 0. 0.\n",
      " 0. 0. 0. 0. 0. 0. 0. 0. 0. 0. 0. 0.]\n",
      "\n",
      "Word Text --> WAR, Word Vector --> [-3.0730e-01 -1.4714e-01  6.6117e-01  1.0707e-02 -4.2548e-01 -4.8379e-01\n",
      " -5.2638e-01  7.0586e-01 -3.8561e-01  3.0728e+00 -2.1181e-01 -4.2231e-01\n",
      "  3.5130e-01 -4.4530e-01  2.3694e-01 -2.6002e-01 -2.8963e-01  3.0857e-01\n",
      " -6.4575e-01  3.2054e-01 -5.5924e-02 -2.0813e-01  3.4440e-01  1.0795e-02\n",
      " -7.4545e-02 -3.8548e-01 -6.0702e-01  3.2237e-01 -9.3341e-02  6.6126e-01\n",
      " -7.1363e-03  1.8532e-01 -3.7393e-01 -2.6076e-02  4.9744e-01 -4.1639e-01\n",
      "  5.2767e-02 -1.1967e-01  1.5338e-01  7.1576e-02 -7.3306e-02  2.9640e-01\n",
      "  4.6181e-01 -4.8285e-01 -1.1067e-02 -1.6115e-02 -2.9533e-01  1.8976e-01\n",
      "  2.0678e-01  2.7757e-01  2.6496e-01 -2.5634e-02 -4.1048e-01  2.1783e-01\n",
      " -1.0913e-01  3.1568e-01  1.3638e-01 -3.6162e-01  2.7819e-01 -1.9528e-01\n",
      " -4.3991e-01  5.1373e-01  5.8337e-01 -2.6897e-01 -3.5659e-02  4.4794e-01\n",
      "  1.7027e-02  2.1396e-01 -2.6451e-01 -1.7835e-01 -4.4925e-01 -9.5494e-02\n",
      " -1.1581e-01 -2.1970e-01  8.2708e-01 -3.9354e-01 -2.8215e-01  1.4357e-01\n",
      " -1.9401e-02  5.9181e-01 -7.9514e-02 -1.6846e-01  4.2670e-01  4.8965e-02\n",
      " -3.5715e-02  4.3702e-04 -4.1323e-01 -1.1492e+00 -2.3024e-02 -2.1631e-02\n",
      " -3.9075e-01 -2.8866e-01 -2.0323e-01  4.1405e-02 -4.6789e-01 -3.7633e-01\n",
      " -1.2661e-01 -2.8927e-01 -1.3600e-02 -2.0943e-01  2.6374e-01  6.0462e-01\n",
      "  3.7909e-02  1.1279e-01  4.6555e-02 -1.1435e+00 -6.6728e-01  2.8028e-01\n",
      "  1.1438e-01 -2.0672e-01 -5.6746e-01 -2.7321e-01 -2.0052e-01 -4.5183e-02\n",
      "  8.3824e-02 -2.4882e-02 -2.0332e-01 -2.0862e-02 -3.9751e-01 -6.3251e-01\n",
      " -2.5665e-01  1.5445e-01  1.0218e-01  3.4600e-01 -1.8854e-01 -1.2153e-01\n",
      "  2.4391e-01  2.7164e-01  1.4518e-01  1.1441e-01  5.0093e-01 -2.3864e-01\n",
      "  2.0658e-01 -3.0755e-01 -1.0151e-01  1.6840e-01 -2.8072e-01  1.0867e-01\n",
      " -1.0491e-01 -2.1823e-01 -2.0400e+00 -3.0625e-01  5.4690e-01  1.8884e-01\n",
      "  3.9976e-01  1.8794e-01  5.5508e-02  6.1705e-01 -1.2972e-01 -4.0606e-01\n",
      "  1.9359e-01  1.1488e-01  2.9622e-01  1.6477e-01 -2.8349e-01  7.0100e-02\n",
      "  8.4147e-02  8.5669e-02 -1.0135e-01  7.6131e-01  2.4091e-01  8.8009e-02\n",
      "  1.6156e-01  6.0225e-01 -7.0677e-01  6.8427e-02 -5.8679e-03 -3.2746e-01\n",
      "  2.3455e-01 -1.1501e-01 -3.3841e-01  2.9260e-01  1.0802e-02  4.6094e-01\n",
      "  4.9241e-01  4.4794e-01 -2.2935e-01 -1.8170e-01  5.1448e-01  2.8058e-01\n",
      " -2.8255e-01 -4.4502e-01 -5.3984e-01 -8.0238e-02 -4.4346e-01  2.4706e-01\n",
      " -8.8404e-02 -4.5311e-01 -2.8675e-01  4.6892e-01 -3.0129e-01  3.1616e-03\n",
      " -1.7669e-01  4.9881e-01 -4.0455e-01  1.7265e-01  7.0763e-01 -3.9676e-01\n",
      " -9.0939e-03 -2.3180e-01  2.7638e-01  2.2391e-01  9.6259e-01  1.6816e-01\n",
      "  2.9699e-01 -2.7375e-01  2.5440e-01 -2.0711e-01  1.8156e-01 -1.7873e-01\n",
      "  3.5345e-01 -6.4737e-02  2.6704e-01  9.1605e-02  4.8969e-01 -5.6520e-01\n",
      "  8.1013e-02  4.9177e-01 -1.9974e-01  1.0656e-01  1.1928e-01  2.0396e-01\n",
      "  2.7092e-01 -1.3317e-01 -3.8568e-01  2.9469e-02  9.9864e-03  8.8510e-02\n",
      "  4.2491e-02  2.9868e-02 -1.9921e-01  3.5423e-01  5.3091e-02 -5.8813e-01\n",
      " -1.7052e-01 -7.3903e-02  1.8195e-01  7.0392e-01 -1.4140e-01 -1.9800e-02\n",
      " -1.8423e-01  1.2321e-02  5.0770e-02  4.4745e-01  9.7449e-02  4.2456e-01\n",
      "  2.0555e-01  3.7444e-01  5.7010e-01 -7.2635e-01  6.0556e-01  5.6125e-01\n",
      "  4.0867e-01 -2.3671e-01 -1.9248e-01 -4.1436e-01 -3.3534e-01  5.9564e-01\n",
      " -2.0379e-01 -1.0979e-01 -1.8435e-01  4.8392e-01 -5.6776e-03  3.6866e-01\n",
      " -2.4334e-01 -5.5312e-01  3.5324e-01 -2.2517e-02  1.2511e-01  3.6127e-01\n",
      "  5.2364e-01 -8.6573e-02  2.2216e-02 -2.2745e-01  3.1314e-01  3.5122e-01\n",
      "  1.6167e-01 -1.1710e-01  3.1173e-01 -5.5322e-02  4.2065e-01  2.1272e-01\n",
      " -2.6764e-01 -6.0827e-01  2.1662e-01 -1.2543e-01 -3.0970e-02 -3.9711e-02\n",
      "  4.6854e-02 -3.3056e-01 -4.3316e-01  4.3642e-01 -5.3155e-01 -3.0558e-01\n",
      " -1.0377e-01  2.4855e-01  1.8876e-01 -8.8854e-02 -1.3557e-01  1.1429e-01]\n",
      "\n",
      "Word Text --> AND, Word Vector --> [-1.8567e-01  6.6008e-02 -2.5209e-01 -1.1725e-01  2.6513e-01  6.4908e-02\n",
      "  1.2291e-01 -9.3979e-02  2.4321e-02  2.4926e+00 -1.7916e-02 -7.1218e-02\n",
      " -2.4782e-01 -2.6237e-01 -2.2460e-01 -2.1961e-01 -1.2927e-01  1.0867e+00\n",
      " -6.6072e-01 -3.1617e-02 -5.7328e-02  5.6903e-02 -2.7939e-01 -3.9825e-01\n",
      "  1.4251e-01 -8.5146e-02 -1.4779e-01  5.5067e-02 -2.8687e-03 -2.0917e-01\n",
      " -7.0735e-02  2.2577e-01 -1.5881e-01 -1.0395e-01  9.7110e-02 -5.6251e-01\n",
      " -3.2929e-01 -2.0853e-01  9.8711e-03  4.9777e-02  1.4883e-03  1.5884e-01\n",
      "  4.2771e-02 -2.6956e-03 -2.4620e-02 -1.9213e-01 -2.2556e-01  1.0838e-01\n",
      "  9.0086e-02 -1.3291e-01  3.2559e-01 -1.7038e-01 -1.0990e-01 -2.3986e-01\n",
      " -2.4289e-02  1.4656e-02 -2.3700e-01  8.4828e-02 -3.5982e-01 -7.6746e-02\n",
      "  4.8909e-02  1.1431e-01 -2.1013e-01  2.4765e-01 -1.7531e-02 -1.4028e-01\n",
      "  4.6191e-02  2.2972e-01  1.1750e-01  1.2724e-01  1.2992e-02  4.5870e-01\n",
      "  4.1085e-01  3.9106e-02  1.5713e-01 -1.8376e-01  2.6834e-01  5.6662e-02\n",
      "  1.6844e-01 -5.3788e-02 -9.1892e-02  1.1193e-01 -8.6810e-02 -1.3324e-01\n",
      "  1.5062e-01 -3.1733e-01 -2.2078e-01  2.5038e-01  3.4131e-01  3.6419e-01\n",
      " -8.9514e-02 -2.2193e-01  2.4471e-01  4.0091e-02  4.7798e-01 -2.9996e-02\n",
      "  1.9212e-03  6.3511e-02 -2.0417e-01 -2.6478e-01  2.0649e-01  1.5573e-02\n",
      " -2.7722e-01 -1.8861e-01 -1.0289e-01 -4.9773e-01  1.4986e-01 -1.0877e-02\n",
      "  2.5085e-01 -2.8117e-01  1.8966e-01 -6.5879e-02  9.4753e-02 -1.5338e-01\n",
      " -5.5071e-02 -3.6747e-01  2.4993e-01  9.6527e-02  2.3538e-01  1.8405e-01\n",
      "  5.2859e-02  2.2967e-01  1.2582e-01  1.5536e-01 -1.7275e-01  3.3946e-01\n",
      " -1.0049e-01  7.4948e-02 -9.3575e-02 -4.0490e-02 -1.6922e-02 -5.8039e-03\n",
      " -1.8108e-01  1.9537e-01  4.5178e-01  1.0965e-01  2.3370e-01 -9.9050e-02\n",
      " -7.8633e-02  2.1678e-01 -7.1231e-01 -9.9759e-02  3.3333e-01 -1.6460e-01\n",
      " -9.1688e-02  2.1056e-01  2.3669e-02  2.8922e-02  1.1990e-01 -1.2512e-01\n",
      " -2.6037e-02 -6.2217e-02  5.5816e-01  5.0273e-03 -3.0888e-01  3.8611e-02\n",
      "  1.7568e-01 -1.1163e-01 -1.0815e-01 -1.9444e-01  2.9433e-01  1.4519e-01\n",
      " -4.2878e-02  1.8534e-01  1.8891e-02 -6.1883e-01  1.3352e-01  3.6007e-02\n",
      "  3.3995e-01  2.2109e-01 -7.9328e-02  7.1319e-02  1.7678e-01  1.6378e-01\n",
      " -2.3142e-01 -1.4340e-01 -9.8122e-02 -1.9286e-02  2.3560e-01 -3.4013e-01\n",
      " -6.1007e-02 -2.3208e-01 -3.1152e-01  1.0063e-01 -1.5957e-01  2.0183e-01\n",
      " -1.6345e-02 -1.2303e-01  2.2667e-02 -2.0986e-01 -2.0127e-01 -8.7883e-02\n",
      "  6.4731e-02  1.0195e-01 -1.7860e-01  3.3056e-01  2.1407e-01 -3.2165e-01\n",
      " -1.7106e-01  1.9407e-01 -3.8618e-01 -2.1480e-01 -5.2254e-02  2.3175e-02\n",
      "  4.7389e-01  1.8612e-01  1.2711e-01  2.0855e-01 -1.0256e-01 -1.2016e-01\n",
      " -4.0488e-01  2.9695e-02 -2.7419e-02 -8.5227e-03 -1.1415e-01  8.1134e-02\n",
      " -1.7228e-01  1.9142e-01  2.6514e-02  4.3789e-02 -1.2399e-01  1.3354e-01\n",
      "  1.0112e-01  8.1682e-02 -1.5085e-01  7.5806e-03 -1.8971e-01  2.4669e-01\n",
      "  2.2491e-01  3.5553e-01 -3.2770e-01 -2.1821e-01  1.4020e-01  2.8604e-01\n",
      "  5.5226e-02 -8.6544e-02  2.1110e-02 -1.9236e-01  7.4245e-02  7.6782e-02\n",
      "  8.1666e-04  3.4097e-02 -5.7719e-01  1.0657e-01  2.8134e-01 -1.1964e-01\n",
      " -6.8281e-01 -3.2893e-01 -2.4442e-01 -2.5847e-02  9.1273e-03  2.0250e-01\n",
      " -5.0959e-02 -1.1042e-01  1.0962e-02  7.6773e-02  4.0048e-01 -4.0739e-01\n",
      " -4.4773e-01  3.1954e-01 -3.6326e-02 -1.2789e-02 -1.7282e-01  1.4760e-01\n",
      "  2.3560e-01  8.0642e-02 -3.6528e-01 -8.3443e-03  6.2390e-01 -2.4379e-01\n",
      "  1.9917e-02 -2.8803e-01 -1.0494e-02  3.8412e-02 -1.1718e-01 -7.2462e-02\n",
      "  1.6381e-01  3.8488e-01 -2.9783e-02  2.3444e-01  4.5320e-01  1.4815e-01\n",
      " -2.7021e-02 -7.3181e-02 -1.1470e-01 -5.4545e-03  4.7796e-01  9.0912e-02\n",
      "  9.4489e-02 -3.6882e-01 -5.9396e-01 -9.7729e-02  2.0072e-01  1.7055e-01\n",
      " -4.7356e-03 -3.9709e-02  3.2498e-01 -2.3452e-02  1.2302e-01  3.3120e-01]\n",
      "\n",
      "Word Text --> PEACE, Word Vector --> [-0.014716   0.2794    -0.096438   0.1616     0.17271   -0.59026\n",
      " -0.59679   -0.12215   -0.22401    2.8973    -0.055058  -0.32255\n",
      " -0.029401  -0.20335   -0.37394   -0.09897   -0.14174    0.5651\n",
      " -0.47123    0.7261    -0.086446   0.4071     0.29562    0.045698\n",
      "  0.19745   -0.44133   -0.11531    0.028713  -0.10581    0.66649\n",
      "  0.11381    0.018328  -0.62119    0.11455    0.28847   -0.58489\n",
      "  0.55691   -0.56054    0.1369     0.2428    -0.23975    0.057518\n",
      "  0.44593   -0.25867    0.17294   -0.28848   -0.24556    0.42437\n",
      " -0.47394    0.0070548 -0.082796   0.33416   -0.15516   -0.17471\n",
      "  0.12968    0.29528   -0.20562    0.25375    0.39375    0.012629\n",
      " -0.25801    0.3119    -0.050057  -0.85827    0.024528   0.043257\n",
      " -0.39264    0.32236   -0.30012   -0.39852   -0.68572   -0.11971\n",
      " -0.048069   0.13901    0.15011   -0.086798  -0.44393    0.17695\n",
      " -0.31548   -0.081752   0.18319    0.78646   -0.13198    0.18251\n",
      " -0.31804   -0.29963   -0.21199   -0.71822    0.31462   -0.073806\n",
      "  0.14282   -0.0085753  0.14633    0.53526   -0.41879   -0.16252\n",
      " -0.057211  -0.42574   -0.068578  -0.27221    0.12511    0.26176\n",
      " -0.09889    0.041639   0.17496   -1.1043     0.2178     0.40255\n",
      " -0.13674    0.7526    -0.10259    0.42975    0.016931  -0.21545\n",
      "  0.21933   -0.309      0.39893    0.10175   -0.14342   -0.55082\n",
      " -0.045923  -0.14856    0.10413    0.66591    0.55528   -0.050838\n",
      "  0.21286    0.45855    0.061561  -0.0479     0.33202   -0.36851\n",
      " -0.22879   -0.29761   -0.57258    0.70371    0.23554    0.23485\n",
      " -0.078221   0.30687   -1.6844     0.19864    0.22522   -0.22109\n",
      "  0.15309   -0.059626   0.14284    0.65932   -0.62836   -0.63014\n",
      " -0.54095    0.18608    0.55213    0.13496   -0.27326    0.38498\n",
      "  0.23379   -0.11362   -0.60688    0.12294    0.35166    0.51759\n",
      " -0.0057761  0.35001    0.25765   -0.19957    0.32754   -0.65329\n",
      " -0.22867    0.032656   0.035811   0.42813    0.69736    0.2985\n",
      "  0.6508     0.27919   -0.41388   -0.12305   -0.20174   -0.89183\n",
      "  0.070363  -0.36709   -0.1201     0.047685  -0.059094  -0.15738\n",
      " -0.18022   -0.68502    0.055091  -0.044861  -0.34008   -0.056081\n",
      " -0.30614    0.067476   0.27952    0.36357    0.17787   -0.63746\n",
      "  0.17007    0.35229   -0.050125   0.75147    0.25413    0.084079\n",
      "  0.42873   -0.38924   -0.074776   0.15784   -0.34768   -0.50269\n",
      "  0.20158    0.33824    0.49438    0.51569    0.53694   -0.42408\n",
      " -0.20352    0.085978   0.32531    0.106      0.10957   -0.15213\n",
      "  0.14894    0.284      0.30529    0.316      0.064293   0.17293\n",
      " -0.43271    0.11692    0.21133    0.17849   -0.5106     0.068557\n",
      "  0.33222    0.038213  -0.16322   -0.064862  -0.79333   -0.23737\n",
      " -0.23925   -0.18727    0.14757   -0.17552    0.28386    0.16219\n",
      "  0.13075   -0.30017    0.13918   -0.70285   -0.011252   0.12021\n",
      "  0.066118   0.22796   -0.39298    0.41646    0.19903   -0.2579\n",
      " -0.45508   -0.0093336 -0.25794    0.011347   0.13414    0.48989\n",
      " -0.32699   -0.9491     0.048245   0.15742    0.052601  -0.28401\n",
      "  0.060441   0.16467   -0.59954    0.18568    0.058485   0.54893\n",
      "  0.58411    0.39058   -0.041051   0.34735    0.35524   -0.73799\n",
      "  0.0489    -0.20526    0.082013   0.14447   -0.24265    0.80515\n",
      " -0.046803  -0.18536    0.036163   0.34756    0.063999  -0.1138\n",
      "  0.17273   -0.092405   0.25978    0.26872   -0.0281     0.39567  ]\n",
      "\n",
      "Word Text --> \n",
      "\n",
      "\n",
      ", Word Vector --> [0. 0. 0. 0. 0. 0. 0. 0. 0. 0. 0. 0. 0. 0. 0. 0. 0. 0. 0. 0. 0. 0. 0. 0.\n",
      " 0. 0. 0. 0. 0. 0. 0. 0. 0. 0. 0. 0. 0. 0. 0. 0. 0. 0. 0. 0. 0. 0. 0. 0.\n",
      " 0. 0. 0. 0. 0. 0. 0. 0. 0. 0. 0. 0. 0. 0. 0. 0. 0. 0. 0. 0. 0. 0. 0. 0.\n",
      " 0. 0. 0. 0. 0. 0. 0. 0. 0. 0. 0. 0. 0. 0. 0. 0. 0. 0. 0. 0. 0. 0. 0. 0.\n",
      " 0. 0. 0. 0. 0. 0. 0. 0. 0. 0. 0. 0. 0. 0. 0. 0. 0. 0. 0. 0. 0. 0. 0. 0.\n",
      " 0. 0. 0. 0. 0. 0. 0. 0. 0. 0. 0. 0. 0. 0. 0. 0. 0. 0. 0. 0. 0. 0. 0. 0.\n",
      " 0. 0. 0. 0. 0. 0. 0. 0. 0. 0. 0. 0. 0. 0. 0. 0. 0. 0. 0. 0. 0. 0. 0. 0.\n",
      " 0. 0. 0. 0. 0. 0. 0. 0. 0. 0. 0. 0. 0. 0. 0. 0. 0. 0. 0. 0. 0. 0. 0. 0.\n",
      " 0. 0. 0. 0. 0. 0. 0. 0. 0. 0. 0. 0. 0. 0. 0. 0. 0. 0. 0. 0. 0. 0. 0. 0.\n",
      " 0. 0. 0. 0. 0. 0. 0. 0. 0. 0. 0. 0. 0. 0. 0. 0. 0. 0. 0. 0. 0. 0. 0. 0.\n",
      " 0. 0. 0. 0. 0. 0. 0. 0. 0. 0. 0. 0. 0. 0. 0. 0. 0. 0. 0. 0. 0. 0. 0. 0.\n",
      " 0. 0. 0. 0. 0. 0. 0. 0. 0. 0. 0. 0. 0. 0. 0. 0. 0. 0. 0. 0. 0. 0. 0. 0.\n",
      " 0. 0. 0. 0. 0. 0. 0. 0. 0. 0. 0. 0.]\n",
      "\n"
     ]
    }
   ],
   "source": [
    "# Apply model to text\n",
    "\n",
    "for word in processed_text[:5]:\n",
    "  print(f\"Word Text --> {word.text}, Word Vector --> {word.vector}\\n\")"
   ]
  },
  {
   "cell_type": "markdown",
   "metadata": {
    "id": "295QVqXb9gki"
   },
   "source": [
    "Each word has its own vector, which is accessible with the vector attribute. We can\n",
    "also get a vector for the entire document with processed_text.vector. This takes\n",
    "the average of all word vectors in the document, which can actually work well for\n",
    "applications like classification and topic modeling.\n",
    "\n",
    "Word vectors are a new technique since the computational power and easily\n",
    "accessible datasets to create them haven't existed for very long. An older\n",
    "technique that has been around and used for a while is TFIDF vectors."
   ]
  },
  {
   "cell_type": "markdown",
   "metadata": {
    "id": "DMu_iOT8-ZoV"
   },
   "source": [
    "## TFIDF Vectors\n",
    "\n",
    "TFIDF stands for term frequency inverse document frequency and describes what\n",
    "these vectors are – the term frequency of words (calculated separately for each\n",
    "document) multiplied by the inverse document frequency of words.\n",
    "\n",
    "In other words,\n",
    "the term frequency is simply word counts and the inverse document frequency is\n",
    "1 divided by the number of documents in which a word is present. With TFIDF,\n",
    "we get a series of numbers for each document in a group of documents we might\n",
    "have. For example, let's look at the 20 newsgroups dataset available in sklearn."
   ]
  },
  {
   "cell_type": "code",
   "execution_count": 11,
   "metadata": {
    "id": "9aA59iT2-vpX"
   },
   "outputs": [],
   "source": [
    "# Documents from sklearn for text classification example\n",
    "\n",
    "from sklearn.datasets import fetch_20newsgroups\n",
    "\n",
    "from sklearn.feature_extraction.text import TfidfVectorizer\n",
    "\n",
    "# This loads a dictionary into newsgroups_train, with the text as a list under \n",
    "# the key 'data' and remove boilerplate words\n",
    "newsgroups_train = fetch_20newsgroups(remove=('headers', 'footers'))\n",
    "\n",
    "# Using the TFIDF Vectorizer\n",
    "tfidf_vectorizer = TfidfVectorizer()\n",
    "\n",
    "ng_train_tfidf = tfidf_vectorizer.fit_transform(newsgroups_train['data'])"
   ]
  },
  {
   "cell_type": "markdown",
   "metadata": {
    "id": "ojJRMVFLARRS"
   },
   "source": [
    "The vectorizer has several arguments that can be used to customize behavior.\n",
    "Generally, it's not a bad idea to clean our data before passing it to the vectorizer, but\n",
    "it lowercases text by default (with the argument lowercase=True as default) and can\n",
    "remove stop words if we provide a list to the stop_words argument. We can also use\n",
    "the string 'english' for the stop_words argument to use sklearn's stop word list,\n",
    "although the sklearn documentation recommends against this. Additionally, we\n",
    "can adjust the number of included words with the max_df, min_df, and max_features\n",
    "arguments. If we set the min_df argument to a higher value (its default is 1), this\n",
    "will only include words that appear in at least that many documents. This will\n",
    "trim rare words (for example, typos, slang, or jargon) that likely won't help us in\n",
    "further analysis. It can reduce the size of our TFIDF matrix and can result in faster\n",
    "runtimes for further analysis. The max_df argument works in the same manner but\n",
    "limits the maximum document frequency for terms. The max_features argument\n",
    "causes the vectorizer to only retain the top number of features we specify, ordered\n",
    "by term frequency. One other useful option is to change the n-gram range with the\n",
    "ngram_range parameter. This is a tuple that we can use to set the size of n-grams\n",
    "to be included (1,1) by default.We could\n",
    "only include bigrams (word pairs, or 2-grams) with (2, 2), or include different\n",
    "n-grams with other combinations (such as 1- and 2-grams with (1, 2))."
   ]
  },
  {
   "cell_type": "markdown",
   "metadata": {
    "id": "oJakAd_h93lE"
   },
   "source": [
    "## Basic Text Analysis\n",
    "\n",
    "The first step in analysis is to explore the data. Common exploratory data analysis\n",
    "(EDA) with text includes frequency and TFIDF bar plots as well as plots of word\n",
    "counts. We'll also look at Zipf's law, word collocations, and analyzing the POS tags\n",
    "from our data in this section.\n",
    "\n",
    "\n",
    "### Word Frequency Plots\n",
    "\n"
   ]
  },
  {
   "cell_type": "code",
   "execution_count": 12,
   "metadata": {
    "colab": {
     "base_uri": "https://localhost:8080/",
     "height": 49,
     "referenced_widgets": [
      "3446892557a74511a274b3d7f195ebea",
      "7370935da150454cace9389834a4b979",
      "e38e4f9d1cce44a3881b16418dbc3fcb",
      "5409945b4fa64de78e6b0d7a541d1459",
      "f2c6c7bc6e2541108f63c67813b5a771",
      "5f325e41b03249bba2af94d619a569dc",
      "c8f582670c7c46cea0894a9e27e66d62",
      "a8aa17acc88741498e0202eddce7fd3e",
      "038f5647baed4b48908c9905a52b0dea",
      "d88c14b99db94e478b18df683f98865e",
      "1de8fc1d66754f39a6a6ff47c10d42b3"
     ]
    },
    "id": "rfZgNl-w9R7k",
    "outputId": "d6bd4632-f105-4dec-ee4d-86e51df56e9b"
   },
   "outputs": [
    {
     "data": {
      "application/vnd.jupyter.widget-view+json": {
       "model_id": "8ffa2eb2d05944b98d95f55fe5acf19f",
       "version_major": 2,
       "version_minor": 0
      },
      "text/plain": [
       "Pandas Apply:   0%|          | 0/11314 [00:00<?, ?it/s]"
      ]
     },
     "metadata": {},
     "output_type": "display_data"
    }
   ],
   "source": [
    "# Cleaning data with Spacy\n",
    "\n",
    "import pandas as pd\n",
    "import swifter\n",
    "# Convert to Pandas DF\n",
    "ng_train_df = pd.DataFrame({'text': newsgroups_train['data'],\n",
    "                            'label': newsgroups_train['target']\n",
    "                            })\n",
    "# Apply the spacy cleaning function with swfter module for parrallelization\n",
    "ng_train_df['text'] = ng_train_df['text'].swifter.apply(clean_text_spacy)\n",
    "\n",
    "# use our TFIDF vectorizer with a minimum\n",
    "# document frequency of 10 to exclude rare words and a maximum of 0.9 to exclude\n",
    "# words that show up too often.\n",
    "tfidf_vectorizer = TfidfVectorizer(min_df=10, max_df=0.9)\n",
    "\n",
    "ng_train_tfidf = tfidf_vectorizer.fit_transform (ng_train_df['text'])"
   ]
  },
  {
   "cell_type": "markdown",
   "metadata": {
    "id": "Mq4K1GPc9fe1"
   },
   "source": [
    "This TFIDF method and averaging the word vectors for a document can be called\n",
    "a bag-of-words (BoW) methodology, since we are taking unordered words in\n",
    "our feature extraction. In other words, we are using the words from our data as\n",
    "a multiset (a set, but incorporating the number of counts of each item), but with\n",
    "BoW we are not paying attention to their order or grammar. If we were to use\n",
    "other methods like some neural network models where the order of words matters,\n",
    "it would no longer be using a BoW methodology. Once we have some basic\n",
    "preprocessing done on our text, we can begin to analyze it."
   ]
  },
  {
   "cell_type": "markdown",
   "metadata": {
    "id": "GLArUMg8DD91"
   },
   "source": [
    "## Basic Text Analysis\n",
    "\n",
    "The first step in analysis is to explore the data. Common exploratory data analysis\n",
    "(EDA) with text includes frequency and TFIDF bar plots as well as plots of word\n",
    "counts. We'll also look at Zipf's law, word collocations, and analyzing the POS tags\n",
    "from our data in this section.\n",
    "\n",
    "\n",
    "### Word Frequency Plots\n",
    "A simple way to explore data is with a word frequency or word count plot. There are\n",
    "a few ways to generate this: we could use the CountVectorizer from sklearn, NLTK's\n",
    "FreqDist, pycaret, and more."
   ]
  },
  {
   "cell_type": "code",
   "execution_count": 13,
   "metadata": {
    "colab": {
     "base_uri": "https://localhost:8080/",
     "height": 537
    },
    "id": "0fTWW5l9C7wJ",
    "outputId": "60b9b92e-98bc-4de0-9eaa-421a2df7cb03"
   },
   "outputs": [
    {
     "data": {
      "text/html": [
       "<style type=\"text/css\">\n",
       "</style>\n",
       "<table id=\"T_57aa3\">\n",
       "  <thead>\n",
       "    <tr>\n",
       "      <th id=\"T_57aa3_level0_col0\" class=\"col_heading level0 col0\" >Description</th>\n",
       "      <th id=\"T_57aa3_level0_col1\" class=\"col_heading level0 col1\" >Value</th>\n",
       "    </tr>\n",
       "  </thead>\n",
       "  <tbody>\n",
       "    <tr>\n",
       "      <td id=\"T_57aa3_row0_col0\" class=\"data row0 col0\" >session_id</td>\n",
       "      <td id=\"T_57aa3_row0_col1\" class=\"data row0 col1\" >4143</td>\n",
       "    </tr>\n",
       "    <tr>\n",
       "      <td id=\"T_57aa3_row1_col0\" class=\"data row1 col0\" >Documents</td>\n",
       "      <td id=\"T_57aa3_row1_col1\" class=\"data row1 col1\" >11314</td>\n",
       "    </tr>\n",
       "    <tr>\n",
       "      <td id=\"T_57aa3_row2_col0\" class=\"data row2 col0\" >Vocab Size</td>\n",
       "      <td id=\"T_57aa3_row2_col1\" class=\"data row2 col1\" >40619</td>\n",
       "    </tr>\n",
       "    <tr>\n",
       "      <td id=\"T_57aa3_row3_col0\" class=\"data row3 col0\" >Custom Stopwords</td>\n",
       "      <td id=\"T_57aa3_row3_col1\" class=\"data row3 col1\" >True</td>\n",
       "    </tr>\n",
       "  </tbody>\n",
       "</table>\n"
      ],
      "text/plain": [
       "<pandas.io.formats.style.Styler at 0x2da3f29f7f0>"
      ]
     },
     "metadata": {},
     "output_type": "display_data"
    },
    {
     "data": {
      "text/html": [
       "        <script type=\"text/javascript\">\n",
       "        window.PlotlyConfig = {MathJaxConfig: 'local'};\n",
       "        if (window.MathJax && window.MathJax.Hub && window.MathJax.Hub.Config) {window.MathJax.Hub.Config({SVG: {font: \"STIX-Web\"}});}\n",
       "        if (typeof require !== 'undefined') {\n",
       "        require.undef(\"plotly\");\n",
       "        requirejs.config({\n",
       "            paths: {\n",
       "                'plotly': ['https://cdn.plot.ly/plotly-2.12.1.min']\n",
       "            }\n",
       "        });\n",
       "        require(['plotly'], function(Plotly) {\n",
       "            window._Plotly = Plotly;\n",
       "        });\n",
       "        }\n",
       "        </script>\n",
       "        "
      ]
     },
     "metadata": {},
     "output_type": "display_data"
    },
    {
     "data": {
      "application/vnd.plotly.v1+json": {
       "config": {
        "linkText": "Export to plot.ly",
        "plotlyServerURL": "https://plot.ly",
        "showLink": true
       },
       "data": [
        {
         "marker": {
          "color": "rgba(255, 153, 51, 0.6)",
          "line": {
           "color": "rgba(255, 153, 51, 1.0)",
           "width": 1
          }
         },
         "name": "count",
         "orientation": "v",
         "text": "",
         "type": "bar",
         "x": [
          "would",
          "use",
          "say",
          "know",
          "people",
          "make",
          "think",
          "get",
          "go",
          "may",
          "time",
          "see",
          "also",
          "good",
          "well",
          "take",
          "could",
          "work",
          "want",
          "even",
          "come",
          "give",
          "thing",
          "look",
          "system",
          "year",
          "problem",
          "find",
          "way",
          "much",
          "many",
          "need",
          "try",
          "right",
          "file",
          "first",
          "call",
          "tell",
          "new",
          "article",
          "run",
          "point",
          "seem",
          "question",
          "program",
          "include",
          "really",
          "believe",
          "mean",
          "number",
          "still",
          "read",
          "case",
          "post",
          "help",
          "window",
          "must",
          "start",
          "drive",
          "let",
          "government",
          "bit",
          "follow",
          "back",
          "day",
          "long",
          "never",
          "part",
          "information",
          "car",
          "line",
          "state",
          "thank",
          "ask",
          "support",
          "key",
          "send",
          "sure",
          "put",
          "set",
          "fact",
          "game",
          "however",
          "keep",
          "reason",
          "group",
          "place",
          "hear",
          "show",
          "lot",
          "law",
          "change",
          "probably",
          "little",
          "bad",
          "true",
          "name",
          "happen",
          "course",
          "base"
         ],
         "y": [
          8544,
          8446,
          6538,
          5903,
          5667,
          5471,
          5256,
          5210,
          5192,
          4523,
          4437,
          4350,
          4157,
          3979,
          3831,
          3473,
          3335,
          3321,
          3169,
          3138,
          3113,
          3026,
          3007,
          2987,
          2934,
          2885,
          2875,
          2846,
          2814,
          2770,
          2761,
          2684,
          2650,
          2569,
          2552,
          2441,
          2417,
          2259,
          2241,
          2218,
          2207,
          2198,
          2193,
          2151,
          2054,
          2019,
          2007,
          2004,
          1924,
          1912,
          1867,
          1842,
          1793,
          1777,
          1735,
          1725,
          1708,
          1698,
          1616,
          1611,
          1609,
          1605,
          1598,
          1593,
          1588,
          1586,
          1585,
          1583,
          1567,
          1552,
          1522,
          1522,
          1478,
          1470,
          1469,
          1468,
          1457,
          1457,
          1447,
          1446,
          1428,
          1417,
          1392,
          1387,
          1383,
          1347,
          1345,
          1340,
          1339,
          1335,
          1333,
          1314,
          1312,
          1309,
          1294,
          1288,
          1286,
          1284,
          1273,
          1270
         ]
        }
       ],
       "layout": {
        "legend": {
         "bgcolor": "#F5F6F9",
         "font": {
          "color": "#4D5663"
         }
        },
        "paper_bgcolor": "#F5F6F9",
        "plot_bgcolor": "#F5F6F9",
        "template": {
         "data": {
          "bar": [
           {
            "error_x": {
             "color": "#2a3f5f"
            },
            "error_y": {
             "color": "#2a3f5f"
            },
            "marker": {
             "line": {
              "color": "#E5ECF6",
              "width": 0.5
             },
             "pattern": {
              "fillmode": "overlay",
              "size": 10,
              "solidity": 0.2
             }
            },
            "type": "bar"
           }
          ],
          "barpolar": [
           {
            "marker": {
             "line": {
              "color": "#E5ECF6",
              "width": 0.5
             },
             "pattern": {
              "fillmode": "overlay",
              "size": 10,
              "solidity": 0.2
             }
            },
            "type": "barpolar"
           }
          ],
          "carpet": [
           {
            "aaxis": {
             "endlinecolor": "#2a3f5f",
             "gridcolor": "white",
             "linecolor": "white",
             "minorgridcolor": "white",
             "startlinecolor": "#2a3f5f"
            },
            "baxis": {
             "endlinecolor": "#2a3f5f",
             "gridcolor": "white",
             "linecolor": "white",
             "minorgridcolor": "white",
             "startlinecolor": "#2a3f5f"
            },
            "type": "carpet"
           }
          ],
          "choropleth": [
           {
            "colorbar": {
             "outlinewidth": 0,
             "ticks": ""
            },
            "type": "choropleth"
           }
          ],
          "contour": [
           {
            "colorbar": {
             "outlinewidth": 0,
             "ticks": ""
            },
            "colorscale": [
             [
              0,
              "#0d0887"
             ],
             [
              0.1111111111111111,
              "#46039f"
             ],
             [
              0.2222222222222222,
              "#7201a8"
             ],
             [
              0.3333333333333333,
              "#9c179e"
             ],
             [
              0.4444444444444444,
              "#bd3786"
             ],
             [
              0.5555555555555556,
              "#d8576b"
             ],
             [
              0.6666666666666666,
              "#ed7953"
             ],
             [
              0.7777777777777778,
              "#fb9f3a"
             ],
             [
              0.8888888888888888,
              "#fdca26"
             ],
             [
              1,
              "#f0f921"
             ]
            ],
            "type": "contour"
           }
          ],
          "contourcarpet": [
           {
            "colorbar": {
             "outlinewidth": 0,
             "ticks": ""
            },
            "type": "contourcarpet"
           }
          ],
          "heatmap": [
           {
            "colorbar": {
             "outlinewidth": 0,
             "ticks": ""
            },
            "colorscale": [
             [
              0,
              "#0d0887"
             ],
             [
              0.1111111111111111,
              "#46039f"
             ],
             [
              0.2222222222222222,
              "#7201a8"
             ],
             [
              0.3333333333333333,
              "#9c179e"
             ],
             [
              0.4444444444444444,
              "#bd3786"
             ],
             [
              0.5555555555555556,
              "#d8576b"
             ],
             [
              0.6666666666666666,
              "#ed7953"
             ],
             [
              0.7777777777777778,
              "#fb9f3a"
             ],
             [
              0.8888888888888888,
              "#fdca26"
             ],
             [
              1,
              "#f0f921"
             ]
            ],
            "type": "heatmap"
           }
          ],
          "heatmapgl": [
           {
            "colorbar": {
             "outlinewidth": 0,
             "ticks": ""
            },
            "colorscale": [
             [
              0,
              "#0d0887"
             ],
             [
              0.1111111111111111,
              "#46039f"
             ],
             [
              0.2222222222222222,
              "#7201a8"
             ],
             [
              0.3333333333333333,
              "#9c179e"
             ],
             [
              0.4444444444444444,
              "#bd3786"
             ],
             [
              0.5555555555555556,
              "#d8576b"
             ],
             [
              0.6666666666666666,
              "#ed7953"
             ],
             [
              0.7777777777777778,
              "#fb9f3a"
             ],
             [
              0.8888888888888888,
              "#fdca26"
             ],
             [
              1,
              "#f0f921"
             ]
            ],
            "type": "heatmapgl"
           }
          ],
          "histogram": [
           {
            "marker": {
             "pattern": {
              "fillmode": "overlay",
              "size": 10,
              "solidity": 0.2
             }
            },
            "type": "histogram"
           }
          ],
          "histogram2d": [
           {
            "colorbar": {
             "outlinewidth": 0,
             "ticks": ""
            },
            "colorscale": [
             [
              0,
              "#0d0887"
             ],
             [
              0.1111111111111111,
              "#46039f"
             ],
             [
              0.2222222222222222,
              "#7201a8"
             ],
             [
              0.3333333333333333,
              "#9c179e"
             ],
             [
              0.4444444444444444,
              "#bd3786"
             ],
             [
              0.5555555555555556,
              "#d8576b"
             ],
             [
              0.6666666666666666,
              "#ed7953"
             ],
             [
              0.7777777777777778,
              "#fb9f3a"
             ],
             [
              0.8888888888888888,
              "#fdca26"
             ],
             [
              1,
              "#f0f921"
             ]
            ],
            "type": "histogram2d"
           }
          ],
          "histogram2dcontour": [
           {
            "colorbar": {
             "outlinewidth": 0,
             "ticks": ""
            },
            "colorscale": [
             [
              0,
              "#0d0887"
             ],
             [
              0.1111111111111111,
              "#46039f"
             ],
             [
              0.2222222222222222,
              "#7201a8"
             ],
             [
              0.3333333333333333,
              "#9c179e"
             ],
             [
              0.4444444444444444,
              "#bd3786"
             ],
             [
              0.5555555555555556,
              "#d8576b"
             ],
             [
              0.6666666666666666,
              "#ed7953"
             ],
             [
              0.7777777777777778,
              "#fb9f3a"
             ],
             [
              0.8888888888888888,
              "#fdca26"
             ],
             [
              1,
              "#f0f921"
             ]
            ],
            "type": "histogram2dcontour"
           }
          ],
          "mesh3d": [
           {
            "colorbar": {
             "outlinewidth": 0,
             "ticks": ""
            },
            "type": "mesh3d"
           }
          ],
          "parcoords": [
           {
            "line": {
             "colorbar": {
              "outlinewidth": 0,
              "ticks": ""
             }
            },
            "type": "parcoords"
           }
          ],
          "pie": [
           {
            "automargin": true,
            "type": "pie"
           }
          ],
          "scatter": [
           {
            "fillpattern": {
             "fillmode": "overlay",
             "size": 10,
             "solidity": 0.2
            },
            "type": "scatter"
           }
          ],
          "scatter3d": [
           {
            "line": {
             "colorbar": {
              "outlinewidth": 0,
              "ticks": ""
             }
            },
            "marker": {
             "colorbar": {
              "outlinewidth": 0,
              "ticks": ""
             }
            },
            "type": "scatter3d"
           }
          ],
          "scattercarpet": [
           {
            "marker": {
             "colorbar": {
              "outlinewidth": 0,
              "ticks": ""
             }
            },
            "type": "scattercarpet"
           }
          ],
          "scattergeo": [
           {
            "marker": {
             "colorbar": {
              "outlinewidth": 0,
              "ticks": ""
             }
            },
            "type": "scattergeo"
           }
          ],
          "scattergl": [
           {
            "marker": {
             "colorbar": {
              "outlinewidth": 0,
              "ticks": ""
             }
            },
            "type": "scattergl"
           }
          ],
          "scattermapbox": [
           {
            "marker": {
             "colorbar": {
              "outlinewidth": 0,
              "ticks": ""
             }
            },
            "type": "scattermapbox"
           }
          ],
          "scatterpolar": [
           {
            "marker": {
             "colorbar": {
              "outlinewidth": 0,
              "ticks": ""
             }
            },
            "type": "scatterpolar"
           }
          ],
          "scatterpolargl": [
           {
            "marker": {
             "colorbar": {
              "outlinewidth": 0,
              "ticks": ""
             }
            },
            "type": "scatterpolargl"
           }
          ],
          "scatterternary": [
           {
            "marker": {
             "colorbar": {
              "outlinewidth": 0,
              "ticks": ""
             }
            },
            "type": "scatterternary"
           }
          ],
          "surface": [
           {
            "colorbar": {
             "outlinewidth": 0,
             "ticks": ""
            },
            "colorscale": [
             [
              0,
              "#0d0887"
             ],
             [
              0.1111111111111111,
              "#46039f"
             ],
             [
              0.2222222222222222,
              "#7201a8"
             ],
             [
              0.3333333333333333,
              "#9c179e"
             ],
             [
              0.4444444444444444,
              "#bd3786"
             ],
             [
              0.5555555555555556,
              "#d8576b"
             ],
             [
              0.6666666666666666,
              "#ed7953"
             ],
             [
              0.7777777777777778,
              "#fb9f3a"
             ],
             [
              0.8888888888888888,
              "#fdca26"
             ],
             [
              1,
              "#f0f921"
             ]
            ],
            "type": "surface"
           }
          ],
          "table": [
           {
            "cells": {
             "fill": {
              "color": "#EBF0F8"
             },
             "line": {
              "color": "white"
             }
            },
            "header": {
             "fill": {
              "color": "#C8D4E3"
             },
             "line": {
              "color": "white"
             }
            },
            "type": "table"
           }
          ]
         },
         "layout": {
          "annotationdefaults": {
           "arrowcolor": "#2a3f5f",
           "arrowhead": 0,
           "arrowwidth": 1
          },
          "autotypenumbers": "strict",
          "coloraxis": {
           "colorbar": {
            "outlinewidth": 0,
            "ticks": ""
           }
          },
          "colorscale": {
           "diverging": [
            [
             0,
             "#8e0152"
            ],
            [
             0.1,
             "#c51b7d"
            ],
            [
             0.2,
             "#de77ae"
            ],
            [
             0.3,
             "#f1b6da"
            ],
            [
             0.4,
             "#fde0ef"
            ],
            [
             0.5,
             "#f7f7f7"
            ],
            [
             0.6,
             "#e6f5d0"
            ],
            [
             0.7,
             "#b8e186"
            ],
            [
             0.8,
             "#7fbc41"
            ],
            [
             0.9,
             "#4d9221"
            ],
            [
             1,
             "#276419"
            ]
           ],
           "sequential": [
            [
             0,
             "#0d0887"
            ],
            [
             0.1111111111111111,
             "#46039f"
            ],
            [
             0.2222222222222222,
             "#7201a8"
            ],
            [
             0.3333333333333333,
             "#9c179e"
            ],
            [
             0.4444444444444444,
             "#bd3786"
            ],
            [
             0.5555555555555556,
             "#d8576b"
            ],
            [
             0.6666666666666666,
             "#ed7953"
            ],
            [
             0.7777777777777778,
             "#fb9f3a"
            ],
            [
             0.8888888888888888,
             "#fdca26"
            ],
            [
             1,
             "#f0f921"
            ]
           ],
           "sequentialminus": [
            [
             0,
             "#0d0887"
            ],
            [
             0.1111111111111111,
             "#46039f"
            ],
            [
             0.2222222222222222,
             "#7201a8"
            ],
            [
             0.3333333333333333,
             "#9c179e"
            ],
            [
             0.4444444444444444,
             "#bd3786"
            ],
            [
             0.5555555555555556,
             "#d8576b"
            ],
            [
             0.6666666666666666,
             "#ed7953"
            ],
            [
             0.7777777777777778,
             "#fb9f3a"
            ],
            [
             0.8888888888888888,
             "#fdca26"
            ],
            [
             1,
             "#f0f921"
            ]
           ]
          },
          "colorway": [
           "#636efa",
           "#EF553B",
           "#00cc96",
           "#ab63fa",
           "#FFA15A",
           "#19d3f3",
           "#FF6692",
           "#B6E880",
           "#FF97FF",
           "#FECB52"
          ],
          "font": {
           "color": "#2a3f5f"
          },
          "geo": {
           "bgcolor": "white",
           "lakecolor": "white",
           "landcolor": "#E5ECF6",
           "showlakes": true,
           "showland": true,
           "subunitcolor": "white"
          },
          "hoverlabel": {
           "align": "left"
          },
          "hovermode": "closest",
          "mapbox": {
           "style": "light"
          },
          "paper_bgcolor": "white",
          "plot_bgcolor": "#E5ECF6",
          "polar": {
           "angularaxis": {
            "gridcolor": "white",
            "linecolor": "white",
            "ticks": ""
           },
           "bgcolor": "#E5ECF6",
           "radialaxis": {
            "gridcolor": "white",
            "linecolor": "white",
            "ticks": ""
           }
          },
          "scene": {
           "xaxis": {
            "backgroundcolor": "#E5ECF6",
            "gridcolor": "white",
            "gridwidth": 2,
            "linecolor": "white",
            "showbackground": true,
            "ticks": "",
            "zerolinecolor": "white"
           },
           "yaxis": {
            "backgroundcolor": "#E5ECF6",
            "gridcolor": "white",
            "gridwidth": 2,
            "linecolor": "white",
            "showbackground": true,
            "ticks": "",
            "zerolinecolor": "white"
           },
           "zaxis": {
            "backgroundcolor": "#E5ECF6",
            "gridcolor": "white",
            "gridwidth": 2,
            "linecolor": "white",
            "showbackground": true,
            "ticks": "",
            "zerolinecolor": "white"
           }
          },
          "shapedefaults": {
           "line": {
            "color": "#2a3f5f"
           }
          },
          "ternary": {
           "aaxis": {
            "gridcolor": "white",
            "linecolor": "white",
            "ticks": ""
           },
           "baxis": {
            "gridcolor": "white",
            "linecolor": "white",
            "ticks": ""
           },
           "bgcolor": "#E5ECF6",
           "caxis": {
            "gridcolor": "white",
            "linecolor": "white",
            "ticks": ""
           }
          },
          "title": {
           "x": 0.05
          },
          "xaxis": {
           "automargin": true,
           "gridcolor": "white",
           "linecolor": "white",
           "ticks": "",
           "title": {
            "standoff": 15
           },
           "zerolinecolor": "white",
           "zerolinewidth": 2
          },
          "yaxis": {
           "automargin": true,
           "gridcolor": "white",
           "linecolor": "white",
           "ticks": "",
           "title": {
            "standoff": 15
           },
           "zerolinecolor": "white",
           "zerolinewidth": 2
          }
         }
        },
        "title": {
         "font": {
          "color": "#4D5663"
         },
         "text": "Top 100 words after removing stop words"
        },
        "xaxis": {
         "gridcolor": "#E1E5ED",
         "linecolor": "black",
         "showgrid": true,
         "tickfont": {
          "color": "#4D5663"
         },
         "title": {
          "font": {
           "color": "#4D5663"
          },
          "text": ""
         },
         "zerolinecolor": "#E1E5ED"
        },
        "yaxis": {
         "gridcolor": "#E1E5ED",
         "linecolor": "black",
         "showgrid": true,
         "tickfont": {
          "color": "#4D5663"
         },
         "title": {
          "font": {
           "color": "#4D5663"
          },
          "text": "Count"
         },
         "zerolinecolor": "#E1E5ED"
        }
       }
      },
      "text/html": [
       "<div>                            <div id=\"7f5b7daa-5f13-4dc8-af32-4611b2e245b4\" class=\"plotly-graph-div\" style=\"height:525px; width:100%;\"></div>            <script type=\"text/javascript\">                require([\"plotly\"], function(Plotly) {                    window.PLOTLYENV=window.PLOTLYENV || {};\n",
       "                    window.PLOTLYENV.BASE_URL='https://plot.ly';                                    if (document.getElementById(\"7f5b7daa-5f13-4dc8-af32-4611b2e245b4\")) {                    Plotly.newPlot(                        \"7f5b7daa-5f13-4dc8-af32-4611b2e245b4\",                        [{\"marker\":{\"color\":\"rgba(255, 153, 51, 0.6)\",\"line\":{\"color\":\"rgba(255, 153, 51, 1.0)\",\"width\":1}},\"name\":\"count\",\"orientation\":\"v\",\"text\":\"\",\"x\":[\"would\",\"use\",\"say\",\"know\",\"people\",\"make\",\"think\",\"get\",\"go\",\"may\",\"time\",\"see\",\"also\",\"good\",\"well\",\"take\",\"could\",\"work\",\"want\",\"even\",\"come\",\"give\",\"thing\",\"look\",\"system\",\"year\",\"problem\",\"find\",\"way\",\"much\",\"many\",\"need\",\"try\",\"right\",\"file\",\"first\",\"call\",\"tell\",\"new\",\"article\",\"run\",\"point\",\"seem\",\"question\",\"program\",\"include\",\"really\",\"believe\",\"mean\",\"number\",\"still\",\"read\",\"case\",\"post\",\"help\",\"window\",\"must\",\"start\",\"drive\",\"let\",\"government\",\"bit\",\"follow\",\"back\",\"day\",\"long\",\"never\",\"part\",\"information\",\"car\",\"line\",\"state\",\"thank\",\"ask\",\"support\",\"key\",\"send\",\"sure\",\"put\",\"set\",\"fact\",\"game\",\"however\",\"keep\",\"reason\",\"group\",\"place\",\"hear\",\"show\",\"lot\",\"law\",\"change\",\"probably\",\"little\",\"bad\",\"true\",\"name\",\"happen\",\"course\",\"base\"],\"y\":[8544,8446,6538,5903,5667,5471,5256,5210,5192,4523,4437,4350,4157,3979,3831,3473,3335,3321,3169,3138,3113,3026,3007,2987,2934,2885,2875,2846,2814,2770,2761,2684,2650,2569,2552,2441,2417,2259,2241,2218,2207,2198,2193,2151,2054,2019,2007,2004,1924,1912,1867,1842,1793,1777,1735,1725,1708,1698,1616,1611,1609,1605,1598,1593,1588,1586,1585,1583,1567,1552,1522,1522,1478,1470,1469,1468,1457,1457,1447,1446,1428,1417,1392,1387,1383,1347,1345,1340,1339,1335,1333,1314,1312,1309,1294,1288,1286,1284,1273,1270],\"type\":\"bar\"}],                        {\"legend\":{\"bgcolor\":\"#F5F6F9\",\"font\":{\"color\":\"#4D5663\"}},\"paper_bgcolor\":\"#F5F6F9\",\"plot_bgcolor\":\"#F5F6F9\",\"template\":{\"data\":{\"barpolar\":[{\"marker\":{\"line\":{\"color\":\"#E5ECF6\",\"width\":0.5},\"pattern\":{\"fillmode\":\"overlay\",\"size\":10,\"solidity\":0.2}},\"type\":\"barpolar\"}],\"bar\":[{\"error_x\":{\"color\":\"#2a3f5f\"},\"error_y\":{\"color\":\"#2a3f5f\"},\"marker\":{\"line\":{\"color\":\"#E5ECF6\",\"width\":0.5},\"pattern\":{\"fillmode\":\"overlay\",\"size\":10,\"solidity\":0.2}},\"type\":\"bar\"}],\"carpet\":[{\"aaxis\":{\"endlinecolor\":\"#2a3f5f\",\"gridcolor\":\"white\",\"linecolor\":\"white\",\"minorgridcolor\":\"white\",\"startlinecolor\":\"#2a3f5f\"},\"baxis\":{\"endlinecolor\":\"#2a3f5f\",\"gridcolor\":\"white\",\"linecolor\":\"white\",\"minorgridcolor\":\"white\",\"startlinecolor\":\"#2a3f5f\"},\"type\":\"carpet\"}],\"choropleth\":[{\"colorbar\":{\"outlinewidth\":0,\"ticks\":\"\"},\"type\":\"choropleth\"}],\"contourcarpet\":[{\"colorbar\":{\"outlinewidth\":0,\"ticks\":\"\"},\"type\":\"contourcarpet\"}],\"contour\":[{\"colorbar\":{\"outlinewidth\":0,\"ticks\":\"\"},\"colorscale\":[[0.0,\"#0d0887\"],[0.1111111111111111,\"#46039f\"],[0.2222222222222222,\"#7201a8\"],[0.3333333333333333,\"#9c179e\"],[0.4444444444444444,\"#bd3786\"],[0.5555555555555556,\"#d8576b\"],[0.6666666666666666,\"#ed7953\"],[0.7777777777777778,\"#fb9f3a\"],[0.8888888888888888,\"#fdca26\"],[1.0,\"#f0f921\"]],\"type\":\"contour\"}],\"heatmapgl\":[{\"colorbar\":{\"outlinewidth\":0,\"ticks\":\"\"},\"colorscale\":[[0.0,\"#0d0887\"],[0.1111111111111111,\"#46039f\"],[0.2222222222222222,\"#7201a8\"],[0.3333333333333333,\"#9c179e\"],[0.4444444444444444,\"#bd3786\"],[0.5555555555555556,\"#d8576b\"],[0.6666666666666666,\"#ed7953\"],[0.7777777777777778,\"#fb9f3a\"],[0.8888888888888888,\"#fdca26\"],[1.0,\"#f0f921\"]],\"type\":\"heatmapgl\"}],\"heatmap\":[{\"colorbar\":{\"outlinewidth\":0,\"ticks\":\"\"},\"colorscale\":[[0.0,\"#0d0887\"],[0.1111111111111111,\"#46039f\"],[0.2222222222222222,\"#7201a8\"],[0.3333333333333333,\"#9c179e\"],[0.4444444444444444,\"#bd3786\"],[0.5555555555555556,\"#d8576b\"],[0.6666666666666666,\"#ed7953\"],[0.7777777777777778,\"#fb9f3a\"],[0.8888888888888888,\"#fdca26\"],[1.0,\"#f0f921\"]],\"type\":\"heatmap\"}],\"histogram2dcontour\":[{\"colorbar\":{\"outlinewidth\":0,\"ticks\":\"\"},\"colorscale\":[[0.0,\"#0d0887\"],[0.1111111111111111,\"#46039f\"],[0.2222222222222222,\"#7201a8\"],[0.3333333333333333,\"#9c179e\"],[0.4444444444444444,\"#bd3786\"],[0.5555555555555556,\"#d8576b\"],[0.6666666666666666,\"#ed7953\"],[0.7777777777777778,\"#fb9f3a\"],[0.8888888888888888,\"#fdca26\"],[1.0,\"#f0f921\"]],\"type\":\"histogram2dcontour\"}],\"histogram2d\":[{\"colorbar\":{\"outlinewidth\":0,\"ticks\":\"\"},\"colorscale\":[[0.0,\"#0d0887\"],[0.1111111111111111,\"#46039f\"],[0.2222222222222222,\"#7201a8\"],[0.3333333333333333,\"#9c179e\"],[0.4444444444444444,\"#bd3786\"],[0.5555555555555556,\"#d8576b\"],[0.6666666666666666,\"#ed7953\"],[0.7777777777777778,\"#fb9f3a\"],[0.8888888888888888,\"#fdca26\"],[1.0,\"#f0f921\"]],\"type\":\"histogram2d\"}],\"histogram\":[{\"marker\":{\"pattern\":{\"fillmode\":\"overlay\",\"size\":10,\"solidity\":0.2}},\"type\":\"histogram\"}],\"mesh3d\":[{\"colorbar\":{\"outlinewidth\":0,\"ticks\":\"\"},\"type\":\"mesh3d\"}],\"parcoords\":[{\"line\":{\"colorbar\":{\"outlinewidth\":0,\"ticks\":\"\"}},\"type\":\"parcoords\"}],\"pie\":[{\"automargin\":true,\"type\":\"pie\"}],\"scatter3d\":[{\"line\":{\"colorbar\":{\"outlinewidth\":0,\"ticks\":\"\"}},\"marker\":{\"colorbar\":{\"outlinewidth\":0,\"ticks\":\"\"}},\"type\":\"scatter3d\"}],\"scattercarpet\":[{\"marker\":{\"colorbar\":{\"outlinewidth\":0,\"ticks\":\"\"}},\"type\":\"scattercarpet\"}],\"scattergeo\":[{\"marker\":{\"colorbar\":{\"outlinewidth\":0,\"ticks\":\"\"}},\"type\":\"scattergeo\"}],\"scattergl\":[{\"marker\":{\"colorbar\":{\"outlinewidth\":0,\"ticks\":\"\"}},\"type\":\"scattergl\"}],\"scattermapbox\":[{\"marker\":{\"colorbar\":{\"outlinewidth\":0,\"ticks\":\"\"}},\"type\":\"scattermapbox\"}],\"scatterpolargl\":[{\"marker\":{\"colorbar\":{\"outlinewidth\":0,\"ticks\":\"\"}},\"type\":\"scatterpolargl\"}],\"scatterpolar\":[{\"marker\":{\"colorbar\":{\"outlinewidth\":0,\"ticks\":\"\"}},\"type\":\"scatterpolar\"}],\"scatter\":[{\"fillpattern\":{\"fillmode\":\"overlay\",\"size\":10,\"solidity\":0.2},\"type\":\"scatter\"}],\"scatterternary\":[{\"marker\":{\"colorbar\":{\"outlinewidth\":0,\"ticks\":\"\"}},\"type\":\"scatterternary\"}],\"surface\":[{\"colorbar\":{\"outlinewidth\":0,\"ticks\":\"\"},\"colorscale\":[[0.0,\"#0d0887\"],[0.1111111111111111,\"#46039f\"],[0.2222222222222222,\"#7201a8\"],[0.3333333333333333,\"#9c179e\"],[0.4444444444444444,\"#bd3786\"],[0.5555555555555556,\"#d8576b\"],[0.6666666666666666,\"#ed7953\"],[0.7777777777777778,\"#fb9f3a\"],[0.8888888888888888,\"#fdca26\"],[1.0,\"#f0f921\"]],\"type\":\"surface\"}],\"table\":[{\"cells\":{\"fill\":{\"color\":\"#EBF0F8\"},\"line\":{\"color\":\"white\"}},\"header\":{\"fill\":{\"color\":\"#C8D4E3\"},\"line\":{\"color\":\"white\"}},\"type\":\"table\"}]},\"layout\":{\"annotationdefaults\":{\"arrowcolor\":\"#2a3f5f\",\"arrowhead\":0,\"arrowwidth\":1},\"autotypenumbers\":\"strict\",\"coloraxis\":{\"colorbar\":{\"outlinewidth\":0,\"ticks\":\"\"}},\"colorscale\":{\"diverging\":[[0,\"#8e0152\"],[0.1,\"#c51b7d\"],[0.2,\"#de77ae\"],[0.3,\"#f1b6da\"],[0.4,\"#fde0ef\"],[0.5,\"#f7f7f7\"],[0.6,\"#e6f5d0\"],[0.7,\"#b8e186\"],[0.8,\"#7fbc41\"],[0.9,\"#4d9221\"],[1,\"#276419\"]],\"sequential\":[[0.0,\"#0d0887\"],[0.1111111111111111,\"#46039f\"],[0.2222222222222222,\"#7201a8\"],[0.3333333333333333,\"#9c179e\"],[0.4444444444444444,\"#bd3786\"],[0.5555555555555556,\"#d8576b\"],[0.6666666666666666,\"#ed7953\"],[0.7777777777777778,\"#fb9f3a\"],[0.8888888888888888,\"#fdca26\"],[1.0,\"#f0f921\"]],\"sequentialminus\":[[0.0,\"#0d0887\"],[0.1111111111111111,\"#46039f\"],[0.2222222222222222,\"#7201a8\"],[0.3333333333333333,\"#9c179e\"],[0.4444444444444444,\"#bd3786\"],[0.5555555555555556,\"#d8576b\"],[0.6666666666666666,\"#ed7953\"],[0.7777777777777778,\"#fb9f3a\"],[0.8888888888888888,\"#fdca26\"],[1.0,\"#f0f921\"]]},\"colorway\":[\"#636efa\",\"#EF553B\",\"#00cc96\",\"#ab63fa\",\"#FFA15A\",\"#19d3f3\",\"#FF6692\",\"#B6E880\",\"#FF97FF\",\"#FECB52\"],\"font\":{\"color\":\"#2a3f5f\"},\"geo\":{\"bgcolor\":\"white\",\"lakecolor\":\"white\",\"landcolor\":\"#E5ECF6\",\"showlakes\":true,\"showland\":true,\"subunitcolor\":\"white\"},\"hoverlabel\":{\"align\":\"left\"},\"hovermode\":\"closest\",\"mapbox\":{\"style\":\"light\"},\"paper_bgcolor\":\"white\",\"plot_bgcolor\":\"#E5ECF6\",\"polar\":{\"angularaxis\":{\"gridcolor\":\"white\",\"linecolor\":\"white\",\"ticks\":\"\"},\"bgcolor\":\"#E5ECF6\",\"radialaxis\":{\"gridcolor\":\"white\",\"linecolor\":\"white\",\"ticks\":\"\"}},\"scene\":{\"xaxis\":{\"backgroundcolor\":\"#E5ECF6\",\"gridcolor\":\"white\",\"gridwidth\":2,\"linecolor\":\"white\",\"showbackground\":true,\"ticks\":\"\",\"zerolinecolor\":\"white\"},\"yaxis\":{\"backgroundcolor\":\"#E5ECF6\",\"gridcolor\":\"white\",\"gridwidth\":2,\"linecolor\":\"white\",\"showbackground\":true,\"ticks\":\"\",\"zerolinecolor\":\"white\"},\"zaxis\":{\"backgroundcolor\":\"#E5ECF6\",\"gridcolor\":\"white\",\"gridwidth\":2,\"linecolor\":\"white\",\"showbackground\":true,\"ticks\":\"\",\"zerolinecolor\":\"white\"}},\"shapedefaults\":{\"line\":{\"color\":\"#2a3f5f\"}},\"ternary\":{\"aaxis\":{\"gridcolor\":\"white\",\"linecolor\":\"white\",\"ticks\":\"\"},\"baxis\":{\"gridcolor\":\"white\",\"linecolor\":\"white\",\"ticks\":\"\"},\"bgcolor\":\"#E5ECF6\",\"caxis\":{\"gridcolor\":\"white\",\"linecolor\":\"white\",\"ticks\":\"\"}},\"title\":{\"x\":0.05},\"xaxis\":{\"automargin\":true,\"gridcolor\":\"white\",\"linecolor\":\"white\",\"ticks\":\"\",\"title\":{\"standoff\":15},\"zerolinecolor\":\"white\",\"zerolinewidth\":2},\"yaxis\":{\"automargin\":true,\"gridcolor\":\"white\",\"linecolor\":\"white\",\"ticks\":\"\",\"title\":{\"standoff\":15},\"zerolinecolor\":\"white\",\"zerolinewidth\":2}}},\"title\":{\"font\":{\"color\":\"#4D5663\"},\"text\":\"Top 100 words after removing stop words\"},\"xaxis\":{\"gridcolor\":\"#E1E5ED\",\"linecolor\":\"black\",\"showgrid\":true,\"tickfont\":{\"color\":\"#4D5663\"},\"title\":{\"font\":{\"color\":\"#4D5663\"},\"text\":\"\"},\"zerolinecolor\":\"#E1E5ED\"},\"yaxis\":{\"gridcolor\":\"#E1E5ED\",\"linecolor\":\"black\",\"showgrid\":true,\"tickfont\":{\"color\":\"#4D5663\"},\"title\":{\"font\":{\"color\":\"#4D5663\"},\"text\":\"Count\"},\"zerolinecolor\":\"#E1E5ED\"}},                        {\"showLink\": true, \"linkText\": \"Export to plot.ly\", \"plotlyServerURL\": \"https://plot.ly\", \"responsive\": true}                    ).then(function(){\n",
       "                            \n",
       "var gd = document.getElementById('7f5b7daa-5f13-4dc8-af32-4611b2e245b4');\n",
       "var x = new MutationObserver(function (mutations, observer) {{\n",
       "        var display = window.getComputedStyle(gd).display;\n",
       "        if (!display || display === 'none') {{\n",
       "            console.log([gd, 'removed!']);\n",
       "            Plotly.purge(gd);\n",
       "            observer.disconnect();\n",
       "        }}\n",
       "}});\n",
       "\n",
       "// Listen for the removal of the full notebook cells\n",
       "var notebookContainer = gd.closest('#notebook-container');\n",
       "if (notebookContainer) {{\n",
       "    x.observe(notebookContainer, {childList: true});\n",
       "}}\n",
       "\n",
       "// Listen for the clearing of the current output cell\n",
       "var outputEl = gd.closest('.output');\n",
       "if (outputEl) {{\n",
       "    x.observe(outputEl, {childList: true});\n",
       "}}\n",
       "\n",
       "                        })                };                });            </script>        </div>"
      ]
     },
     "metadata": {},
     "output_type": "display_data"
    }
   ],
   "source": [
    "# !pip install pycaret\n",
    "from pycaret.nlp import setup, plot_model\n",
    "\n",
    "nlp_setup = setup(newsgroups_train['data'], custom_stopwords=['ax', 'edu', 'com', 'write'])\n",
    "\n",
    "plot_model(model=None, plot='frequency')"
   ]
  },
  {
   "cell_type": "markdown",
   "metadata": {},
   "source": [
    "With 'frequency' as the second argument, we plot unigram frequencies, though\n",
    "there are many other options for plotting such as bigrams, trigrams, and more\n",
    "(described in the documentation: https://pycaret.org/plot-model/). A drawback\n",
    "of pycaret is that it doesn't allow fine-tuning of the cleaning process. However, pycaret will\n",
    "still lemmatize words with spacy and perform other cleaning and analysis steps for\n",
    "us even if the data is pre-cleaned."
   ]
  },
  {
   "cell_type": "code",
   "execution_count": 14,
   "metadata": {
    "id": "OoigSS91HkEG"
   },
   "outputs": [
    {
     "data": {
      "image/png": "[encoded data removed]",
      "text/plain": [
       "<Figure size 432x288 with 1 Axes>"
      ]
     },
     "metadata": {
      "needs_background": "light"
     },
     "output_type": "display_data"
    },
    {
     "data": {
      "text/plain": [
       "<AxesSubplot:xlabel='Samples', ylabel='Counts'>"
      ]
     },
     "execution_count": 14,
     "metadata": {},
     "output_type": "execute_result"
    }
   ],
   "source": [
    "from nltk import FreqDist\n",
    "\n",
    "# Unigram plot with nltk\n",
    "fd = FreqDist(lemmatized_text.split())\n",
    "\n",
    "fd.plot(50)"
   ]
  },
  {
   "cell_type": "code",
   "execution_count": 15,
   "metadata": {},
   "outputs": [
    {
     "data": {
      "image/png": "[encoded data removed]",
      "text/plain": [
       "<Figure size 432x288 with 1 Axes>"
      ]
     },
     "metadata": {
      "needs_background": "light"
     },
     "output_type": "display_data"
    },
    {
     "data": {
      "text/plain": [
       "<AxesSubplot:xlabel='Samples', ylabel='Counts'>"
      ]
     },
     "execution_count": 15,
     "metadata": {},
     "output_type": "execute_result"
    }
   ],
   "source": [
    "# Diagram plot with nltk\n",
    "\n",
    "from nltk import bigrams\n",
    "\n",
    "fd_bag = FreqDist(map(' '.join, bigrams(lemmatized_text.split())))\n",
    "\n",
    "fd_bag.plot(50)"
   ]
  },
  {
   "cell_type": "markdown",
   "metadata": {},
   "source": [
    "We can see the top characters are mentioned quite often, and Pierre appears to be\n",
    "speaking a lot in the book. It seems some common phrases are repeated often as well,\n",
    "such as \"long time\" and \"look round.\" Remember these are cleaned and lemmatized\n",
    "text, so \"look round\" may result from \"looking round\" or something similar.\n",
    "\n",
    "\n",
    "If we set the plot argument of fd_bg.plot() to False, we can modify the plot before\n",
    "displaying it. The plot function returns a matplotlib.axes object, and we can modify\n",
    "that to change the style or look of the plot if we wish. We can also use other methods\n",
    "with a little more elbow grease to make nicer-looking plots, such as Python's built-in\n",
    "Counter or sklearn's CountVectorizer methods"
   ]
  },
  {
   "cell_type": "code",
   "execution_count": 16,
   "metadata": {},
   "outputs": [
    {
     "data": {
      "text/plain": [
       "Text(0, 0.5, 'TF-IDF')"
      ]
     },
     "execution_count": 16,
     "metadata": {},
     "output_type": "execute_result"
    },
    {
     "data": {
      "image/png": "[encoded data removed]",
      "text/plain": [
       "<Figure size 432x288 with 1 Axes>"
      ]
     },
     "metadata": {
      "needs_background": "light"
     },
     "output_type": "display_data"
    }
   ],
   "source": [
    "import matplotlib.pyplot as plt\n",
    "import numpy as np\n",
    "\n",
    "\n",
    "idx_to_word = {v: k for k, v in tfidf_vectorizer.vocabulary_.items()}\n",
    "\n",
    "\n",
    "num_words = 20\n",
    "\n",
    "tfidf_sum = np.asarray(ng_train_tfidf.sum(axis=0)).flatten()\n",
    "\n",
    "sorted_idx = tfidf_sum.argsort()[::-1]\n",
    "\n",
    "tfidf_sum = tfidf_sum[sorted_idx]\n",
    "\n",
    "\n",
    "xticks = range(num_words)\n",
    "\n",
    "plt.bar(xticks, tfidf_sum[:num_words])\n",
    "\n",
    "plt.xticks(xticks, [idx_to_word[i] for i in sorted_idx[:num_words]], rotation=90)\n",
    "\n",
    "plt.xlabel('Word')\n",
    "\n",
    "plt.ylabel('TF-IDF')"
   ]
  },
  {
   "cell_type": "markdown",
   "metadata": {},
   "source": [
    "In the example above, we first create a dictionary mapping the index (column\n",
    "number in the ng_train_tfidf numpy array) to each vocabulary item (word, or\n",
    "1-gram in our case). This requires us to reverse the built-in vocabulary_ dictionary,\n",
    "which we do using a dictionary comprehension. Then, we get the sum of the TFIDF\n",
    "vectors across each word (the sum of each column, using axis=0). This creates a\n",
    "numpy matrix, so we convert it to an array, then flatten it (removing the extraneous\n",
    "singlet dimension, since the shape is (1, 8714)). Next, we get the sorted index of\n",
    "our TFIDF sums from greatest to least with argsort and reverse it with [::-1]. We\n",
    "index our tfidf_sum variable by this, then create a list for our x-axis ticks. We have\n",
    "a variable, num_words, that we can use to adjust the number of words we show on the\n",
    "plot. Finally, we can plot it by providing the x-axis tick values and TFIDF sums, and\n",
    "setting the x-axis tick labels with plt.xticks."
   ]
  },
  {
   "cell_type": "code",
   "execution_count": 17,
   "metadata": {},
   "outputs": [
    {
     "data": {
      "image/png": "[encoded data removed]",
      "text/plain": [
       "<Figure size 432x288 with 1 Axes>"
      ]
     },
     "metadata": {
      "needs_background": "light"
     },
     "output_type": "display_data"
    }
   ],
   "source": [
    "import seaborn as sns\n",
    "\n",
    "\n",
    "sns.histplot(ng_train_df['text'].apply(lambda x: len(x)))\n",
    "plt.xscale('log')"
   ]
  },
  {
   "cell_type": "markdown",
   "metadata": {},
   "source": [
    "## Wordcloud \n",
    "\n",
    "It is possible to create wordclouds with the wordcloud package in Python.\n",
    "Wordclouds are visualizations of word frequencies where the size of the word\n",
    "is proportional to the frequency of the word. However, many people despise\n",
    "wordclouds, and they have even been called \"the mullets of the internet\" because\n",
    "they can look tacky and are often misused. Wordclouds can be used occasionally as\n",
    "an aesthetic addition to a presentation or web page, but for analysis they are difficult\n",
    "to interpret. It's much better to use a word frequency bar plot as we showed above."
   ]
  },
  {
   "cell_type": "markdown",
   "metadata": {},
   "source": [
    "## Zipf's Law\n",
    "\n",
    "\n",
    "Interestingly, the word frequency in large texts tends to follow a specific distribution.\n",
    "Not only does it show up in text, but in other situations with ranked order as well,\n",
    "such as the population of cities. You can see some of the situations where this shows\n",
    "up on the Zipf's Law Wikipedia page (https://en.wikipedia.org/wiki/Zipf%27s_law#Other_data_sets) as well as this entertaining video (https://www.youtube.com/watchv=fCn8zs912OE). This distribution is called Zipf's law.\n",
    "\n"
   ]
  },
  {
   "cell_type": "code",
   "execution_count": 18,
   "metadata": {},
   "outputs": [],
   "source": [
    "from sklearn.feature_extraction.text import CountVectorizer\n",
    "\n",
    "\n",
    "def get_top_grams(docs, n=2):\n",
    "    v = CountVectorizer(ngram_range=(n, n))\n",
    "    grams = v.fit_transform(docs)\n",
    "    gram_sum = np.array(np.sum(grams, axis=0)).flatten()\n",
    "    gram_dict = {i: v for v, i in v.vocabulary_.items()}\n",
    "    top_grams = gram_sum.argsort()[::-1][:-1]\n",
    "    \n",
    "    return [gram_dict[i] for i in top_grams], gram_sum[top_grams]\n",
    "\n",
    "\n"
   ]
  },
  {
   "cell_type": "markdown",
   "metadata": {},
   "source": [
    "First, the function we are creating takes in a list of documents and an n-gram value,\n",
    "then performs a process that's similar to what we did with the TFIDF plot. We get\n",
    "n-gram counts with CountVectorizer, then get the list of n-grams and their ranked\n",
    "frequencies from greatest to least. We can get this for a few different n-gram values\n",
    "like so:"
   ]
  },
  {
   "cell_type": "code",
   "execution_count": 19,
   "metadata": {},
   "outputs": [
    {
     "data": {
      "image/png": "[encoded data removed]",
      "text/plain": [
       "<Figure size 396x396 with 1 Axes>"
      ]
     },
     "metadata": {
      "needs_background": "light"
     },
     "output_type": "display_data"
    }
   ],
   "source": [
    "from scipy.stats import zipf \n",
    "\n",
    "\n",
    "ngrams, ngram_counts = {}, {}\n",
    "\n",
    "\n",
    "for n in range(1, 4):\n",
    "    ngrams[n], ngram_counts[n] = get_top_grams([lemmatized_text], n=n)\n",
    "    \n",
    "    \n",
    "    \n",
    "# Plot the Zipf Plot\n",
    "\n",
    "def make_zipf_plot(counts, tokens, a = 1.15):\n",
    "    ranks = np.arange(1, len(counts) + 1)\n",
    "    indices = np.argsort(-counts)\n",
    "    normalized_frequencies = counts[indices] / sum(counts)\n",
    "    \n",
    "    f = plt.figure(figsize=(5.5, 5.5))\n",
    "    plt.loglog(ranks, normalized_frequencies, marker=\".\")\n",
    "    \n",
    "    plt.loglog(ranks, [z for z in zipf.pmf(ranks, a)])\n",
    "    \n",
    "    plt.title(\"Zipf Plot\")\n",
    "    plt.xlabel(\"Word frequency rank\")\n",
    "    plt.ylabel(\"Word frequency\")\n",
    "    \n",
    "    ax = plt.gca()\n",
    "    ax.set_aspect('equal') # make the plot square\n",
    "    plt.grid(True)\n",
    "    \n",
    "    # add text labels\n",
    "    last_freq = None\n",
    "    labeled_word_idxs = list(np.logspace(-0.5, np.log10(len(counts) - 1), 10).astype(int))\n",
    "    \n",
    "    for i in labeled_word_idxs: \n",
    "        dummy = plt.text(ranks[i],\n",
    "                        normalized_frequencies[i], \n",
    "                        \" \" + tokens[indices[i]],\n",
    "                        verticalalignment=\"bottom\", \n",
    "                        horizontalalignment=\"left\")\n",
    "    \n",
    "    plt.show()\n",
    "    \n",
    "    \n",
    "make_zipf_plot(counts = ngram_counts[1], tokens = ngrams[1])"
   ]
  },
  {
   "cell_type": "markdown",
   "metadata": {},
   "source": [
    "We can see the distribution almost follows the ideal Zipf law line, but deviates\n",
    "somewhat. Words that are top ranked appear less frequently than we'd expect, but\n",
    "the rest of the words appear more frequently than we might expect. This may have\n",
    "to do with the writing style and the fact this text was translated from Russian to\n",
    "English. We also usually don't see a perfect match to the Zipf line from text. The\n",
    "Zipf profile of writing can be used as one of many features to help identify authors\n",
    "(this could be based on the characteristics of the Zipf plot of an author's writings, but\n",
    "we would want to use other measures, such as counts of words with different POS\n",
    "tags). We can also plot bigrams with make_zipf_plot(ngram_counts[2], ngrams[2],\n",
    "a=1.01). Notice that we adjusted the shape parameter for the Zipf distribution here\n",
    "to 1.01 from 1.15 that we used for unigrams."
   ]
  },
  {
   "cell_type": "markdown",
   "metadata": {},
   "source": [
    "## Word Collocations\n",
    "\n",
    "Another interesting way to explore text data is with collocations, which are\n",
    "combinations of words that are statistically unique. One way of measuring a word\n",
    "collocations statistical importance is by the ratio of the co-occurrence of a few words\n",
    "(for example, when two words appear next to each other) to the separate occurrence\n",
    "of each word. This is called pointwise mutual information, or PMI. If two words in\n",
    "the text mostly show up as bigrams but don't show up much by themselves, that's\n",
    "an interesting word pair. For example, the two words \"of the\" are very common and\n",
    "don't always appear together. However, the two words \"New York\" are not very\n",
    "common and tend to appear together. So \"New York\" would have a high PMI or\n",
    "other collocation statistic value, while \"of the\" would be a low value. We can extract\n",
    "these collocation values with the NLTK package:"
   ]
  },
  {
   "cell_type": "code",
   "execution_count": 20,
   "metadata": {},
   "outputs": [
    {
     "data": {
      "text/plain": [
       "[('ab', 'ovo'),\n",
       " ('absorbed', 'querulousness'),\n",
       " ('academy', 'jotting'),\n",
       " ('achtung', 'nehmen'),\n",
       " ('agwee', 'evewythe'),\n",
       " ('ahahah', 'rrrr'),\n",
       " ('alliée', 'sincère'),\n",
       " ('alliés', 'détruite'),\n",
       " ('alphonse', 'kárlovich'),\n",
       " ('amber', 'mouthpiece')]"
      ]
     },
     "execution_count": 20,
     "metadata": {},
     "output_type": "execute_result"
    }
   ],
   "source": [
    "from nltk.collocations import BigramAssocMeasures, BigramCollocationFinder\n",
    "\n",
    "\n",
    "\n",
    "BigramCollocationFinder.from_words(lemmatized_text.split()).nbest(BigramAssocMeasures().pmi, 10)"
   ]
  },
  {
   "cell_type": "code",
   "execution_count": 21,
   "metadata": {},
   "outputs": [
    {
     "data": {
      "text/plain": [
       "[(('ab', 'ovo'), 17.872446435470106),\n",
       " (('absorbed', 'querulousness'), 17.872446435470106),\n",
       " (('academy', 'jotting'), 17.872446435470106),\n",
       " (('achtung', 'nehmen'), 17.872446435470106),\n",
       " (('agwee', 'evewythe'), 17.872446435470106),\n",
       " (('ahahah', 'rrrr'), 17.872446435470106),\n",
       " (('alliée', 'sincère'), 17.872446435470106),\n",
       " (('alliés', 'détruite'), 17.872446435470106),\n",
       " (('alphonse', 'kárlovich'), 17.872446435470106),\n",
       " (('amber', 'mouthpiece'), 17.872446435470106),\n",
       " (('amstetten', 'melk'), 17.872446435470106),\n",
       " (('armfeldts', 'bennigsens'), 17.872446435470106),\n",
       " (('arming', 'concentrating'), 17.872446435470106),\n",
       " (('ash', 'linstock'), 17.872446435470106),\n",
       " (('att', 'ention'), 17.872446435470106)]"
      ]
     },
     "execution_count": 21,
     "metadata": {},
     "output_type": "execute_result"
    }
   ],
   "source": [
    "# from nltk.collocations import score_ngrams\n",
    "\n",
    "# Obtain the PMI score \n",
    "\n",
    "BigramCollocationFinder.from_words(lemmatized_text.split()).score_ngrams(BigramAssocMeasures().pmi)[:15]"
   ]
  },
  {
   "cell_type": "markdown",
   "metadata": {},
   "source": [
    "## Parts of Speech\n",
    "\n",
    "Another way to analyze our text is to look at the POS tags. These are labels given to\n",
    "words to signify their part of speech, such as noun, verb, adjective, and so on. The\n",
    "POS tags allow us to lemmatize text as well as analyze it in different ways, such as\n",
    "counts of different POS tags, the type of writing, and more. We can get POS tags\n",
    "from each word in a spacy-processed text with the pos_ or tag_ attributes. The pos_\n",
    "attribute is a simple POS tag, while tag_is more granular. We can extract these from\n",
    "our War and Peace text like so:"
   ]
  },
  {
   "cell_type": "code",
   "execution_count": 22,
   "metadata": {},
   "outputs": [],
   "source": [
    "# Empty Dict and lists\n",
    "pos_dict = {}\n",
    "pos_dict['word'] = []\n",
    "pos_dict['POS'] = []\n",
    "\n",
    "# Loop through Each Word\n",
    "for word in processed_text:\n",
    "    # If word is alphanumeric and not a stopword\n",
    "    if word.is_alpha and not word.is_stop:\n",
    "        # Add a lowercase version to the list\n",
    "        pos_dict['word'].append(word.lower_)\n",
    "        # Add the tag to the list\n",
    "        pos_dict['POS'].append(word.pos_)\n",
    "        \n",
    "# Return a DataFrame\n",
    "wnp_pos_df = pd.DataFrame(pos_dict)\n"
   ]
  },
  {
   "cell_type": "code",
   "execution_count": 23,
   "metadata": {},
   "outputs": [
    {
     "data": {
      "text/html": [
       "<div>\n",
       "<style scoped>\n",
       "    .dataframe tbody tr th:only-of-type {\n",
       "        vertical-align: middle;\n",
       "    }\n",
       "\n",
       "    .dataframe tbody tr th {\n",
       "        vertical-align: top;\n",
       "    }\n",
       "\n",
       "    .dataframe thead th {\n",
       "        text-align: right;\n",
       "    }\n",
       "</style>\n",
       "<table border=\"1\" class=\"dataframe\">\n",
       "  <thead>\n",
       "    <tr style=\"text-align: right;\">\n",
       "      <th></th>\n",
       "      <th></th>\n",
       "      <th>count</th>\n",
       "    </tr>\n",
       "    <tr>\n",
       "      <th>POS</th>\n",
       "      <th>word</th>\n",
       "      <th></th>\n",
       "    </tr>\n",
       "  </thead>\n",
       "  <tbody>\n",
       "    <tr>\n",
       "      <th rowspan=\"2\" valign=\"top\">X</th>\n",
       "      <th>être</th>\n",
       "      <td>1</td>\n",
       "    </tr>\n",
       "    <tr>\n",
       "      <th>êtes</th>\n",
       "      <td>2</td>\n",
       "    </tr>\n",
       "    <tr>\n",
       "      <th rowspan=\"2\" valign=\"top\">PROPN</th>\n",
       "      <th>évidence</th>\n",
       "      <td>1</td>\n",
       "    </tr>\n",
       "    <tr>\n",
       "      <th>étranger</th>\n",
       "      <td>2</td>\n",
       "    </tr>\n",
       "    <tr>\n",
       "      <th rowspan=\"2\" valign=\"top\">X</th>\n",
       "      <th>états</th>\n",
       "      <td>1</td>\n",
       "    </tr>\n",
       "    <tr>\n",
       "      <th>était</th>\n",
       "      <td>1</td>\n",
       "    </tr>\n",
       "    <tr>\n",
       "      <th rowspan=\"2\" valign=\"top\">PROPN</th>\n",
       "      <th>éprouver</th>\n",
       "      <td>1</td>\n",
       "    </tr>\n",
       "    <tr>\n",
       "      <th>énergique</th>\n",
       "      <td>1</td>\n",
       "    </tr>\n",
       "    <tr>\n",
       "      <th rowspan=\"2\" valign=\"top\">NOUN</th>\n",
       "      <th>émigrés</th>\n",
       "      <td>1</td>\n",
       "    </tr>\n",
       "    <tr>\n",
       "      <th>émigrée</th>\n",
       "      <td>1</td>\n",
       "    </tr>\n",
       "  </tbody>\n",
       "</table>\n",
       "</div>"
      ],
      "text/plain": [
       "                 count\n",
       "POS   word            \n",
       "X     être           1\n",
       "      êtes           2\n",
       "PROPN évidence       1\n",
       "      étranger       2\n",
       "X     états          1\n",
       "      était          1\n",
       "PROPN éprouver       1\n",
       "      énergique      1\n",
       "NOUN  émigrés        1\n",
       "      émigrée        1"
      ]
     },
     "execution_count": 23,
     "metadata": {},
     "output_type": "execute_result"
    }
   ],
   "source": [
    "# Get the Top Overall POS Tags\n",
    "pos_counts = wnp_pos_df.groupby('POS').count().sort_values(by='word', ascending=False).head(10)\n",
    "\n",
    "# Rename Colum to Count\n",
    "pos_counts.columns = ['count']\n",
    "\n",
    "# New Column called Count in wnp dataframe\n",
    "wnp_pos_df['count'] = 1\n",
    "\n",
    "\n",
    "wnp_pos_df.groupby(['POS', 'word']).count().sort_values(by='word', ascending=False).head(10)"
   ]
  },
  {
   "cell_type": "markdown",
   "metadata": {},
   "source": [
    "## Unsupervised Learning\n",
    "\n",
    "Another more advanced way to analyze text is with unsupervised learning. We can\n",
    "take the word vectors for each document, or TFIDF vectors, and use them to cluster\n",
    "documents with the clustering techniques we learned in last chapter. However, this tends to not work well, with the \"elbow\" in the within cluster sum of squares plot often not clearly appearing, so that we don't have a clear number of clusters. A better way to look at how text groups is with `topic modeling`."
   ]
  },
  {
   "cell_type": "markdown",
   "metadata": {},
   "source": [
    "## Topic Modeling\n",
    "\n",
    "- Singular value decomposition (SVD), used in latent semantic analysis (LSA) and latent semantic indexing (LSI)\n",
    "- Probabilistic latent semantic analysis (PLSA)\n",
    "- Non-negative matrix factorization (NMF)\n",
    "- Latent dirichlet allocation (LDA)\n",
    "- Others, such as neural network models (for example, TopicRNN and Top2Vec)\n",
    "\n",
    "\n",
    "Each of these methods has strengths and weaknesses, although they all attempt\n",
    "the same thing: to find hidden (latent) groupings of words (topics) that commonly\n",
    "appear in groups of documents (the word \"latent\" means present but hidden). There\n",
    "are several packages in Python for carrying these out:\n",
    "\n",
    "- sklearn (SVD, LDA, NMF)\n",
    "- Gensim (LDA)\n",
    "- Top2Vec\n",
    "- pycaret\n",
    "- lda (LDA)\n",
    "- fasttext"
   ]
  },
  {
   "cell_type": "markdown",
   "metadata": {},
   "source": [
    "### Topic Modeling with PyCaret\n",
    "\n",
    "With pycaret, we run our setup function as before. Let's use the 20 newsgroups\n",
    "dataset to explore topics talked about in the \"space\" newsgroup. We can get the label\n",
    "number for each newsgroup with this:"
   ]
  },
  {
   "cell_type": "code",
   "execution_count": 24,
   "metadata": {},
   "outputs": [
    {
     "data": {
      "text/plain": [
       "[('alt.atheism', 0),\n",
       " ('comp.graphics', 1),\n",
       " ('comp.os.ms-windows.misc', 2),\n",
       " ('comp.sys.ibm.pc.hardware', 3),\n",
       " ('comp.sys.mac.hardware', 4),\n",
       " ('comp.windows.x', 5),\n",
       " ('misc.forsale', 6),\n",
       " ('rec.autos', 7),\n",
       " ('rec.motorcycles', 8),\n",
       " ('rec.sport.baseball', 9),\n",
       " ('rec.sport.hockey', 10),\n",
       " ('sci.crypt', 11),\n",
       " ('sci.electronics', 12),\n",
       " ('sci.med', 13),\n",
       " ('sci.space', 14),\n",
       " ('soc.religion.christian', 15),\n",
       " ('talk.politics.guns', 16),\n",
       " ('talk.politics.mideast', 17),\n",
       " ('talk.politics.misc', 18),\n",
       " ('talk.religion.misc', 19)]"
      ]
     },
     "execution_count": 24,
     "metadata": {},
     "output_type": "execute_result"
    }
   ],
   "source": [
    "\n",
    "list(zip(newsgroups_train['target_names'], range(len(newsgroups_train['target_names']))))"
   ]
  },
  {
   "cell_type": "code",
   "execution_count": 25,
   "metadata": {},
   "outputs": [
    {
     "data": {
      "text/html": [
       "<div>\n",
       "<style scoped>\n",
       "    .dataframe tbody tr th:only-of-type {\n",
       "        vertical-align: middle;\n",
       "    }\n",
       "\n",
       "    .dataframe tbody tr th {\n",
       "        vertical-align: top;\n",
       "    }\n",
       "\n",
       "    .dataframe thead th {\n",
       "        text-align: right;\n",
       "    }\n",
       "</style>\n",
       "<table border=\"1\" class=\"dataframe\">\n",
       "  <thead>\n",
       "    <tr style=\"text-align: right;\">\n",
       "      <th></th>\n",
       "      <th>index</th>\n",
       "      <th>text</th>\n",
       "      <th>label</th>\n",
       "    </tr>\n",
       "  </thead>\n",
       "  <tbody>\n",
       "    <tr>\n",
       "      <th>0</th>\n",
       "      <td>4</td>\n",
       "      <td>article tom baker article pack rat write clear...</td>\n",
       "      <td>14</td>\n",
       "    </tr>\n",
       "    <tr>\n",
       "      <th>1</th>\n",
       "      <td>13</td>\n",
       "      <td>article write description external tank option...</td>\n",
       "      <td>14</td>\n",
       "    </tr>\n",
       "    <tr>\n",
       "      <th>2</th>\n",
       "      <td>49</td>\n",
       "      <td>pat sez oddly smithsonian call lindbergh year ...</td>\n",
       "      <td>14</td>\n",
       "    </tr>\n",
       "    <tr>\n",
       "      <th>3</th>\n",
       "      <td>59</td>\n",
       "      <td>archive space modify date upcoming planetary p...</td>\n",
       "      <td>14</td>\n",
       "    </tr>\n",
       "    <tr>\n",
       "      <th>4</th>\n",
       "      <td>119</td>\n",
       "      <td>article henry spencer write pluto atmosphere s...</td>\n",
       "      <td>14</td>\n",
       "    </tr>\n",
       "  </tbody>\n",
       "</table>\n",
       "</div>"
      ],
      "text/plain": [
       "   index                                               text  label\n",
       "0      4  article tom baker article pack rat write clear...     14\n",
       "1     13  article write description external tank option...     14\n",
       "2     49  pat sez oddly smithsonian call lindbergh year ...     14\n",
       "3     59  archive space modify date upcoming planetary p...     14\n",
       "4    119  article henry spencer write pluto atmosphere s...     14"
      ]
     },
     "execution_count": 25,
     "metadata": {},
     "output_type": "execute_result"
    }
   ],
   "source": [
    "# Filter newgroup DataFrame for space newgroup, label number 14\n",
    "\n",
    "space_ng = ng_train_df[ng_train_df['label'] == 14].copy().reset_index()\n",
    "\n",
    "space_ng.head()"
   ]
  },
  {
   "cell_type": "markdown",
   "metadata": {},
   "source": [
    "We reset the index so that the pycaret function assign_model will work properly (it\n",
    "expects an index starting at 0 and increasing incrementally). Again, we need to set up\n",
    "our pycaret environment with our data, specifying the column that we will use for\n",
    "our text:"
   ]
  },
  {
   "cell_type": "code",
   "execution_count": 26,
   "metadata": {},
   "outputs": [
    {
     "data": {
      "text/html": [
       "<style type=\"text/css\">\n",
       "</style>\n",
       "<table id=\"T_75d31\">\n",
       "  <thead>\n",
       "    <tr>\n",
       "      <th id=\"T_75d31_level0_col0\" class=\"col_heading level0 col0\" >Description</th>\n",
       "      <th id=\"T_75d31_level0_col1\" class=\"col_heading level0 col1\" >Value</th>\n",
       "    </tr>\n",
       "  </thead>\n",
       "  <tbody>\n",
       "    <tr>\n",
       "      <td id=\"T_75d31_row0_col0\" class=\"data row0 col0\" >session_id</td>\n",
       "      <td id=\"T_75d31_row0_col1\" class=\"data row0 col1\" >8878</td>\n",
       "    </tr>\n",
       "    <tr>\n",
       "      <td id=\"T_75d31_row1_col0\" class=\"data row1 col0\" >Documents</td>\n",
       "      <td id=\"T_75d31_row1_col1\" class=\"data row1 col1\" >593</td>\n",
       "    </tr>\n",
       "    <tr>\n",
       "      <td id=\"T_75d31_row2_col0\" class=\"data row2 col0\" >Vocab Size</td>\n",
       "      <td id=\"T_75d31_row2_col1\" class=\"data row2 col1\" >5888</td>\n",
       "    </tr>\n",
       "    <tr>\n",
       "      <td id=\"T_75d31_row3_col0\" class=\"data row3 col0\" >Custom Stopwords</td>\n",
       "      <td id=\"T_75d31_row3_col1\" class=\"data row3 col1\" >False</td>\n",
       "    </tr>\n",
       "  </tbody>\n",
       "</table>\n"
      ],
      "text/plain": [
       "<pandas.io.formats.style.Styler at 0x2da38826c70>"
      ]
     },
     "metadata": {},
     "output_type": "display_data"
    }
   ],
   "source": [
    "from pycaret.nlp import setup, create_model, plot_model, assign_model\n",
    "\n",
    "\n",
    "space_setup = setup(space_ng, target='text')"
   ]
  },
  {
   "cell_type": "markdown",
   "metadata": {},
   "source": [
    "Then we can create a topic model. There are five topic models available at the time\n",
    "of this writing (listed in the documentation: https://pycaret.org/nlp/) but we will\n",
    "use LDA since it is a standard topic modeling technique used by many people. We\n",
    "simply create the model, which uses four topics by default."
   ]
  },
  {
   "cell_type": "code",
   "execution_count": 27,
   "metadata": {},
   "outputs": [
    {
     "data": {
      "text/html": [
       "        <script type=\"text/javascript\">\n",
       "        window.PlotlyConfig = {MathJaxConfig: 'local'};\n",
       "        if (window.MathJax && window.MathJax.Hub && window.MathJax.Hub.Config) {window.MathJax.Hub.Config({SVG: {font: \"STIX-Web\"}});}\n",
       "        if (typeof require !== 'undefined') {\n",
       "        require.undef(\"plotly\");\n",
       "        requirejs.config({\n",
       "            paths: {\n",
       "                'plotly': ['https://cdn.plot.ly/plotly-2.12.1.min']\n",
       "            }\n",
       "        });\n",
       "        require(['plotly'], function(Plotly) {\n",
       "            window._Plotly = Plotly;\n",
       "        });\n",
       "        }\n",
       "        </script>\n",
       "        "
      ]
     },
     "metadata": {},
     "output_type": "display_data"
    },
    {
     "data": {
      "text/html": [
       "\n",
       "<link rel=\"stylesheet\" type=\"text/css\" href=\"https://cdn.jsdelivr.net/gh/bmabey/pyLDAvis@3.3.1/pyLDAvis/js/ldavis.v1.0.0.css\">\n",
       "\n",
       "\n",
       "<div id=\"ldavis_el3428031359406618723337047922\"></div>\n",
       "<script type=\"text/javascript\">\n",
       "\n",
       "var ldavis_el3428031359406618723337047922_data = {\"mdsDat\": {\"x\": [-0.20404141077749374, 0.06518208087702007, 0.181936510031625, -0.04307718013115132], \"y\": [0.07012625295374564, 0.16714100483146915, -0.046344158384161546, -0.19092309940105323], \"topics\": [1, 2, 3, 4], \"cluster\": [1, 1, 1, 1], \"Freq\": [36.08999618479072, 25.75906938811301, 21.352726311708498, 16.798208115387776]}, \"tinfo\": {\"Term\": [\"write\", \"think\", \"satellite\", \"launch\", \"mission\", \"probe\", \"system\", \"shuttle\", \"orbit\", \"lunar\", \"people\", \"spacecraft\", \"surface\", \"planet\", \"space\", \"time\", \"information\", \"flight\", \"earth\", \"build\", \"software\", \"thing\", \"station\", \"money\", \"mass\", \"go\", \"maybe\", \"vehicle\", \"address\", \"try\", \"maybe\", \"bad\", \"talk\", \"rule\", \"guess\", \"prize\", \"race\", \"visible\", \"claim\", \"dream\", \"balloon\", \"economy\", \"night\", \"tax\", \"film\", \"win\", \"mining\", \"story\", \"thread\", \"colony\", \"air\", \"ton\", \"rimsat\", \"shadow\", \"pull\", \"raise\", \"happy\", \"reward\", \"privately\", \"movie\", \"think\", \"spend\", \"write\", \"money\", \"get\", \"right\", \"actually\", \"hear\", \"cheap\", \"advertising\", \"try\", \"idea\", \"thing\", \"pay\", \"go\", \"real\", \"people\", \"government\", \"stuff\", \"article\", \"cost\", \"probably\", \"know\", \"sure\", \"want\", \"little\", \"big\", \"large\", \"work\", \"problem\", \"way\", \"year\", \"look\", \"need\", \"say\", \"space\", \"long\", \"time\", \"come\", \"good\", \"address\", \"email\", \"file\", \"mail\", \"option\", \"format\", \"internet\", \"net\", \"request\", \"simulation\", \"redesign\", \"copy\", \"database\", \"monthly\", \"determine\", \"manager\", \"member\", \"phone\", \"response\", \"server\", \"comet\", \"fold\", \"education\", \"newsletter\", \"online\", \"version\", \"gif\", \"membership\", \"document\", \"introduction\", \"archive\", \"publication\", \"software\", \"volume\", \"information\", \"individual\", \"public\", \"russian\", \"shuttle\", \"planetary\", \"station\", \"available\", \"flight\", \"number\", \"space\", \"publish\", \"program\", \"include\", \"rocket\", \"post\", \"engine\", \"group\", \"send\", \"level\", \"image\", \"report\", \"list\", \"mission\", \"use\", \"design\", \"follow\", \"system\", \"time\", \"year\", \"probe\", \"ring\", \"deliver\", \"launcher\", \"stable\", \"remote_sense\", \"global\", \"collect\", \"soft\", \"primarily\", \"lander\", \"gather\", \"instrument\", \"acronym\", \"gp\", \"lift\", \"constellation\", \"camera\", \"transmission\", \"detailed\", \"separation\", \"entire\", \"revenue\", \"chlorine\", \"iapetus\", \"radar\", \"establish\", \"oxygen\", \"infrare\", \"region\", \"satellite\", \"tracking\", \"surface\", \"payload\", \"thermal\", \"mar\", \"launch\", \"mission\", \"system\", \"lunar\", \"fuel\", \"ozone\", \"vehicle\", \"datum\", \"orbit\", \"build\", \"solar\", \"test\", \"development\", \"low\", \"commercial\", \"provide\", \"new\", \"return\", \"space\", \"technology\", \"market\", \"image\", \"study\", \"year\", \"shuttle\", \"project\", \"use\", \"program\", \"earth\", \"mass\", \"ether\", \"spin\", \"velocity\", \"constant\", \"acceleration\", \"distance\", \"oil\", \"star\", \"aluminum\", \"bomb\", \"drag\", \"plutonium\", \"exposure\", \"mode\", \"momentum\", \"burst\", \"taste\", \"unlikely\", \"detector\", \"explosion\", \"billboard\", \"astronomer\", \"edge\", \"convert\", \"solid\", \"fluid\", \"meter\", \"grb\", \"density\", \"mercury\", \"galactic\", \"error\", \"planet\", \"temperature\", \"object\", \"plate\", \"food\", \"concept\", \"unit\", \"spacecraft\", \"energy\", \"book\", \"source\", \"earth\", \"time\", \"close\", \"product\", \"power\", \"reference\", \"eat\", \"orbit\", \"system\", \"kill\", \"solar\", \"look\", \"high\", \"give\", \"find\", \"space\", \"material\", \"order\", \"work\", \"know\"], \"Freq\": [423.0, 258.0, 134.0, 224.0, 168.0, 92.0, 217.0, 148.0, 221.0, 172.0, 165.0, 80.0, 75.0, 59.0, 611.0, 212.0, 103.0, 98.0, 129.0, 109.0, 76.0, 136.0, 98.0, 95.0, 37.0, 132.0, 70.0, 93.0, 48.0, 103.0, 69.09959721618044, 47.578277019800105, 57.38799800856947, 32.38433189967868, 31.814279712248595, 25.924968738167586, 24.567720817364293, 22.340894964626607, 22.825768660815164, 20.27443467385456, 25.20754405771209, 18.117312701595466, 18.30628796499271, 17.58242240723095, 18.42423701046678, 16.701459706470352, 16.7630913789781, 15.756893342310406, 15.806823575921767, 15.288057545767197, 15.461704058555048, 14.229233741466494, 14.513733970943775, 13.968876246218692, 13.942532175198306, 14.132133101885728, 13.312851013552814, 13.167124245286077, 15.254026068891557, 13.010295792043749, 240.05941971379937, 55.24422607878426, 383.8860216992872, 89.03408177166246, 74.82278115223103, 72.7348467922755, 59.90464606717605, 55.91960465076967, 52.13708621912671, 32.168921402665084, 93.5622181160699, 93.59598090318903, 118.94810308045874, 50.510860659922734, 113.67219546680955, 59.567390523218876, 139.94741281787455, 66.93292140386457, 29.565478875852772, 117.56410517518147, 123.83553904413318, 61.67249799704104, 152.07675934364553, 46.93217795442504, 76.87026618855522, 55.67378039253071, 47.29561539594243, 95.38161625651045, 104.70429100048855, 74.88656042357839, 74.01869251002299, 143.3041616229129, 93.9753861930938, 86.44818084752572, 88.00482343664154, 173.6116905954061, 64.94590691645746, 91.09848658579713, 62.98001912076291, 64.44704216080446, 47.81549226881784, 46.3453861350125, 47.206345679325416, 43.626299909380464, 32.17946773591281, 27.913417001967368, 22.200891057055365, 26.553039663192923, 19.734554749389247, 18.518206727811563, 16.416183334387473, 16.421179101333912, 16.431035022139955, 19.291087626967034, 19.139559864948556, 16.1415640938825, 28.66282039914997, 14.6070376343417, 15.045013111661559, 14.135047929150417, 13.97455189562156, 13.594792787771619, 12.928739385486212, 11.610665110830219, 11.654080476226572, 12.553071957337126, 11.000832236928641, 11.104218722948843, 12.170297855506071, 11.136445323766493, 37.517305680525105, 19.72313174402419, 65.36234081082635, 24.883785026451616, 83.04264358891659, 21.73764634122139, 34.347466211168936, 31.707610904150044, 104.17362273142511, 43.08621188715918, 68.26770462460719, 71.50232057528042, 68.05523316326128, 43.1529746207582, 272.7071233771379, 26.12547214783058, 89.86506676155521, 73.42033344781547, 67.75439128314684, 61.16545823048486, 41.87335966959776, 39.4953444668504, 55.34368430057711, 44.4872758916433, 62.10865683824623, 39.42041481179959, 35.87700923222574, 58.969720714739175, 54.48652740201229, 38.805890273025085, 35.713454370182646, 40.62021803678306, 40.08968046346514, 38.74026175797053, 91.66005379295174, 27.126708737216077, 20.096577651319695, 18.62889820785815, 16.566238412308035, 16.178515223277103, 16.40578114392409, 15.530267132281889, 15.007279018994888, 15.91205389405687, 14.428136709631264, 12.894289039494353, 16.95025076655082, 12.747591837194497, 14.575931946582328, 12.522062105773667, 11.255547833742334, 11.135905206002596, 10.429899583948854, 10.854490393512732, 9.961591779481736, 10.026506407134422, 9.920014078562852, 10.16687543248374, 9.937490656966897, 20.2011441611028, 9.592735028640863, 10.312415553801612, 9.071953771966704, 9.150219115660297, 124.56201374220893, 9.75785241513086, 63.678801575570695, 45.78341663136449, 19.613276620860308, 16.879261179866123, 158.4040821179672, 108.49532545638796, 126.27234975953613, 102.54527212410284, 48.14411618803767, 25.24919438935345, 59.84168031196168, 47.8950315126617, 113.20028243762526, 58.15025274655991, 37.999291153580586, 38.762067551665034, 38.402584405835235, 44.63490190936835, 42.277931355585096, 38.7940979150996, 49.362823371253, 30.942221314772915, 129.2372204567848, 43.14973680345187, 31.16675407160868, 44.086879287337666, 30.999891411841638, 56.48769429488333, 44.196423857007936, 33.627198778055636, 36.37849662586611, 33.793000874881386, 31.69931563902631, 36.51682766377359, 28.740421306850116, 22.466233973878044, 22.062287342298067, 19.352914695492842, 17.226667562256992, 18.224327144385793, 17.25564633846467, 17.48578999049723, 15.295971783585575, 13.29485597078261, 12.82074746987762, 12.656894108375862, 13.703497807286988, 12.004939534794111, 11.296810443239378, 11.256523333862374, 11.048475552036251, 11.554736737652798, 9.957504131857963, 9.454811695037645, 9.783010628450853, 9.042727958880732, 8.910300132773855, 8.863172995979395, 9.405924749700365, 8.207584462421913, 16.733463798706648, 8.001283982885006, 8.66880526898818, 8.343196916678616, 12.347651082210708, 16.452151703357938, 50.43740276798865, 10.566766822155461, 27.032335055718796, 12.475568617285758, 14.476243137997274, 21.81102956096696, 24.004508526969218, 49.397840089856466, 22.262332015121583, 30.47791154681164, 35.54895083129843, 54.713969786040025, 74.99374973522583, 31.304296199228652, 19.53730332541205, 39.51711720869525, 27.712192867698295, 17.610180762056007, 57.37451801877599, 48.91613135997568, 15.779308113042516, 23.780142764101615, 30.91813882009626, 27.671131263901685, 25.948060734345347, 26.3447376593662, 35.79349454105194, 19.042627397151772, 19.20853535745987, 19.9529468773269, 19.757906492552568], \"Total\": [423.0, 258.0, 134.0, 224.0, 168.0, 92.0, 217.0, 148.0, 221.0, 172.0, 165.0, 80.0, 75.0, 59.0, 611.0, 212.0, 103.0, 98.0, 129.0, 109.0, 76.0, 136.0, 98.0, 95.0, 37.0, 132.0, 70.0, 93.0, 48.0, 103.0, 70.10941843176768, 48.30334455170583, 58.34601750556581, 33.11285552220416, 32.544095522995896, 26.613511559981443, 25.27185070255342, 23.032833219891657, 23.575486402880234, 20.964034657609417, 26.116442376987806, 18.808721939180298, 19.02107212838544, 18.274133431881793, 19.180331882925838, 17.4161763743204, 17.48117852246577, 16.46431330588618, 16.521317078518596, 16.000159458628552, 16.21285434937953, 14.92235880668166, 15.233223579606172, 14.681042324504405, 14.653516350120778, 14.853257913807198, 14.001955672048805, 13.84924669441145, 16.054358040840494, 13.69324156529578, 258.42906044121077, 58.77253859306945, 423.60470380095023, 95.50774352006654, 80.53471965082883, 78.42665819706741, 64.71500769117974, 60.41231661825364, 56.35920578684025, 34.40065899078962, 103.9910629813165, 104.30018964046273, 136.68201455883778, 55.73693715906393, 132.00266993525253, 66.5629260595705, 165.59137287713207, 76.1438961731626, 31.835383271214106, 142.65958765482006, 154.26207115058492, 73.59270373562507, 209.5444692060459, 54.03565439535937, 97.13748708682822, 67.52229004180296, 55.35047114318624, 132.74315129470807, 150.8867968221262, 99.35620706527072, 99.56808048998585, 244.95430937370924, 142.82296695744458, 128.55370930112446, 134.31575569932522, 611.3495289703808, 86.8261083296198, 212.9263669604959, 84.86472843139681, 110.20419719220642, 48.50510928048536, 47.04787861717575, 47.94040536083502, 44.323656259091486, 32.87143260613793, 28.601067759700552, 22.881818198269162, 27.409799926794957, 20.42018462052733, 19.208044971778683, 17.09839184556181, 17.104240919048284, 17.124997684028347, 20.107899857690324, 19.98352260662341, 16.855947525061122, 29.98154566926545, 15.287750378016721, 15.748045910296234, 14.81505494791116, 14.68587954310119, 14.311416303918753, 13.687154980719772, 12.298639705378395, 12.350471617323867, 13.317235339232038, 11.681840984965536, 11.79346057323441, 12.93238458110245, 11.836326118247655, 40.49744876840261, 21.222949649720412, 76.5915093302319, 27.699497750345756, 103.03598526974613, 24.415609428999833, 40.52646105427352, 37.858046927861714, 148.82765146815254, 53.969607326776824, 98.06976194889887, 103.97914484301049, 98.42386711817535, 56.84827437466199, 611.3495289703808, 30.85188346318899, 151.9967927159098, 122.73976584599899, 112.95477760681351, 98.18415618436526, 60.146782536235776, 55.703284453078986, 95.21049000742846, 70.13973854415468, 121.59107127449545, 60.664069898384994, 52.52052293360892, 168.03179858183404, 162.55063703877465, 82.2280526050065, 68.61194230370529, 217.5936656640438, 212.9263669604959, 244.95430937370924, 92.36386654081136, 27.826048057669816, 20.786690467699348, 19.32276576815245, 17.251946813170807, 16.86072583904517, 17.098211665092126, 16.233203253406653, 15.689988346145256, 16.666203352346976, 15.164626392653494, 13.5798182419599, 17.864417088022158, 13.437020833762599, 15.383348239846368, 13.227367035327205, 11.928328825936529, 11.825810513272002, 11.118552500090283, 11.587136663100699, 10.63690147964474, 10.706760930708773, 10.60029908915063, 10.871926022007129, 10.632402151530256, 21.631718743312984, 10.274541577257994, 11.074448260083726, 9.754229689343843, 9.844517627850776, 134.9531105602698, 10.514956888912494, 75.03262818552834, 54.91136976899937, 22.168504248126222, 19.024930322348766, 224.5116726730903, 168.03179858183404, 217.5936656640438, 172.20469132645056, 69.97422018156603, 32.17970399900916, 93.64596370644973, 72.18754032870635, 221.01846600218136, 109.52710900182552, 62.40933099696085, 64.83975322950235, 69.25235052559184, 89.28122203814712, 84.08166303863041, 73.86208269224448, 111.55625776512449, 51.34468739623907, 611.3495289703808, 94.73417883965365, 55.654596628430184, 121.59107127449545, 60.15252708233904, 244.95430937370924, 148.82765146815254, 102.6036323304319, 162.55063703877465, 151.9967927159098, 129.35217513065567, 37.53554103502208, 29.561105276267416, 23.204132848439627, 22.907570279327313, 20.115302192868498, 17.936327038411847, 19.01252374484776, 18.04155719844858, 18.297827029786696, 16.03846391094595, 14.008096611458662, 13.536036946152928, 13.381730426520157, 14.511923619510139, 12.738891255802645, 12.010444038976003, 11.969365823264239, 11.753054110901758, 12.3455984319345, 10.665571343125269, 10.182726543211489, 10.542076113786866, 9.77987742768382, 9.642747669226356, 9.622402232327039, 10.216656675994495, 8.917586392773318, 18.19479732782824, 8.712152741707042, 9.439145732830276, 9.08606798439707, 13.52844128874367, 18.316896458058054, 59.66133363389353, 11.800693329164707, 35.864126709734414, 14.407531914279579, 17.26353881809943, 28.64518105838141, 32.277997992056726, 80.52554104311696, 29.847399747975807, 45.46352884933221, 67.3015216005463, 129.35217513065567, 212.9263669604959, 57.917278630489065, 27.988618454929544, 86.92076061648973, 51.0483010877503, 24.283681726857182, 221.01846600218136, 217.5936656640438, 20.053968955029916, 62.40933099696085, 142.82296695744458, 103.28751597727388, 86.75745574399247, 129.33404776628242, 611.3495289703808, 50.73439829441173, 72.97175646765201, 150.8867968221262, 209.5444692060459], \"Category\": [\"Default\", \"Default\", \"Default\", \"Default\", \"Default\", \"Default\", \"Default\", \"Default\", \"Default\", \"Default\", \"Default\", \"Default\", \"Default\", \"Default\", \"Default\", \"Default\", \"Default\", \"Default\", \"Default\", \"Default\", \"Default\", \"Default\", \"Default\", \"Default\", \"Default\", \"Default\", \"Default\", \"Default\", \"Default\", \"Default\", \"Topic1\", \"Topic1\", \"Topic1\", \"Topic1\", \"Topic1\", \"Topic1\", \"Topic1\", \"Topic1\", \"Topic1\", \"Topic1\", \"Topic1\", \"Topic1\", \"Topic1\", \"Topic1\", \"Topic1\", \"Topic1\", \"Topic1\", \"Topic1\", \"Topic1\", \"Topic1\", \"Topic1\", \"Topic1\", \"Topic1\", \"Topic1\", \"Topic1\", \"Topic1\", \"Topic1\", \"Topic1\", \"Topic1\", \"Topic1\", \"Topic1\", \"Topic1\", \"Topic1\", \"Topic1\", \"Topic1\", \"Topic1\", \"Topic1\", \"Topic1\", \"Topic1\", \"Topic1\", \"Topic1\", \"Topic1\", \"Topic1\", \"Topic1\", \"Topic1\", \"Topic1\", \"Topic1\", \"Topic1\", \"Topic1\", \"Topic1\", \"Topic1\", \"Topic1\", \"Topic1\", \"Topic1\", \"Topic1\", \"Topic1\", \"Topic1\", \"Topic1\", \"Topic1\", \"Topic1\", \"Topic1\", \"Topic1\", \"Topic1\", \"Topic1\", \"Topic1\", \"Topic1\", \"Topic1\", \"Topic1\", \"Topic1\", \"Topic1\", \"Topic2\", \"Topic2\", \"Topic2\", \"Topic2\", \"Topic2\", \"Topic2\", \"Topic2\", \"Topic2\", \"Topic2\", \"Topic2\", \"Topic2\", \"Topic2\", \"Topic2\", \"Topic2\", \"Topic2\", \"Topic2\", \"Topic2\", \"Topic2\", \"Topic2\", \"Topic2\", \"Topic2\", \"Topic2\", \"Topic2\", \"Topic2\", \"Topic2\", \"Topic2\", \"Topic2\", \"Topic2\", \"Topic2\", \"Topic2\", \"Topic2\", \"Topic2\", \"Topic2\", \"Topic2\", \"Topic2\", \"Topic2\", \"Topic2\", \"Topic2\", \"Topic2\", \"Topic2\", \"Topic2\", \"Topic2\", \"Topic2\", \"Topic2\", \"Topic2\", \"Topic2\", \"Topic2\", \"Topic2\", \"Topic2\", \"Topic2\", \"Topic2\", \"Topic2\", \"Topic2\", \"Topic2\", \"Topic2\", \"Topic2\", \"Topic2\", \"Topic2\", \"Topic2\", \"Topic2\", \"Topic2\", \"Topic2\", \"Topic2\", \"Topic2\", \"Topic3\", \"Topic3\", \"Topic3\", \"Topic3\", \"Topic3\", \"Topic3\", \"Topic3\", \"Topic3\", \"Topic3\", \"Topic3\", \"Topic3\", \"Topic3\", \"Topic3\", \"Topic3\", \"Topic3\", \"Topic3\", \"Topic3\", \"Topic3\", \"Topic3\", \"Topic3\", \"Topic3\", \"Topic3\", \"Topic3\", \"Topic3\", \"Topic3\", \"Topic3\", \"Topic3\", \"Topic3\", \"Topic3\", \"Topic3\", \"Topic3\", \"Topic3\", \"Topic3\", \"Topic3\", \"Topic3\", \"Topic3\", \"Topic3\", \"Topic3\", \"Topic3\", \"Topic3\", \"Topic3\", \"Topic3\", \"Topic3\", \"Topic3\", \"Topic3\", \"Topic3\", \"Topic3\", \"Topic3\", \"Topic3\", \"Topic3\", \"Topic3\", \"Topic3\", \"Topic3\", \"Topic3\", \"Topic3\", \"Topic3\", \"Topic3\", \"Topic3\", \"Topic3\", \"Topic3\", \"Topic3\", \"Topic3\", \"Topic3\", \"Topic3\", \"Topic3\", \"Topic4\", \"Topic4\", \"Topic4\", \"Topic4\", \"Topic4\", \"Topic4\", \"Topic4\", \"Topic4\", \"Topic4\", \"Topic4\", \"Topic4\", \"Topic4\", \"Topic4\", \"Topic4\", \"Topic4\", \"Topic4\", \"Topic4\", \"Topic4\", \"Topic4\", \"Topic4\", \"Topic4\", \"Topic4\", \"Topic4\", \"Topic4\", \"Topic4\", \"Topic4\", \"Topic4\", \"Topic4\", \"Topic4\", \"Topic4\", \"Topic4\", \"Topic4\", \"Topic4\", \"Topic4\", \"Topic4\", \"Topic4\", \"Topic4\", \"Topic4\", \"Topic4\", \"Topic4\", \"Topic4\", \"Topic4\", \"Topic4\", \"Topic4\", \"Topic4\", \"Topic4\", \"Topic4\", \"Topic4\", \"Topic4\", \"Topic4\", \"Topic4\", \"Topic4\", \"Topic4\", \"Topic4\", \"Topic4\", \"Topic4\", \"Topic4\", \"Topic4\", \"Topic4\", \"Topic4\", \"Topic4\", \"Topic4\", \"Topic4\", \"Topic4\"], \"logprob\": [30.0, 29.0, 28.0, 27.0, 26.0, 25.0, 24.0, 23.0, 22.0, 21.0, 20.0, 19.0, 18.0, 17.0, 16.0, 15.0, 14.0, 13.0, 12.0, 11.0, 10.0, 9.0, 8.0, 7.0, 6.0, 5.0, 4.0, 3.0, 2.0, 1.0, -5.4747, -5.8479, -5.6604, -6.2326, -6.2503, -6.4551, -6.5088, -6.6038, -6.5824, -6.7009, -6.4831, -6.8134, -6.803, -6.8434, -6.7966, -6.8948, -6.8911, -6.953, -6.9498, -6.9832, -6.9719, -7.055, -7.0352, -7.0734, -7.0753, -7.0618, -7.1215, -7.1325, -6.9854, -7.1445, -4.2294, -5.6985, -3.7599, -5.2212, -5.3951, -5.4234, -5.6175, -5.6863, -5.7564, -6.2393, -5.1716, -5.1713, -4.9316, -5.7881, -4.9769, -5.6232, -4.769, -5.5066, -6.3237, -4.9433, -4.8913, -5.5884, -4.6859, -5.8616, -5.3681, -5.6908, -5.8538, -5.1524, -5.0591, -5.3943, -5.4059, -4.7453, -5.1672, -5.2507, -5.2329, -4.5534, -5.5367, -5.1983, -5.5674, -5.5444, -5.5057, -5.5369, -5.5185, -5.5974, -5.9017, -6.0439, -6.2729, -6.0939, -6.3907, -6.4543, -6.5748, -6.5745, -6.5739, -6.4134, -6.4213, -6.5916, -6.0174, -6.6915, -6.662, -6.7244, -6.7358, -6.7633, -6.8136, -6.9211, -6.9174, -6.8431, -6.9751, -6.9657, -6.874, -6.9628, -5.7482, -6.3912, -5.1931, -6.1588, -4.9537, -6.294, -5.8365, -5.9165, -4.727, -5.6098, -5.1496, -5.1033, -5.1527, -5.6083, -3.7646, -6.1101, -4.8747, -5.0768, -5.1571, -5.2594, -5.6384, -5.6968, -5.3595, -5.5778, -5.2441, -5.6987, -5.7929, -5.296, -5.3751, -5.7145, -5.7975, -5.6688, -5.6819, -5.7162, -4.6673, -5.8849, -6.1849, -6.2607, -6.3781, -6.4017, -6.3878, -6.4426, -6.4769, -6.4183, -6.5162, -6.6286, -6.3551, -6.6401, -6.5061, -6.6579, -6.7646, -6.7753, -6.8407, -6.8008, -6.8867, -6.8802, -6.8909, -6.8663, -6.8891, -6.1797, -6.9244, -6.8521, -6.9802, -6.9716, -4.3606, -6.9074, -5.0316, -5.3615, -6.2092, -6.3593, -4.1203, -4.4987, -4.347, -4.5551, -5.3112, -5.9566, -5.0937, -5.3164, -4.4563, -5.1224, -5.5479, -5.528, -5.5373, -5.3869, -5.4412, -5.5272, -5.2862, -5.7533, -4.3238, -5.4207, -5.7461, -5.3993, -5.7514, -5.1514, -5.3968, -5.6701, -5.5914, -5.6652, -5.7291, -5.3477, -5.5872, -5.8335, -5.8516, -5.9827, -6.0991, -6.0428, -6.0974, -6.0841, -6.2179, -6.3581, -6.3945, -6.4073, -6.3279, -6.4602, -6.521, -6.5246, -6.5432, -6.4984, -6.6472, -6.699, -6.6649, -6.7436, -6.7583, -6.7636, -6.7042, -6.8405, -6.1281, -6.8659, -6.7858, -6.8241, -6.4321, -6.1451, -5.0248, -6.5878, -5.6485, -6.4217, -6.273, -5.8631, -5.7673, -5.0456, -5.8426, -5.5285, -5.3746, -4.9434, -4.6281, -5.5018, -5.9732, -5.2688, -5.6236, -6.077, -4.8959, -5.0554, -6.1868, -5.7767, -5.5142, -5.6251, -5.6894, -5.6742, -5.3678, -5.9988, -5.9902, -5.9521, -5.962], \"loglift\": [30.0, 29.0, 28.0, 27.0, 26.0, 25.0, 24.0, 23.0, 22.0, 21.0, 20.0, 19.0, 18.0, 17.0, 16.0, 15.0, 14.0, 13.0, 12.0, 11.0, 10.0, 9.0, 8.0, 7.0, 6.0, 5.0, 4.0, 3.0, 2.0, 1.0, 1.0046, 1.004, 1.0026, 0.9969, 0.9965, 0.9929, 0.9909, 0.9887, 0.9868, 0.9857, 0.9837, 0.9817, 0.9809, 0.9806, 0.9789, 0.9773, 0.9772, 0.9752, 0.9749, 0.9736, 0.9717, 0.9716, 0.9708, 0.9694, 0.9694, 0.9694, 0.9687, 0.9686, 0.968, 0.968, 0.9454, 0.9572, 0.9207, 0.949, 0.9456, 0.9438, 0.9419, 0.9419, 0.9413, 0.9521, 0.9135, 0.9109, 0.8802, 0.9207, 0.8697, 0.9081, 0.8509, 0.8902, 0.9452, 0.8257, 0.7995, 0.8424, 0.6986, 0.8782, 0.7851, 0.8262, 0.8619, 0.6886, 0.6538, 0.7364, 0.7226, 0.4831, 0.6006, 0.6224, 0.5964, -0.2397, 0.7288, 0.1701, 0.7209, 0.4827, 1.3421, 1.3413, 1.341, 1.3405, 1.3351, 1.332, 1.3262, 1.3246, 1.3222, 1.3198, 1.3157, 1.3156, 1.315, 1.3149, 1.3132, 1.3131, 1.3114, 1.3108, 1.3107, 1.3094, 1.3067, 1.305, 1.2994, 1.2988, 1.2983, 1.2973, 1.2963, 1.2962, 1.2956, 1.2954, 1.2799, 1.2831, 1.1978, 1.2492, 1.1407, 1.2402, 1.191, 1.1791, 0.9997, 1.1312, 0.9941, 0.9819, 0.9874, 1.0807, 0.5491, 1.1901, 0.8308, 0.8425, 0.8453, 0.8831, 0.9942, 1.0125, 0.8139, 0.9011, 0.6846, 0.9253, 0.9753, 0.3093, 0.2633, 0.6055, 0.7034, -0.322, -0.3134, -0.4878, 1.5363, 1.5185, 1.5102, 1.5074, 1.5034, 1.5027, 1.5027, 1.4997, 1.4995, 1.4977, 1.4942, 1.4922, 1.4915, 1.4913, 1.4901, 1.4892, 1.4859, 1.4839, 1.4801, 1.4787, 1.4784, 1.4783, 1.4777, 1.4769, 1.4764, 1.4756, 1.4753, 1.4727, 1.4715, 1.4709, 1.4639, 1.4693, 1.3799, 1.3622, 1.4215, 1.4243, 1.1952, 1.1065, 0.9998, 1.0256, 1.1701, 1.3014, 1.0962, 1.1337, 0.8749, 0.9108, 1.0478, 1.0295, 0.9544, 0.8507, 0.8565, 0.9001, 0.7287, 1.0376, -0.01, 0.7576, 0.9642, 0.5295, 0.8811, 0.0769, 0.3298, 0.4285, 0.047, 0.0404, 0.1377, 1.7564, 1.7557, 1.7516, 1.7463, 1.7453, 1.7435, 1.7416, 1.7394, 1.7385, 1.7365, 1.7316, 1.7296, 1.7282, 1.7266, 1.7246, 1.7226, 1.7225, 1.7221, 1.7177, 1.7152, 1.7097, 1.7092, 1.7055, 1.7049, 1.7017, 1.7012, 1.7009, 1.7002, 1.6988, 1.6988, 1.6986, 1.6926, 1.6765, 1.6159, 1.6735, 1.5012, 1.6399, 1.6078, 1.5113, 1.4878, 1.2952, 1.4907, 1.384, 1.1456, 0.9235, 0.7404, 1.1686, 1.4244, 0.9956, 1.173, 1.4626, 0.4353, 0.2914, 1.5442, 0.819, 0.2536, 0.4668, 0.5769, 0.1928, -1.054, 0.804, 0.4492, -0.2393, -0.5775]}, \"token.table\": {\"Topic\": [4, 3, 1, 2, 4, 2, 1, 4, 1, 4, 2, 3, 4, 1, 2, 3, 4, 4, 1, 2, 3, 4, 1, 1, 1, 4, 4, 4, 2, 4, 1, 3, 4, 4, 3, 1, 3, 4, 3, 1, 1, 2, 3, 4, 3, 1, 1, 2, 3, 4, 2, 1, 2, 3, 4, 1, 2, 3, 4, 4, 3, 4, 2, 1, 2, 3, 2, 2, 3, 4, 3, 4, 1, 2, 3, 4, 3, 4, 2, 1, 3, 4, 2, 4, 1, 1, 3, 4, 1, 4, 1, 4, 2, 2, 3, 4, 2, 3, 3, 1, 4, 3, 4, 4, 4, 2, 1, 1, 2, 3, 4, 2, 3, 4, 2, 1, 2, 3, 4, 1, 4, 2, 2, 3, 4, 1, 4, 3, 1, 2, 4, 2, 1, 2, 3, 4, 3, 1, 2, 3, 4, 1, 2, 3, 4, 1, 2, 3, 3, 4, 1, 2, 3, 1, 1, 1, 2, 1, 2, 3, 4, 3, 1, 2, 3, 4, 1, 2, 3, 4, 1, 2, 3, 4, 2, 3, 2, 3, 4, 3, 3, 2, 2, 1, 2, 4, 1, 2, 4, 3, 1, 2, 3, 4, 1, 2, 3, 4, 3, 1, 2, 3, 4, 3, 1, 2, 3, 4, 1, 2, 3, 4, 1, 2, 3, 4, 1, 2, 3, 4, 1, 2, 3, 4, 1, 2, 3, 4, 2, 2, 3, 4, 1, 3, 4, 1, 2, 4, 1, 4, 2, 4, 2, 4, 3, 4, 1, 2, 3, 4, 4, 1, 2, 4, 2, 1, 1, 2, 3, 4, 2, 1, 2, 3, 4, 2, 1, 1, 2, 3, 4, 3, 4, 4, 2, 2, 1, 2, 3, 4, 2, 3, 4, 3, 1, 3, 4, 1, 2, 1, 2, 3, 4, 1, 2, 2, 3, 4, 1, 2, 3, 4, 1, 4, 4, 1, 2, 3, 4, 1, 2, 3, 4, 3, 1, 1, 1, 2, 3, 4, 3, 1, 2, 3, 4, 2, 3, 4, 1, 2, 3, 4, 1, 2, 3, 1, 2, 3, 4, 1, 2, 2, 3, 4, 2, 4, 1, 1, 3, 4, 1, 1, 2, 3, 4, 2, 2, 3, 4, 3, 3, 2, 3, 4, 2, 2, 1, 2, 3, 3, 1, 1, 2, 4, 1, 3, 1, 2, 3, 4, 1, 2, 3, 2, 3, 4, 1, 2, 4, 1, 2, 3, 3, 2, 1, 2, 3, 2, 3, 2, 3, 3, 4, 4, 1, 2, 3, 4, 1, 2, 3, 4, 3, 4, 1, 2, 4, 3, 4, 1, 2, 1, 1, 2, 3, 4, 1, 4, 1, 2, 3, 4, 1, 2, 3, 4, 1, 4, 1, 1, 2, 3, 4, 2, 4, 2, 3, 4, 3, 4, 1, 2, 4, 1, 2, 4, 1, 1, 2, 3, 4, 1, 3, 3, 1, 2, 4, 3, 4, 4, 1, 2, 3, 4, 1, 2, 3, 4, 4, 2, 1, 2, 4, 1, 2, 1, 2, 3, 4, 1, 1, 2, 3, 4, 1, 2, 4, 1, 2, 3, 4], \"Freq\": [0.9477971695985115, 0.9674763595912186, 0.9271419743364666, 0.01545236623894111, 0.04635709871682333, 0.9895864726834339, 0.9302147382864854, 0.058138421142905336, 0.9251918062518124, 0.9352516602143415, 0.9383307135546968, 0.024692913514597285, 0.04938582702919457, 0.8271438459889108, 0.1401938722015103, 0.01401938722015103, 0.021029080830226546, 0.9202569323132591, 0.12502507132201968, 0.6924465488604167, 0.08655581860755208, 0.10579044496478587, 0.9937200093591633, 0.9572513606228563, 0.8491345968567388, 0.14453354840114702, 0.9485797571620697, 0.928034718818684, 0.3079391405448642, 0.6598695868818519, 0.4565079865220092, 0.5295492643655307, 0.009130159730440185, 0.9190127666262708, 0.9301688021852539, 0.9226531721662743, 0.017743330233966813, 0.05322999070190044, 0.9198002248872774, 0.9755896275883442, 0.2762560738062235, 0.08633002306444486, 0.10359602767733382, 0.5352461429995581, 0.9856341813894486, 0.937490656814099, 0.7423578813538314, 0.0707007506051268, 0.058917292170939, 0.1296180427760658, 0.9532966656107847, 0.4400483846638565, 0.04757279834203854, 0.4995143825914047, 0.011893199585509636, 0.06981977163711492, 0.13963954327422984, 0.03490988581855746, 0.7680174880082641, 0.9445545395154984, 0.9221744437562784, 0.935317375297819, 0.935440518858774, 0.8038268841791694, 0.07778969846895187, 0.1166845477034278, 0.934306695697975, 0.193939285592097, 0.6649346934586183, 0.13852806113721214, 0.9621541260297403, 0.9534761147608004, 0.2432259960730517, 0.47429069234245086, 0.1702581972511362, 0.12161299803652585, 0.9493285804619498, 0.9375962785571467, 0.950783321540246, 0.43319829251013886, 0.5487178371795092, 0.9467443797343241, 0.927903119857346, 0.9603992698686247, 0.9540148319083466, 0.33242579768424213, 0.24738664013711045, 0.4251957877356586, 0.247079502502462, 0.7412385075073861, 0.9570028233818665, 0.9333439294198679, 0.9497956308898582, 0.9777273992372273, 0.23452629237743655, 0.7370826331862291, 0.6982917161811084, 0.2992678783633322, 0.9339892862759581, 0.05459440152919985, 0.8735104244671976, 0.9732794329368745, 0.9810187991611434, 0.8838497196018706, 0.9647239309596491, 0.9803838671417808, 0.938461342059646, 0.31700855813382156, 0.27834897787359947, 0.20102981735315514, 0.20102981735315514, 0.690889333969716, 0.30480411792781587, 0.8971037282557849, 0.9782400080253776, 0.11659777775403352, 0.5246899998931508, 0.33521861104284634, 0.02914944443850838, 0.11585110220293657, 0.8109577154205561, 0.9789844293663935, 0.1286187967032315, 0.685966915750568, 0.171491728937642, 0.07391834570269742, 0.8870201484323691, 0.9573029453245304, 0.9312753595613731, 0.04966801917660656, 0.01241700479415164, 0.9416324031594796, 0.4610554753707125, 0.24205412456962408, 0.011526386884267813, 0.2996860589909631, 0.9357703784113138, 0.8636188954050485, 0.007575604345658321, 0.11363406518487482, 0.022726813036974963, 0.5807401317789922, 0.21777754941712207, 0.05444438735428052, 0.1361109683857013, 0.8799129459783879, 0.0787981742667213, 0.03939908713336065, 0.9750803119145799, 0.9182575463469773, 0.2513316788670287, 0.7001382482724371, 0.03590452555243267, 0.983281283002275, 0.9284417337465977, 0.9269632938240866, 0.06621166384457762, 0.31949650146742725, 0.18395253114791266, 0.2226793798106311, 0.2710879406390292, 0.9405212347579198, 0.9012447659398423, 0.07670168220764616, 0.00958771027595577, 0.00958771027595577, 0.1069157452412942, 0.5099058619200185, 0.3618686762013034, 0.016448576190968338, 0.09776782542551322, 0.5947542713385388, 0.20368296963648588, 0.10591514421097266, 0.9010629066612331, 0.08191480969647574, 0.8055438086286812, 0.14558020637867733, 0.038821388367647286, 0.9226766527583605, 0.9516123541136007, 0.961462057314315, 0.9293424234942024, 0.04986544071362896, 0.1495963221408869, 0.7978470514180633, 0.7253830204916447, 0.17657349840915035, 0.0954451342752164, 0.9232011153787675, 0.7156678071404747, 0.1205335254131326, 0.15820025210473654, 0.0075333453383207875, 0.19152679006855902, 0.08462811654192143, 0.7037496007170307, 0.01781644558777293, 0.9832960885607572, 0.1425725303168154, 0.6273191333939878, 0.18534428941186004, 0.028514506063363084, 0.9828108621526899, 0.03808035198979636, 0.6854463358163345, 0.24752228793367634, 0.03808035198979636, 0.8293557574147807, 0.014809924239549655, 0.11847939391639724, 0.02961984847909931, 0.7486227501207254, 0.1266900038665843, 0.011517273078780392, 0.1151727307878039, 0.6581574518614235, 0.07001675019802377, 0.05601340015841902, 0.21705192561387368, 0.3584180331484193, 0.05600281767944052, 0.5040253591149647, 0.07840394475121673, 0.2845450935312215, 0.11614085450253939, 0.5981254006880778, 0.005807042725126969, 0.9926978889737893, 0.9492198511066485, 0.8935643764240198, 0.10512522075576702, 0.43123122713892814, 0.5570070017211155, 0.985732427980127, 0.27594690132635447, 0.3350783801820018, 0.3744993660857667, 0.9841759002344685, 0.014263418843977806, 0.967261672226871, 0.03335385076644382, 0.9327202928854325, 0.8804688687931781, 0.054960766090564724, 0.9343330235396003, 0.9724744803762866, 0.3511240163942309, 0.6427354876368973, 0.9419972083154352, 0.9158695518919255, 0.9318616137266479, 0.05235177605205887, 0.010470355210411774, 0.9449022590359378, 0.9493734509838244, 0.6689810855519808, 0.20225009563199417, 0.04667309899199865, 0.07778849831999776, 0.9850491456380771, 0.4750966109995242, 0.035856347999964094, 0.43924026299956015, 0.04482043499995512, 0.9757176636983849, 0.9463188971949862, 0.10554410078407371, 0.7563993889525282, 0.017590683464012286, 0.123134784248086, 0.22306412378998766, 0.7528414177912084, 0.9422689966840476, 0.9716228150484338, 0.9734896675609078, 0.10858821180924824, 0.12216173828540428, 0.5112694972685438, 0.25789700304696456, 0.39741403254909374, 0.34259830392163254, 0.26037471098044074, 0.9029795223337291, 0.12430195132071951, 0.7768871957544969, 0.06215097566035976, 0.9150126038403312, 0.08970711802356189, 0.018211164722475335, 0.07284465888990134, 0.8377135772338654, 0.07284465888990134, 0.8454546729549689, 0.15097404874195872, 0.9811777160863056, 0.1508514719973861, 0.8380637333188118, 0.01852894711546018, 0.7967447259647877, 0.11117368269276108, 0.0926447355773009, 0.06940814054410534, 0.832897686529264, 0.9714737620357651, 0.3361031074915413, 0.6212815017267885, 0.030554827953776485, 0.010184942651258829, 0.20708516437654392, 0.14956150760528172, 0.19558043302229147, 0.4601892541700976, 0.9600266876467003, 0.9343257426950162, 0.976947365303571, 0.8424748222694634, 0.10870642867993076, 0.02717660716998269, 0.02717660716998269, 0.9960605098677784, 0.7548597336322406, 0.040259185793719496, 0.07045357513900913, 0.13084235382958836, 0.10718642668379438, 0.17864404447299065, 0.7145761778919626, 0.1710562409602642, 0.5921177571701454, 0.22368893048649935, 0.013158172381558786, 0.4873121824671519, 0.18517862933751772, 0.3313722840776633, 0.09477122421752399, 0.3384686579197285, 0.5280111063547765, 0.04061623895036742, 0.14805141736814198, 0.8389580317528046, 0.942376075432261, 0.04711880377161305, 0.04711880377161305, 0.8427362313559226, 0.12965172790091117, 0.9554020799850275, 0.9892429444225092, 0.9245682341437895, 0.04622841170718948, 0.9425541575620233, 0.9014026809203518, 0.015023378015339197, 0.04507013404601759, 0.04507013404601759, 0.9357605173935163, 0.41137510068947664, 0.039178581018045396, 0.5485001342526354, 0.9142144227095921, 0.9489508430857735, 0.6428846608103731, 0.32968444144121695, 0.016484222072060847, 0.9794230743582534, 0.9524991281739181, 0.21423832840017906, 0.17528590505469197, 0.6037625618550501, 0.9433696083382181, 0.9386792138843086, 0.9308059488722378, 0.012750766422907367, 0.05100306569162947, 0.9846898078802963, 0.9703138564284148, 0.07082480413398144, 0.6020108351388422, 0.16820890981820594, 0.15935580930145826, 0.9663920400504897, 0.8452628330504163, 0.15848678119695306, 0.05186986777065663, 0.9262476387617256, 0.022229943330281415, 0.6551725785394371, 0.25313485989023704, 0.08934171525537779, 0.2415700202593801, 0.5776674397506916, 0.16804870974565572, 0.9401234014563786, 0.9449846827583939, 0.9536107648591364, 0.6987948742996515, 0.2956439852806218, 0.9891688627299472, 0.9560236546437733, 0.8486580375345006, 0.14361905250583856, 0.6088833094822069, 0.3845578796729728, 0.8809144013957908, 0.07429252535591134, 0.2674530912812808, 0.1337265456406404, 0.5349061825625616, 0.2846162330296489, 0.4465530552706561, 0.21100858655646385, 0.05888611717854805, 0.38497102408043704, 0.6085025864497231, 0.9358112022488967, 0.051044247395394364, 0.948106966276027, 0.9853960358271878, 0.9290720680836043, 0.2957078657447033, 0.6933839610565457, 0.9717988052547456, 0.21611727105338585, 0.1496196491908056, 0.5153565694349971, 0.11637083825951546, 0.9423476935842743, 0.06282317957228495, 0.8697960730912588, 0.12954409599231514, 0.8529622585224035, 0.1466028881835381, 0.0091914440335222, 0.18842460268720512, 0.5790609741118986, 0.22519037882129392, 0.9769304305056055, 0.9359269425805461, 0.98499882728209, 0.28500801221595, 0.25334045530306665, 0.45390164908466113, 0.010555852304294445, 0.0847407836223114, 0.9321486198454254, 0.2930301096728253, 0.6014828566968519, 0.10795846145840932, 0.9021808497382265, 0.09021808497382265, 0.8706339336897455, 0.04389750926166784, 0.08779501852333568, 0.9286881265994343, 0.011608601582492929, 0.058043007912464646, 0.9684457918190781, 0.42737778932227394, 0.18785836893286764, 0.03287521456325184, 0.3522344417491268, 0.9381894767019902, 0.9510262481955118, 0.8993976509009424, 0.9039238306169488, 0.08654589867609085, 0.009616210964010094, 0.24784684607665927, 0.7435405382299778, 0.9720063442983423, 0.344508031590438, 0.3322041733193509, 0.2214694488795673, 0.09843086616869658, 0.3096769882245621, 0.010678516835329726, 0.6407110101197836, 0.042714067341318905, 0.9603812072489268, 0.9761785887873081, 0.9551582208740312, 0.9025434405101421, 0.07220347524081137, 0.7926908787662179, 0.20589373474447217, 0.7432100692896517, 0.08034703451780019, 0.040173517258900095, 0.14060731040615032, 0.9761040330910957, 0.6958859370828839, 0.1259222171864266, 0.046392395805525594, 0.1325497023015017, 0.906505514585692, 0.06373866899430647, 0.030688988775036445, 0.5837823403295802, 0.15921336554443097, 0.22861406334584958, 0.024494363929912454], \"Term\": [\"acceleration\", \"acronym\", \"actually\", \"actually\", \"actually\", \"address\", \"advertising\", \"advertising\", \"air\", \"aluminum\", \"archive\", \"archive\", \"archive\", \"article\", \"article\", \"article\", \"article\", \"astronomer\", \"available\", \"available\", \"available\", \"available\", \"bad\", \"balloon\", \"big\", \"big\", \"billboard\", \"bomb\", \"book\", \"book\", \"build\", \"build\", \"build\", \"burst\", \"camera\", \"cheap\", \"cheap\", \"cheap\", \"chlorine\", \"claim\", \"close\", \"close\", \"close\", \"close\", \"collect\", \"colony\", \"come\", \"come\", \"come\", \"come\", \"comet\", \"commercial\", \"commercial\", \"commercial\", \"commercial\", \"concept\", \"concept\", \"concept\", \"concept\", \"constant\", \"constellation\", \"convert\", \"copy\", \"cost\", \"cost\", \"cost\", \"database\", \"datum\", \"datum\", \"datum\", \"deliver\", \"density\", \"design\", \"design\", \"design\", \"design\", \"detailed\", \"detector\", \"determine\", \"development\", \"development\", \"distance\", \"document\", \"drag\", \"dream\", \"earth\", \"earth\", \"earth\", \"eat\", \"eat\", \"economy\", \"edge\", \"education\", \"email\", \"energy\", \"energy\", \"engine\", \"engine\", \"entire\", \"error\", \"error\", \"establish\", \"ether\", \"explosion\", \"exposure\", \"file\", \"film\", \"find\", \"find\", \"find\", \"find\", \"flight\", \"flight\", \"fluid\", \"fold\", \"follow\", \"follow\", \"follow\", \"follow\", \"food\", \"food\", \"format\", \"fuel\", \"fuel\", \"fuel\", \"galactic\", \"galactic\", \"gather\", \"get\", \"get\", \"get\", \"gif\", \"give\", \"give\", \"give\", \"give\", \"global\", \"go\", \"go\", \"go\", \"go\", \"good\", \"good\", \"good\", \"good\", \"government\", \"government\", \"government\", \"gp\", \"grb\", \"group\", \"group\", \"group\", \"guess\", \"happy\", \"hear\", \"hear\", \"high\", \"high\", \"high\", \"high\", \"iapetus\", \"idea\", \"idea\", \"idea\", \"idea\", \"image\", \"image\", \"image\", \"image\", \"include\", \"include\", \"include\", \"include\", \"individual\", \"individual\", \"information\", \"information\", \"information\", \"infrare\", \"instrument\", \"internet\", \"introduction\", \"kill\", \"kill\", \"kill\", \"know\", \"know\", \"know\", \"lander\", \"large\", \"large\", \"large\", \"large\", \"launch\", \"launch\", \"launch\", \"launch\", \"launcher\", \"level\", \"level\", \"level\", \"level\", \"lift\", \"list\", \"list\", \"list\", \"list\", \"little\", \"little\", \"little\", \"little\", \"long\", \"long\", \"long\", \"long\", \"look\", \"look\", \"look\", \"look\", \"low\", \"low\", \"low\", \"low\", \"lunar\", \"lunar\", \"lunar\", \"lunar\", \"mail\", \"manager\", \"mar\", \"mar\", \"market\", \"market\", \"mass\", \"material\", \"material\", \"material\", \"maybe\", \"maybe\", \"member\", \"member\", \"membership\", \"mercury\", \"meter\", \"meter\", \"mining\", \"mission\", \"mission\", \"mode\", \"momentum\", \"money\", \"money\", \"money\", \"monthly\", \"movie\", \"need\", \"need\", \"need\", \"need\", \"net\", \"new\", \"new\", \"new\", \"new\", \"newsletter\", \"night\", \"number\", \"number\", \"number\", \"number\", \"object\", \"object\", \"oil\", \"online\", \"option\", \"orbit\", \"orbit\", \"orbit\", \"orbit\", \"order\", \"order\", \"order\", \"oxygen\", \"ozone\", \"ozone\", \"ozone\", \"pay\", \"pay\", \"payload\", \"payload\", \"payload\", \"payload\", \"people\", \"people\", \"phone\", \"planet\", \"planet\", \"planetary\", \"planetary\", \"planetary\", \"planetary\", \"plate\", \"plate\", \"plutonium\", \"post\", \"post\", \"post\", \"post\", \"power\", \"power\", \"power\", \"power\", \"primarily\", \"privately\", \"prize\", \"probably\", \"probably\", \"probably\", \"probably\", \"probe\", \"problem\", \"problem\", \"problem\", \"problem\", \"product\", \"product\", \"product\", \"program\", \"program\", \"program\", \"program\", \"project\", \"project\", \"project\", \"provide\", \"provide\", \"provide\", \"provide\", \"public\", \"public\", \"publication\", \"publication\", \"publication\", \"publish\", \"publish\", \"pull\", \"race\", \"radar\", \"radar\", \"raise\", \"real\", \"real\", \"real\", \"real\", \"redesign\", \"reference\", \"reference\", \"reference\", \"region\", \"remote_sense\", \"report\", \"report\", \"report\", \"request\", \"response\", \"return\", \"return\", \"return\", \"revenue\", \"reward\", \"right\", \"right\", \"right\", \"rimsat\", \"ring\", \"rocket\", \"rocket\", \"rocket\", \"rocket\", \"rule\", \"russian\", \"russian\", \"satellite\", \"satellite\", \"satellite\", \"say\", \"say\", \"say\", \"send\", \"send\", \"send\", \"separation\", \"server\", \"shadow\", \"shuttle\", \"shuttle\", \"simulation\", \"soft\", \"software\", \"software\", \"solar\", \"solar\", \"solid\", \"source\", \"source\", \"source\", \"source\", \"space\", \"space\", \"space\", \"space\", \"spacecraft\", \"spacecraft\", \"spend\", \"spend\", \"spin\", \"stable\", \"star\", \"station\", \"station\", \"story\", \"study\", \"study\", \"study\", \"study\", \"stuff\", \"stuff\", \"sure\", \"sure\", \"surface\", \"surface\", \"system\", \"system\", \"system\", \"system\", \"talk\", \"taste\", \"tax\", \"technology\", \"technology\", \"technology\", \"technology\", \"temperature\", \"temperature\", \"test\", \"test\", \"test\", \"thermal\", \"thermal\", \"thing\", \"thing\", \"thing\", \"think\", \"think\", \"think\", \"thread\", \"time\", \"time\", \"time\", \"time\", \"ton\", \"tracking\", \"transmission\", \"try\", \"try\", \"try\", \"unit\", \"unit\", \"unlikely\", \"use\", \"use\", \"use\", \"use\", \"vehicle\", \"vehicle\", \"vehicle\", \"vehicle\", \"velocity\", \"version\", \"visible\", \"volume\", \"volume\", \"want\", \"want\", \"way\", \"way\", \"way\", \"way\", \"win\", \"work\", \"work\", \"work\", \"work\", \"write\", \"write\", \"write\", \"year\", \"year\", \"year\", \"year\"]}, \"R\": 30, \"lambda.step\": 0.01, \"plot.opts\": {\"xlab\": \"PC1\", \"ylab\": \"PC2\"}, \"topic.order\": [1, 2, 4, 3]};\n",
       "\n",
       "function LDAvis_load_lib(url, callback){\n",
       "  var s = document.createElement('script');\n",
       "  s.src = url;\n",
       "  s.async = true;\n",
       "  s.onreadystatechange = s.onload = callback;\n",
       "  s.onerror = function(){console.warn(\"failed to load library \" + url);};\n",
       "  document.getElementsByTagName(\"head\")[0].appendChild(s);\n",
       "}\n",
       "\n",
       "if(typeof(LDAvis) !== \"undefined\"){\n",
       "   // already loaded: just create the visualization\n",
       "   !function(LDAvis){\n",
       "       new LDAvis(\"#\" + \"ldavis_el3428031359406618723337047922\", ldavis_el3428031359406618723337047922_data);\n",
       "   }(LDAvis);\n",
       "}else if(typeof define === \"function\" && define.amd){\n",
       "   // require.js is available: use it to load d3/LDAvis\n",
       "   require.config({paths: {d3: \"https://d3js.org/d3.v5\"}});\n",
       "   require([\"d3\"], function(d3){\n",
       "      window.d3 = d3;\n",
       "      LDAvis_load_lib(\"https://cdn.jsdelivr.net/gh/bmabey/pyLDAvis@3.3.1/pyLDAvis/js/ldavis.v3.0.0.js\", function(){\n",
       "        new LDAvis(\"#\" + \"ldavis_el3428031359406618723337047922\", ldavis_el3428031359406618723337047922_data);\n",
       "      });\n",
       "    });\n",
       "}else{\n",
       "    // require.js not available: dynamically load d3 & LDAvis\n",
       "    LDAvis_load_lib(\"https://d3js.org/d3.v5.js\", function(){\n",
       "         LDAvis_load_lib(\"https://cdn.jsdelivr.net/gh/bmabey/pyLDAvis@3.3.1/pyLDAvis/js/ldavis.v3.0.0.js\", function(){\n",
       "                 new LDAvis(\"#\" + \"ldavis_el3428031359406618723337047922\", ldavis_el3428031359406618723337047922_data);\n",
       "            })\n",
       "         });\n",
       "}\n",
       "</script>"
      ],
      "text/plain": [
       "PreparedData(topic_coordinates=              x         y  topics  cluster       Freq\n",
       "topic                                                \n",
       "0     -0.204041  0.070126       1        1  36.089996\n",
       "1      0.065182  0.167141       2        1  25.759069\n",
       "3      0.181937 -0.046344       3        1  21.352726\n",
       "2     -0.043077 -0.190923       4        1  16.798208, topic_info=          Term        Freq       Total Category  logprob  loglift\n",
       "39       write  423.000000  423.000000  Default  30.0000  30.0000\n",
       "808      think  258.000000  258.000000  Default  29.0000  29.0000\n",
       "411  satellite  134.000000  134.000000  Default  28.0000  28.0000\n",
       "92      launch  224.000000  224.000000  Default  27.0000  27.0000\n",
       "109    mission  168.000000  168.000000  Default  26.0000  26.0000\n",
       "..         ...         ...         ...      ...      ...      ...\n",
       "148      space   35.793495  611.349529   Topic4  -5.3678  -1.0540\n",
       "612   material   19.042627   50.734398   Topic4  -5.9988   0.8040\n",
       "993      order   19.208535   72.971756   Topic4  -5.9902   0.4492\n",
       "780       work   19.952947  150.886797   Topic4  -5.9521  -0.2393\n",
       "12        know   19.757906  209.544469   Topic4  -5.9620  -0.5775\n",
       "\n",
       "[293 rows x 6 columns], token_table=      Topic      Freq          Term\n",
       "term                               \n",
       "1412      4  0.947797  acceleration\n",
       "2725      3  0.967476       acronym\n",
       "698       1  0.927142      actually\n",
       "698       2  0.015452      actually\n",
       "698       4  0.046357      actually\n",
       "...     ...       ...           ...\n",
       "39        4  0.030689         write\n",
       "198       1  0.583782          year\n",
       "198       2  0.159213          year\n",
       "198       3  0.228614          year\n",
       "198       4  0.024494          year\n",
       "\n",
       "[501 rows x 3 columns], R=30, lambda_step=0.01, plot_opts={'xlab': 'PC1', 'ylab': 'PC2'}, topic_order=[1, 2, 4, 3])"
      ]
     },
     "metadata": {},
     "output_type": "display_data"
    }
   ],
   "source": [
    "import pyLDAvis.gensim_models\n",
    "\n",
    "lda = create_model('lda')\n",
    "\n",
    "plot_model(lda, plot = 'topic_model')"
   ]
  },
  {
   "cell_type": "code",
   "execution_count": 29,
   "metadata": {},
   "outputs": [
    {
     "data": {
      "text/html": [
       "<div>\n",
       "<style scoped>\n",
       "    .dataframe tbody tr th:only-of-type {\n",
       "        vertical-align: middle;\n",
       "    }\n",
       "\n",
       "    .dataframe tbody tr th {\n",
       "        vertical-align: top;\n",
       "    }\n",
       "\n",
       "    .dataframe thead th {\n",
       "        text-align: right;\n",
       "    }\n",
       "</style>\n",
       "<table border=\"1\" class=\"dataframe\">\n",
       "  <thead>\n",
       "    <tr style=\"text-align: right;\">\n",
       "      <th></th>\n",
       "      <th>index</th>\n",
       "      <th>text</th>\n",
       "      <th>label</th>\n",
       "      <th>Topic_0</th>\n",
       "      <th>Topic_1</th>\n",
       "      <th>Topic_2</th>\n",
       "      <th>Topic_3</th>\n",
       "      <th>Dominant_Topic</th>\n",
       "      <th>Perc_Dominant_Topic</th>\n",
       "    </tr>\n",
       "  </thead>\n",
       "  <tbody>\n",
       "    <tr>\n",
       "      <th>0</th>\n",
       "      <td>4</td>\n",
       "      <td>pack rat write clear caution warn memory verif...</td>\n",
       "      <td>14</td>\n",
       "      <td>0.257867</td>\n",
       "      <td>0.047192</td>\n",
       "      <td>0.692873</td>\n",
       "      <td>0.002068</td>\n",
       "      <td>Topic 2</td>\n",
       "      <td>0.69</td>\n",
       "    </tr>\n",
       "    <tr>\n",
       "      <th>1</th>\n",
       "      <td>13</td>\n",
       "      <td>write description option report warmly receive...</td>\n",
       "      <td>14</td>\n",
       "      <td>0.094410</td>\n",
       "      <td>0.559029</td>\n",
       "      <td>0.000636</td>\n",
       "      <td>0.345925</td>\n",
       "      <td>Topic 1</td>\n",
       "      <td>0.56</td>\n",
       "    </tr>\n",
       "    <tr>\n",
       "      <th>2</th>\n",
       "      <td>49</td>\n",
       "      <td>sez oddly call year age flight granite year re...</td>\n",
       "      <td>14</td>\n",
       "      <td>0.229002</td>\n",
       "      <td>0.005109</td>\n",
       "      <td>0.003742</td>\n",
       "      <td>0.762147</td>\n",
       "      <td>Topic 3</td>\n",
       "      <td>0.76</td>\n",
       "    </tr>\n",
       "    <tr>\n",
       "      <th>3</th>\n",
       "      <td>59</td>\n",
       "      <td>archive space upcoming planetary probe mission...</td>\n",
       "      <td>14</td>\n",
       "      <td>0.001723</td>\n",
       "      <td>0.000396</td>\n",
       "      <td>0.082611</td>\n",
       "      <td>0.915271</td>\n",
       "      <td>Topic 3</td>\n",
       "      <td>0.92</td>\n",
       "    </tr>\n",
       "    <tr>\n",
       "      <th>4</th>\n",
       "      <td>119</td>\n",
       "      <td>write atmosphere start freeze increase area pe...</td>\n",
       "      <td>14</td>\n",
       "      <td>0.782377</td>\n",
       "      <td>0.009546</td>\n",
       "      <td>0.006954</td>\n",
       "      <td>0.201123</td>\n",
       "      <td>Topic 0</td>\n",
       "      <td>0.78</td>\n",
       "    </tr>\n",
       "  </tbody>\n",
       "</table>\n",
       "</div>"
      ],
      "text/plain": [
       "   index                                               text  label   Topic_0  \\\n",
       "0      4  pack rat write clear caution warn memory verif...     14  0.257867   \n",
       "1     13  write description option report warmly receive...     14  0.094410   \n",
       "2     49  sez oddly call year age flight granite year re...     14  0.229002   \n",
       "3     59  archive space upcoming planetary probe mission...     14  0.001723   \n",
       "4    119  write atmosphere start freeze increase area pe...     14  0.782377   \n",
       "\n",
       "    Topic_1   Topic_2   Topic_3 Dominant_Topic  Perc_Dominant_Topic  \n",
       "0  0.047192  0.692873  0.002068        Topic 2                 0.69  \n",
       "1  0.559029  0.000636  0.345925        Topic 1                 0.56  \n",
       "2  0.005109  0.003742  0.762147        Topic 3                 0.76  \n",
       "3  0.000396  0.082611  0.915271        Topic 3                 0.92  \n",
       "4  0.009546  0.006954  0.201123        Topic 0                 0.78  "
      ]
     },
     "execution_count": 29,
     "metadata": {},
     "output_type": "execute_result"
    }
   ],
   "source": [
    "# Dominant topic for each text\n",
    "lda_results = assign_model(lda)\n",
    "\n",
    "lda_results.head()"
   ]
  },
  {
   "cell_type": "markdown",
   "metadata": {},
   "source": [
    "One way to determine the number of topics we should use is with coherence scores.\n",
    "We can do this with gensim for the LDA model from pycaret, since it is a gensim\n",
    "model. First, we need to import the CoherenceModel from gensim, instantiate a new\n",
    "instance of it using our model, the LDA model's lookup dictionary for words\n",
    "(lda.id2word), and our tokenized text:"
   ]
  },
  {
   "cell_type": "code",
   "execution_count": 30,
   "metadata": {},
   "outputs": [
    {
     "data": {
      "text/plain": [
       "0.4019992044208918"
      ]
     },
     "execution_count": 30,
     "metadata": {},
     "output_type": "execute_result"
    }
   ],
   "source": [
    "from gensim.models import CoherenceModel\n",
    "\n",
    "\n",
    "cm = CoherenceModel(model=lda,\n",
    "                    texts=lda_results['text'].map(str.split).tolist(),\n",
    "                    dictionary=lda.id2word,\n",
    "                    )\n",
    "\n",
    "\n",
    "cm.get_coherence()"
   ]
  },
  {
   "cell_type": "markdown",
   "metadata": {},
   "source": [
    "Then we use the get_coherence() method to get the coherence score, where a higher\n",
    "value is better. This measures how similar documents are in a given topic, and there\n",
    "are a few methods for calculating it. We can loop through several values for the\n",
    "number of topics and examine the coherence scores:"
   ]
  },
  {
   "cell_type": "code",
   "execution_count": 31,
   "metadata": {},
   "outputs": [
    {
     "data": {
      "text/plain": [
       "Text(0, 0.5, 'Coherence Score')"
      ]
     },
     "execution_count": 31,
     "metadata": {},
     "output_type": "execute_result"
    },
    {
     "data": {
      "image/png": "[encoded data removed]",
      "text/plain": [
       "<Figure size 432x288 with 1 Axes>"
      ]
     },
     "metadata": {
      "needs_background": "light"
     },
     "output_type": "display_data"
    }
   ],
   "source": [
    "coherences = []\n",
    "\n",
    "\n",
    "for num_topics in range(2, 16):\n",
    "    lda = create_model('lda', num_topics=num_topics)\n",
    "    lda_results = assign_model(lda)\n",
    "    cm = CoherenceModel(model=lda,\n",
    "                        texts=lda_results['text'].map(str.split).tolist(),\n",
    "                        dictionary=lda.id2word,\n",
    "                        )\n",
    "    coherences.append(cm.get_coherence())\n",
    "    \n",
    "    \n",
    "#   Plot Coherences\n",
    "plt.plot(range(2, 16), coherences)\n",
    "plt.xlabel('Number of LDA Topics')\n",
    "plt.ylabel('Coherence Score')\n",
    " "
   ]
  },
  {
   "cell_type": "markdown",
   "metadata": {},
   "source": [
    "`We can see there are local maximums at 4, 5, and 12 topics, with 3 as the global\n",
    "maximum. However, we may want to explore even larger numbers of topics to make\n",
    "sure the coherence scores don't continue to increase. Sometimes metrics for topic\n",
    "models can continue increasing as we increase the number of topics, and it helps\n",
    "to pick a local maximum or \"elbow\" from plot such as 3 in the coherence plot above.`"
   ]
  },
  {
   "cell_type": "markdown",
   "metadata": {},
   "source": [
    "## Text Classification\n",
    "\n",
    "Classification is often used with text. For example, bank transactions can be\n",
    "categorized for automatic budgeting. We can also categorize social media posts\n",
    "for a number of purposes, like flagging offensive content. Another example is\n",
    "categorizing emails as spam or not spam. Many machine learning algorithms can\n",
    "be used for this, with some of the highest performing algorithms being neural\n",
    "networks. However, properly using neural networks with text is difficult, and there\n",
    "are entire books dedicated to it (such as Deep Learning for Natural Language Processing\n",
    "by Karthiek Reddy Bokka, Shubhangi Hora, Tanuj Jain, and Monicah Wambugu\n",
    "from Packt). We can also use the simpler algorithms we learned before, like logistic\n",
    "regression, Naïve Bayes, and KNN."
   ]
  },
  {
   "cell_type": "code",
   "execution_count": 33,
   "metadata": {},
   "outputs": [
    {
     "data": {
      "application/vnd.jupyter.widget-view+json": {
       "model_id": "aecff08210d44dedb424b34eaf171aa5",
       "version_major": 2,
       "version_minor": 0
      },
      "text/plain": [
       "Pandas Apply:   0%|          | 0/11314 [00:00<?, ?it/s]"
      ]
     },
     "metadata": {},
     "output_type": "display_data"
    },
    {
     "data": {
      "application/vnd.jupyter.widget-view+json": {
       "model_id": "73f180a27f864b8694b309bd9511eec2",
       "version_major": 2,
       "version_minor": 0
      },
      "text/plain": [
       "Pandas Apply:   0%|          | 0/7532 [00:00<?, ?it/s]"
      ]
     },
     "metadata": {},
     "output_type": "display_data"
    }
   ],
   "source": [
    "# First, we load the train and test sets from the 20 newsgroups dataset.\n",
    "newsgroups_train = fetch_20newsgroups(remove=('headers', 'footers'))\n",
    "\n",
    "newsgroups_test = fetch_20newsgroups(subset='test', remove=('headers', 'footers'))\n",
    "\n",
    "\n",
    "en_large = spacy.load('en_core_web_lg', disable=['parser', 'ner'])\n",
    "\n",
    "\n",
    "# create a function to get the document vectors using the large English model from spaCy\n",
    "\n",
    "def get_document_vectors(text):\n",
    "    processed = en_large(text)\n",
    "    return processed.vector\n",
    "\n",
    "\n",
    "# create DataFrames from the newsgroups data using the text from each post and\n",
    "# its label\n",
    "ng_train_df = pd.DataFrame({'text': newsgroups_train['data'],\n",
    "                            'label': newsgroups_train['target']})\n",
    "\n",
    "\n",
    "# We then apply the get_document_vectors function to our text in parallel with swifter\n",
    "ng_train_doc_vectors = pd.DataFrame(\n",
    "                                    np.vstack(ng_train_df['text'].swifter.apply(get_document_vectors).tolist())\n",
    "                                )\n",
    "\n",
    "\n",
    "ng_test_df = pd.DataFrame({'text': newsgroups_test['data'],\n",
    "                            'label': newsgroups_test['target']})\n",
    "\n",
    "\n",
    "ng_test_doc_vectors = pd.DataFrame(\n",
    "                                    np.vstack(ng_test_df['text'].swifter.apply(get_document_vectors).tolist())\n",
    "                                    )\n",
    "\n",
    "# create a single pandas DataFrame with our vectors and labels\n",
    "ng_train_vector_df = pd.concat([ng_train_df['label'].astype('category'), ng_train_doc_vectors], axis=1)\n",
    "\n",
    "ng_test_vector_df = pd.concat([ng_test_df['label'].astype('category'), ng_test_doc_vectors], axis=1)"
   ]
  },
  {
   "cell_type": "code",
   "execution_count": 34,
   "metadata": {},
   "outputs": [],
   "source": [
    "# Create TFIDF Features\n",
    "\n",
    "vectorizer = TfidfVectorizer(min_df=10, max_df=0.9)\n",
    "\n",
    "train_tfidf = vectorizer.fit_transform(newsgroups_train['data'])\n",
    "\n",
    "test_tfidf = vectorizer.transform(newsgroups_test['data'])\n",
    "\n",
    "train_tfidf_df = pd.DataFrame(train_tfidf.todense())\n",
    "\n",
    "test_tfidf_df = pd.DataFrame(test_tfidf.todense())\n",
    "\n",
    "train_tfidf_df['label'] = pd.Series(newsgroups_train['target']).astype('category')\n",
    "\n",
    "test_tfidf_df['label'] = pd.Series(newsgroups_test['target']).astype('category')"
   ]
  },
  {
   "cell_type": "markdown",
   "metadata": {},
   "source": [
    "First, we initialize our TFIDF vectorizer with some limitations to decrease the\n",
    "number of words in the vocabulary (using the min and max document frequencies,\n",
    "min_df and max_df). Then we use it to fit and transform the training data and to\n",
    "transform the test data. This makes sure we use the same vocabulary on the train and\n",
    "test sets, which means we have the same number of features in train and test sets.\n",
    "If there are new words in the test set, they will not be included in our features since\n",
    "they were not in the original vocabulary. This is one disadvantage of TFIDF over\n",
    "word vectors. Another disadvantage is the size of the features.\n",
    "\n",
    "\n",
    "The shape of the TFIDF training set is (11314, 13269) compared with (11314, 300)\n",
    "for the word vectors. Fewer features that can capture roughly the same information\n",
    "are generally better, and many of the entries in the TFIDF matrix are zeros.\n",
    "Performance-wise (especially for computational runtime), it can be better to go with\n",
    "word or document vectors compared with TFIDF.\n",
    "\n",
    "\n",
    "Next, we create DataFrames from the TFIDF vectors by converting the sparse\n",
    "numpy arrays to dense ones. Then we add the label column, again converting it\n",
    "to a category datatype. Now we can try out some machine learning. We'll stick\n",
    "with a simple logistic regression model here,"
   ]
  },
  {
   "cell_type": "code",
   "execution_count": 35,
   "metadata": {},
   "outputs": [
    {
     "data": {
      "text/plain": [
       "0.6882634094530006"
      ]
     },
     "execution_count": 35,
     "metadata": {},
     "output_type": "execute_result"
    }
   ],
   "source": [
    "from sklearn.linear_model import LogisticRegression\n",
    "\n",
    "lr = LogisticRegression()\n",
    "\n",
    "# Train the lr model on the test set\n",
    "lr.fit(ng_train_vector_df.drop('label', axis=1), ng_train_vector_df['label'])\n",
    "\n",
    "# Test the model on the Test set\n",
    "lr.score(ng_test_vector_df.drop('label', axis=1), ng_test_vector_df['label'])"
   ]
  },
  {
   "cell_type": "markdown",
   "metadata": {},
   "source": [
    "We simply fit the logistic regression model to our docment vectors and evaluate\n",
    "the accuracy score on the train set, which is around 76%. We can also evaluate the\n",
    "accuracy on the test set, which turns out to be near 69%. This is not bad given the\n",
    "no information rate is about 5% since each class represents around 5% of the data."
   ]
  },
  {
   "cell_type": "code",
   "execution_count": 36,
   "metadata": {},
   "outputs": [
    {
     "data": {
      "text/plain": [
       "0.7683218268720128"
      ]
     },
     "execution_count": 36,
     "metadata": {},
     "output_type": "execute_result"
    }
   ],
   "source": [
    "# Building the lr model on the TFIDF Vectors\n",
    "\n",
    "lr = LogisticRegression()\n",
    "\n",
    "lr.fit(train_tfidf_df.drop('label', axis=1), train_tfidf_df['label'])\n",
    "\n",
    "lr.score(test_tfidf_df.drop('label', axis=1), test_tfidf_df['label'])"
   ]
  },
  {
   "cell_type": "markdown",
   "metadata": {},
   "source": [
    "This shows more overfitting, since the training score is much higher than the test\n",
    "score. However, we do see a higher test accuracy than the document vector features.\n",
    "But, it might not be worth using more than 40 times the number of features for\n",
    "this performance gain – we would need to weigh the pros and cons of using more\n",
    "computational power or runtime with higher accuracy. We could also use larger\n",
    "word vectors and optimize the models to come to a more complete conclusion.\n",
    "When evaluating classification performance on text, it can also be helpful to look\n",
    "at precision, recall, and the F1 score."
   ]
  },
  {
   "cell_type": "markdown",
   "metadata": {},
   "source": [
    "## Sentiment Analysis\n",
    "\n",
    "This is the\n",
    "measurement of the positive or negative sentiment of text. There are similar analyses\n",
    "that can be done to measure the emotion of text. The way this works is similar to\n",
    "the last section – we create features from our text, then train a classifier to predict\n",
    "either sentiment, emotions, or some other class from a list of labels. With sentiment\n",
    "analysis, we can train a regressor to predict the sentiment if we label our text with\n",
    "values such as -5 ranging to +5, or we can train a classifier to simply predict positive,\n",
    "neutral, or negative.\n",
    "\n",
    "\n",
    "Another method for determining sentiment of text are rule-based algorithms. These\n",
    "can use lookup dictionaries where words have a sentiment score, and the sentiment\n",
    "score for a text is added up and averaged to get the overall sentiment. Negation rules\n",
    "can be applied, such as the word \"not\" before another word flips its value.\n",
    "\n",
    "\n",
    "There are a few packages in Python for determining sentiment:\n",
    "- NLTK (uses a trained Naïve Bayes classifier)\n",
    "- Textblob (can also be used through spaCy; uses a lookup dictionary with rules)\n",
    "- VADER (uses a rule-based system, designed for social media)\n",
    "\n",
    "\n",
    "Of course, we can also train our own classifier for sentiment based on a variety\n",
    "of free public datasets. There are also several cloud services and APIs that allow\n",
    "us to send text and get back a sentiment score."
   ]
  },
  {
   "cell_type": "code",
   "execution_count": 37,
   "metadata": {},
   "outputs": [
    {
     "data": {
      "application/vnd.jupyter.widget-view+json": {
       "model_id": "cebabf49b0bf45979b1c65a86e649719",
       "version_major": 2,
       "version_minor": 0
      },
      "text/plain": [
       "Pandas Apply:   0%|          | 0/11314 [00:00<?, ?it/s]"
      ]
     },
     "metadata": {},
     "output_type": "display_data"
    }
   ],
   "source": [
    "from vaderSentiment.vaderSentiment import SentimentIntensityAnalyzer\n",
    "\n",
    "\n",
    "vader = SentimentIntensityAnalyzer()\n",
    "\n",
    "def get_sentiment(text):\n",
    "    return vader.polarity_scores(text.lower())['compound']\n",
    "\n",
    "\n",
    "ng_train_df['sentiment_score'] = ng_train_df['text'].swifter.apply(get_sentiment)"
   ]
  },
  {
   "cell_type": "markdown",
   "metadata": {},
   "source": [
    "First, we import the sentiment analyzer from vaderSentiment and initialize it\n",
    "with default settings (no arguments). Then, in our function get_sentiment, we\n",
    "lowercase the text and apply the vaderSentiment polarity_scores function to the\n",
    "text. This applies the lookup dictionary (the lexicon) and the rules, then returns a\n",
    "dictionary with negative, neutral, positive, and compound scores. The compound\n",
    "score is the overall sentiment of the text ranging from -1 (negative) to +1 (positive),\n",
    "which we use here. Then we simply apply this get_sentiment function to the text\n",
    "in our DataFrame. It's important to lowercase the text as we did here, as the text\n",
    "in the lexicon is all lowercase. The vaderSentiment analyzer also handles emojis.\n",
    "The lexicons are easily viewable on the GitHub repository: https://github.com/cjhutto/vaderSentiment/blob/master/vaderSentiment/vader_lexicon.txt. We can\n",
    "see from the lexicon it looks like most words are not lemmatized, so we probably\n",
    "don't want to carry out lemmatization. We also don't need to worry about removing\n",
    "punctuation or stop words, since anything not in the lexicon is ignored by the\n",
    "algorithm."
   ]
  },
  {
   "cell_type": "code",
   "execution_count": 38,
   "metadata": {},
   "outputs": [
    {
     "data": {
      "text/html": [
       "<div>\n",
       "<style scoped>\n",
       "    .dataframe tbody tr th:only-of-type {\n",
       "        vertical-align: middle;\n",
       "    }\n",
       "\n",
       "    .dataframe tbody tr th {\n",
       "        vertical-align: top;\n",
       "    }\n",
       "\n",
       "    .dataframe thead th {\n",
       "        text-align: right;\n",
       "    }\n",
       "</style>\n",
       "<table border=\"1\" class=\"dataframe\">\n",
       "  <thead>\n",
       "    <tr style=\"text-align: right;\">\n",
       "      <th></th>\n",
       "      <th>sentiment_score</th>\n",
       "    </tr>\n",
       "    <tr>\n",
       "      <th>label</th>\n",
       "      <th></th>\n",
       "    </tr>\n",
       "  </thead>\n",
       "  <tbody>\n",
       "    <tr>\n",
       "      <th>comp.graphics</th>\n",
       "      <td>0.547356</td>\n",
       "    </tr>\n",
       "    <tr>\n",
       "      <th>misc.forsale</th>\n",
       "      <td>0.493030</td>\n",
       "    </tr>\n",
       "    <tr>\n",
       "      <th>rec.sport.hockey</th>\n",
       "      <td>0.470409</td>\n",
       "    </tr>\n",
       "    <tr>\n",
       "      <th>rec.sport.baseball</th>\n",
       "      <td>0.469508</td>\n",
       "    </tr>\n",
       "    <tr>\n",
       "      <th>sci.electronics</th>\n",
       "      <td>0.431782</td>\n",
       "    </tr>\n",
       "    <tr>\n",
       "      <th>comp.sys.ibm.pc.hardware</th>\n",
       "      <td>0.430881</td>\n",
       "    </tr>\n",
       "    <tr>\n",
       "      <th>sci.space</th>\n",
       "      <td>0.424613</td>\n",
       "    </tr>\n",
       "    <tr>\n",
       "      <th>soc.religion.christian</th>\n",
       "      <td>0.395767</td>\n",
       "    </tr>\n",
       "    <tr>\n",
       "      <th>comp.os.ms-windows.misc</th>\n",
       "      <td>0.394298</td>\n",
       "    </tr>\n",
       "    <tr>\n",
       "      <th>comp.sys.mac.hardware</th>\n",
       "      <td>0.377526</td>\n",
       "    </tr>\n",
       "    <tr>\n",
       "      <th>comp.windows.x</th>\n",
       "      <td>0.373962</td>\n",
       "    </tr>\n",
       "    <tr>\n",
       "      <th>sci.crypt</th>\n",
       "      <td>0.353488</td>\n",
       "    </tr>\n",
       "    <tr>\n",
       "      <th>rec.autos</th>\n",
       "      <td>0.338401</td>\n",
       "    </tr>\n",
       "    <tr>\n",
       "      <th>rec.motorcycles</th>\n",
       "      <td>0.295666</td>\n",
       "    </tr>\n",
       "    <tr>\n",
       "      <th>sci.med</th>\n",
       "      <td>0.183302</td>\n",
       "    </tr>\n",
       "    <tr>\n",
       "      <th>talk.religion.misc</th>\n",
       "      <td>0.178544</td>\n",
       "    </tr>\n",
       "    <tr>\n",
       "      <th>alt.atheism</th>\n",
       "      <td>0.125859</td>\n",
       "    </tr>\n",
       "    <tr>\n",
       "      <th>talk.politics.misc</th>\n",
       "      <td>0.104019</td>\n",
       "    </tr>\n",
       "    <tr>\n",
       "      <th>talk.politics.mideast</th>\n",
       "      <td>-0.253308</td>\n",
       "    </tr>\n",
       "    <tr>\n",
       "      <th>talk.politics.guns</th>\n",
       "      <td>-0.308504</td>\n",
       "    </tr>\n",
       "  </tbody>\n",
       "</table>\n",
       "</div>"
      ],
      "text/plain": [
       "                          sentiment_score\n",
       "label                                    \n",
       "comp.graphics                    0.547356\n",
       "misc.forsale                     0.493030\n",
       "rec.sport.hockey                 0.470409\n",
       "rec.sport.baseball               0.469508\n",
       "sci.electronics                  0.431782\n",
       "comp.sys.ibm.pc.hardware         0.430881\n",
       "sci.space                        0.424613\n",
       "soc.religion.christian           0.395767\n",
       "comp.os.ms-windows.misc          0.394298\n",
       "comp.sys.mac.hardware            0.377526\n",
       "comp.windows.x                   0.373962\n",
       "sci.crypt                        0.353488\n",
       "rec.autos                        0.338401\n",
       "rec.motorcycles                  0.295666\n",
       "sci.med                          0.183302\n",
       "talk.religion.misc               0.178544\n",
       "alt.atheism                      0.125859\n",
       "talk.politics.misc               0.104019\n",
       "talk.politics.mideast           -0.253308\n",
       "talk.politics.guns              -0.308504"
      ]
     },
     "execution_count": 38,
     "metadata": {},
     "output_type": "execute_result"
    }
   ],
   "source": [
    "# results of sentiment analysis\n",
    "\n",
    "label_dict = {i: label for i, label in enumerate(newsgroups_train['target_names'])}\n",
    "\n",
    "ng_train_df['label'].replace(label_dict, inplace=True)\n",
    "\n",
    "\n",
    "# Now view the average sentiment score for each category\n",
    "\n",
    "ng_train_df.groupby('label').mean().sort_values(by='sentiment_score', ascending=False)"
   ]
  },
  {
   "cell_type": "markdown",
   "metadata": {},
   "source": [
    "We can see newsgroups related to electronics, sports, and some others have\n",
    "relatively high average sentiments, while the guns and Mideast forums are quite\n",
    "negative. We can examine a few random posts from these to see what makes them so\n",
    "positive or negative by filtering our DataFrame to get very positive or negative posts.\n",
    "We can do this with:"
   ]
  },
  {
   "cell_type": "code",
   "execution_count": 40,
   "metadata": {},
   "outputs": [
    {
     "data": {
      "text/plain": [
       "['I was shocked to see that the subject of my last rely to awesley was\\n\"Luser!\"  That was certainly not my intention.  I meant to leave the\\nsubject line unchanged.  I believe that the NNTP server I use at columbia\\nmust have put in that subject line in protest over problems with my header.\\n That was rather rude of them, but beggars can\\'t be choosers, I suppose.\\n\\nIn any case, I didn\\'t do it and I apologize to awesley for the apparent\\ninsult.',\n",
       " \"In article <C4tM1H.ECF@magpie.linknet.com>, manes@magpie.linknet.com (Steve Manes) writes:\\n>\\n>For chrissakes, take out your calculator and work out the numbers.\\n>Here... I've preformatted them for you to make it easier:\\n>\\n>\\t\\t\\thandgun homicides/population\\n>\\t\\t\\t----------------------------\\n>\\tSwitzerland :\\t24 /  6,350,000\\n>\\t         UK :    8 / 55,670,000\\n>\\n>.... and then tell me again how Switzerland is safer with a more\\n>liberal handgun law than the UK is without...by RATE or TOTAL NUMBER.\\n>Your choice.\\n\\nPlease, PAY ATTENTION.\\nI, and others, were referring to TOTAL HOMICIDE DEATHS, NOT JUST\\nHANDGUN HOMICIDES.  In terms of how likely are you to be killed,\\n(regardless of how it's done, 'cause DEAD is DEAD), the UK has a\\nhigher homicide rate. Period.  You are more likely to be killed in the\\nUK than in Switzerland.  If you were to be murdered with a handgun,\\nthen yes, Switzerland has a higher rate.  But, to belabor the point,\\nyou are MORE LIKELY to be murdered in the UK. In that sense, the\\nweapon is irrelevant.  The UK is more violent, period.\\n\\nAl\\n[standard disclaimer]\"]"
      ]
     },
     "execution_count": 40,
     "metadata": {},
     "output_type": "execute_result"
    }
   ],
   "source": [
    "ng_train_df[(ng_train_df['label'] == 'talk.politics.guns') & (ng_train_df['sentiment_score'] < -0.5)].sample(2, random_state=42)['text'].tolist()"
   ]
  },
  {
   "cell_type": "markdown",
   "metadata": {},
   "source": [
    "to easily look at a few of the posts, and remove.tolist() if we want to see the\n",
    "sentiment scores as well. We can see in the guns forum the words \"kill\" and \"ban\"\n",
    "come up frequently, and many of the posts are indeed negative. In the computer\n",
    "graphics forum, many of the posts are questions and use words like \"good\" and\n",
    "\"easy,\" which result in positive sentiment scores. However, this may be a bit of a\n",
    "misclassification since these words aren't being used to construe positive sentiment\n",
    "(for example, the sentence \"Is it good?\" comes out as highly sentiment positive). So,\n",
    "when using sentiment analysis, it's a good idea to check some of the positive and\n",
    "negative text examples and check that they make sense."
   ]
  },
  {
   "cell_type": "code",
   "execution_count": 45,
   "metadata": {},
   "outputs": [
    {
     "data": {
      "text/plain": [
       "<AxesSubplot:xlabel='sentiment_score', ylabel='Count'>"
      ]
     },
     "execution_count": 45,
     "metadata": {},
     "output_type": "execute_result"
    },
    {
     "data": {
      "image/png": "[encoded data removed]",
      "text/plain": [
       "<Figure size 432x288 with 1 Axes>"
      ]
     },
     "metadata": {
      "needs_background": "light"
     },
     "output_type": "display_data"
    }
   ],
   "source": [
    "# Distribution of sentiments\n",
    "\n",
    "import seaborn as sns\n",
    "\n",
    "\n",
    "guns_hockey_df = ng_train_df.loc[ng_train_df['label'].isin(['talk.politics.guns', 'rec.sport.hockey'])]\n",
    "\n",
    "sns.histplot(guns_hockey_df, x='sentiment_score', hue='label')"
   ]
  },
  {
   "cell_type": "markdown",
   "metadata": {},
   "source": [
    "In this case, it seems there are lots of -1 scores for the guns forum and +1 scores\n",
    "for the hockey forum. In the textblob package (another package we can use for\n",
    "sentiment analysis, similar to the vaderSentiment package), we will often see many\n",
    "neutral posts with a score of 0. Looking at the distribution of sentiments like this can\n",
    "be helpful for understanding the performance of our sentiment analysis."
   ]
  }
 ],
 "metadata": {
  "colab": {
   "collapsed_sections": [],
   "name": "Working with Text.ipynb",
   "provenance": []
  },
  "kernelspec": {
   "display_name": "Python 3.8.0 ('.chapter_18': venv)",
   "language": "python",
   "name": "python3"
  },
  "language_info": {
   "codemirror_mode": {
    "name": "ipython",
    "version": 3
   },
   "file_extension": ".py",
   "mimetype": "text/x-python",
   "name": "python",
   "nbconvert_exporter": "python",
   "pygments_lexer": "ipython3",
   "version": "3.8.0"
  },
  "vscode": {
   "interpreter": {
    "hash": "8f59a2df9ea88b53b25a7598540d3525d72229899a202c24481a730ff987e924"
   }
  },
  "widgets": {
   "application/vnd.jupyter.widget-state+json": {
    "038f5647baed4b48908c9905a52b0dea": {
     "model_module": "@jupyter-widgets/controls",
     "model_module_version": "1.5.0",
     "model_name": "ProgressStyleModel",
     "state": {
      "_model_module": "@jupyter-widgets/controls",
      "_model_module_version": "1.5.0",
      "_model_name": "ProgressStyleModel",
      "_view_count": null,
      "_view_module": "@jupyter-widgets/base",
      "_view_module_version": "1.2.0",
      "_view_name": "StyleView",
      "bar_color": null,
      "description_width": ""
     }
    },
    "1de8fc1d66754f39a6a6ff47c10d42b3": {
     "model_module": "@jupyter-widgets/controls",
     "model_module_version": "1.5.0",
     "model_name": "DescriptionStyleModel",
     "state": {
      "_model_module": "@jupyter-widgets/controls",
      "_model_module_version": "1.5.0",
      "_model_name": "DescriptionStyleModel",
      "_view_count": null,
      "_view_module": "@jupyter-widgets/base",
      "_view_module_version": "1.2.0",
      "_view_name": "StyleView",
      "description_width": ""
     }
    },
    "3446892557a74511a274b3d7f195ebea": {
     "model_module": "@jupyter-widgets/controls",
     "model_module_version": "1.5.0",
     "model_name": "HBoxModel",
     "state": {
      "_dom_classes": [],
      "_model_module": "@jupyter-widgets/controls",
      "_model_module_version": "1.5.0",
      "_model_name": "HBoxModel",
      "_view_count": null,
      "_view_module": "@jupyter-widgets/controls",
      "_view_module_version": "1.5.0",
      "_view_name": "HBoxView",
      "box_style": "",
      "children": [
       "IPY_MODEL_7370935da150454cace9389834a4b979",
       "IPY_MODEL_e38e4f9d1cce44a3881b16418dbc3fcb",
       "IPY_MODEL_5409945b4fa64de78e6b0d7a541d1459"
      ],
      "layout": "IPY_MODEL_f2c6c7bc6e2541108f63c67813b5a771"
     }
    },
    "5409945b4fa64de78e6b0d7a541d1459": {
     "model_module": "@jupyter-widgets/controls",
     "model_module_version": "1.5.0",
     "model_name": "HTMLModel",
     "state": {
      "_dom_classes": [],
      "_model_module": "@jupyter-widgets/controls",
      "_model_module_version": "1.5.0",
      "_model_name": "HTMLModel",
      "_view_count": null,
      "_view_module": "@jupyter-widgets/controls",
      "_view_module_version": "1.5.0",
      "_view_name": "HTMLView",
      "description": "",
      "description_tooltip": null,
      "layout": "IPY_MODEL_d88c14b99db94e478b18df683f98865e",
      "placeholder": "​",
      "style": "IPY_MODEL_1de8fc1d66754f39a6a6ff47c10d42b3",
      "value": " 11314/11314 [03:08&lt;00:00, 68.10it/s]"
     }
    },
    "5f325e41b03249bba2af94d619a569dc": {
     "model_module": "@jupyter-widgets/base",
     "model_module_version": "1.2.0",
     "model_name": "LayoutModel",
     "state": {
      "_model_module": "@jupyter-widgets/base",
      "_model_module_version": "1.2.0",
      "_model_name": "LayoutModel",
      "_view_count": null,
      "_view_module": "@jupyter-widgets/base",
      "_view_module_version": "1.2.0",
      "_view_name": "LayoutView",
      "align_content": null,
      "align_items": null,
      "align_self": null,
      "border": null,
      "bottom": null,
      "display": null,
      "flex": null,
      "flex_flow": null,
      "grid_area": null,
      "grid_auto_columns": null,
      "grid_auto_flow": null,
      "grid_auto_rows": null,
      "grid_column": null,
      "grid_gap": null,
      "grid_row": null,
      "grid_template_areas": null,
      "grid_template_columns": null,
      "grid_template_rows": null,
      "height": null,
      "justify_content": null,
      "justify_items": null,
      "left": null,
      "margin": null,
      "max_height": null,
      "max_width": null,
      "min_height": null,
      "min_width": null,
      "object_fit": null,
      "object_position": null,
      "order": null,
      "overflow": null,
      "overflow_x": null,
      "overflow_y": null,
      "padding": null,
      "right": null,
      "top": null,
      "visibility": null,
      "width": null
     }
    },
    "7370935da150454cace9389834a4b979": {
     "model_module": "@jupyter-widgets/controls",
     "model_module_version": "1.5.0",
     "model_name": "HTMLModel",
     "state": {
      "_dom_classes": [],
      "_model_module": "@jupyter-widgets/controls",
      "_model_module_version": "1.5.0",
      "_model_name": "HTMLModel",
      "_view_count": null,
      "_view_module": "@jupyter-widgets/controls",
      "_view_module_version": "1.5.0",
      "_view_name": "HTMLView",
      "description": "",
      "description_tooltip": null,
      "layout": "IPY_MODEL_5f325e41b03249bba2af94d619a569dc",
      "placeholder": "​",
      "style": "IPY_MODEL_c8f582670c7c46cea0894a9e27e66d62",
      "value": "Pandas Apply: 100%"
     }
    },
    "a8aa17acc88741498e0202eddce7fd3e": {
     "model_module": "@jupyter-widgets/base",
     "model_module_version": "1.2.0",
     "model_name": "LayoutModel",
     "state": {
      "_model_module": "@jupyter-widgets/base",
      "_model_module_version": "1.2.0",
      "_model_name": "LayoutModel",
      "_view_count": null,
      "_view_module": "@jupyter-widgets/base",
      "_view_module_version": "1.2.0",
      "_view_name": "LayoutView",
      "align_content": null,
      "align_items": null,
      "align_self": null,
      "border": null,
      "bottom": null,
      "display": null,
      "flex": null,
      "flex_flow": null,
      "grid_area": null,
      "grid_auto_columns": null,
      "grid_auto_flow": null,
      "grid_auto_rows": null,
      "grid_column": null,
      "grid_gap": null,
      "grid_row": null,
      "grid_template_areas": null,
      "grid_template_columns": null,
      "grid_template_rows": null,
      "height": null,
      "justify_content": null,
      "justify_items": null,
      "left": null,
      "margin": null,
      "max_height": null,
      "max_width": null,
      "min_height": null,
      "min_width": null,
      "object_fit": null,
      "object_position": null,
      "order": null,
      "overflow": null,
      "overflow_x": null,
      "overflow_y": null,
      "padding": null,
      "right": null,
      "top": null,
      "visibility": null,
      "width": null
     }
    },
    "c8f582670c7c46cea0894a9e27e66d62": {
     "model_module": "@jupyter-widgets/controls",
     "model_module_version": "1.5.0",
     "model_name": "DescriptionStyleModel",
     "state": {
      "_model_module": "@jupyter-widgets/controls",
      "_model_module_version": "1.5.0",
      "_model_name": "DescriptionStyleModel",
      "_view_count": null,
      "_view_module": "@jupyter-widgets/base",
      "_view_module_version": "1.2.0",
      "_view_name": "StyleView",
      "description_width": ""
     }
    },
    "d88c14b99db94e478b18df683f98865e": {
     "model_module": "@jupyter-widgets/base",
     "model_module_version": "1.2.0",
     "model_name": "LayoutModel",
     "state": {
      "_model_module": "@jupyter-widgets/base",
      "_model_module_version": "1.2.0",
      "_model_name": "LayoutModel",
      "_view_count": null,
      "_view_module": "@jupyter-widgets/base",
      "_view_module_version": "1.2.0",
      "_view_name": "LayoutView",
      "align_content": null,
      "align_items": null,
      "align_self": null,
      "border": null,
      "bottom": null,
      "display": null,
      "flex": null,
      "flex_flow": null,
      "grid_area": null,
      "grid_auto_columns": null,
      "grid_auto_flow": null,
      "grid_auto_rows": null,
      "grid_column": null,
      "grid_gap": null,
      "grid_row": null,
      "grid_template_areas": null,
      "grid_template_columns": null,
      "grid_template_rows": null,
      "height": null,
      "justify_content": null,
      "justify_items": null,
      "left": null,
      "margin": null,
      "max_height": null,
      "max_width": null,
      "min_height": null,
      "min_width": null,
      "object_fit": null,
      "object_position": null,
      "order": null,
      "overflow": null,
      "overflow_x": null,
      "overflow_y": null,
      "padding": null,
      "right": null,
      "top": null,
      "visibility": null,
      "width": null
     }
    },
    "e38e4f9d1cce44a3881b16418dbc3fcb": {
     "model_module": "@jupyter-widgets/controls",
     "model_module_version": "1.5.0",
     "model_name": "FloatProgressModel",
     "state": {
      "_dom_classes": [],
      "_model_module": "@jupyter-widgets/controls",
      "_model_module_version": "1.5.0",
      "_model_name": "FloatProgressModel",
      "_view_count": null,
      "_view_module": "@jupyter-widgets/controls",
      "_view_module_version": "1.5.0",
      "_view_name": "ProgressView",
      "bar_style": "success",
      "description": "",
      "description_tooltip": null,
      "layout": "IPY_MODEL_a8aa17acc88741498e0202eddce7fd3e",
      "max": 11314,
      "min": 0,
      "orientation": "horizontal",
      "style": "IPY_MODEL_038f5647baed4b48908c9905a52b0dea",
      "value": 11314
     }
    },
    "f2c6c7bc6e2541108f63c67813b5a771": {
     "model_module": "@jupyter-widgets/base",
     "model_module_version": "1.2.0",
     "model_name": "LayoutModel",
     "state": {
      "_model_module": "@jupyter-widgets/base",
      "_model_module_version": "1.2.0",
      "_model_name": "LayoutModel",
      "_view_count": null,
      "_view_module": "@jupyter-widgets/base",
      "_view_module_version": "1.2.0",
      "_view_name": "LayoutView",
      "align_content": null,
      "align_items": null,
      "align_self": null,
      "border": null,
      "bottom": null,
      "display": null,
      "flex": null,
      "flex_flow": null,
      "grid_area": null,
      "grid_auto_columns": null,
      "grid_auto_flow": null,
      "grid_auto_rows": null,
      "grid_column": null,
      "grid_gap": null,
      "grid_row": null,
      "grid_template_areas": null,
      "grid_template_columns": null,
      "grid_template_rows": null,
      "height": null,
      "justify_content": null,
      "justify_items": null,
      "left": null,
      "margin": null,
      "max_height": null,
      "max_width": null,
      "min_height": null,
      "min_width": null,
      "object_fit": null,
      "object_position": null,
      "order": null,
      "overflow": null,
      "overflow_x": null,
      "overflow_y": null,
      "padding": null,
      "right": null,
      "top": null,
      "visibility": null,
      "width": null
     }
    }
   }
  }
 },
 "nbformat": 4,
 "nbformat_minor": 1
}
